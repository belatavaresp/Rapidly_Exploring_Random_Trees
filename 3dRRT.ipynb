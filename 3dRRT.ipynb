{
 "cells": [
  {
   "cell_type": "code",
   "execution_count": 90,
   "metadata": {},
   "outputs": [],
   "source": [
    "import plotly.graph_objects as go\n",
    "import numpy as np\n",
    "import math\n",
    "import random"
   ]
  },
  {
   "cell_type": "markdown",
   "metadata": {},
   "source": [
    "## Environment "
   ]
  },
  {
   "cell_type": "code",
   "execution_count": 91,
   "metadata": {},
   "outputs": [],
   "source": [
    "\n",
    "class Environment:\n",
    "    def __init__(self, obstacles, xmin, xmax, ymin, ymax, zmin, zmax):\n",
    "        self.obstacles = np.array(obstacles)\n",
    "        self.xmin = xmin\n",
    "        self.xmax = xmax\n",
    "        self.ymin = ymin\n",
    "        self.ymax = ymax\n",
    "        self.zmin = zmin\n",
    "        self.zmax = zmax\n",
    "    \n",
    "    def obsCollision(self, point1, point2):\n",
    "        collision = 1 #assume no collision\n",
    "        for obs in range(len(self.obstacles)):\n",
    "            oXmin, oXmax, oYmin, oYmax = self.obstacles[obs][0], self.obstacles[obs][2], self.obstacles[obs][1], self.obstacles[obs][3]\n",
    "            for u in np.linspace(0,1,101):\n",
    "                x = point1[0] * u + point2[0] * (1 - u)\n",
    "                y = point1[1] * u + point2[1] * (1 - u)\n",
    "                if(x >= oXmin) and (x <= oXmax) and (y >= oYmin) and (y <= oYmax):\n",
    "                    #path is inside an obstacle boundary\n",
    "                    collision = 0\n",
    "                    break\n",
    "            if collision == 0: break\n",
    "        return collision\n",
    "        \n",
    "    def freeSample(self):\n",
    "        n = tree.size() - 1\n",
    "        (x, y, z) = (tree.x[n], tree.y[n], tree.z[n]) #last node added to the tree\n",
    "        for obs in range(len(self.obstacles)):\n",
    "            oXmin, oXmax, oYmin, oYmax = self.obstacles[obs][0], self.obstacles[obs][2], self.obstacles[obs][1], self.obstacles[obs][3]\n",
    "            if(x >= oXmin) and (x <= oXmax) and (y >= oYmin) and (y <= oYmax) and (z >= self.zmin) and (z <= self.zmax):\n",
    "                tree.remove(n) #not a valid sample, should be removed of the tree\n",
    "                return False\n",
    "        return True\n",
    "\n",
    "    def goalRange(self):\n",
    "        n = tree.size() - 1\n",
    "        (x, y, z) = (tree.x[n], tree.y[n], tree.z[n]) #last node added to the tree\n",
    "        if(x >= goalXmin) and (x <= goalXmax) and (y >= goalYmin) and (y <= goalYmax) and (z >= goalZmin) and (z <= goalZmax):\n",
    "            return True\n",
    "        else:\n",
    "            return False\n",
    "        \n",
    "    def isFreeXY(self, x, y):\n",
    "        for obs in range(len(self.obstacles)):\n",
    "            oXmin, oXmax, oYmin, oYmax = self.obstacles[obs][0], self.obstacles[obs][2], self.obstacles[obs][1], self.obstacles[obs][3]\n",
    "            if(x >= oXmin) and (x <= oXmax) and (y >= oYmin) and (y <= oYmax):\n",
    "                return False\n",
    "        return True"
   ]
  },
  {
   "cell_type": "markdown",
   "metadata": {},
   "source": [
    "## RRT"
   ]
  },
  {
   "cell_type": "code",
   "execution_count": 92,
   "metadata": {},
   "outputs": [],
   "source": [
    "class RRT3d:\n",
    "    def __init__(self, start):\n",
    "        (x,y,z) = start\n",
    "        self.x = np.array([x])\n",
    "        self.y = np.array([y])\n",
    "        self.z = np.array([z])\n",
    "        self.parent = np.array([0])\n",
    "        \n",
    "    def distance(self, n1, n2):\n",
    "        p1 = np.array([self.x[n1], self.y[n1], self.z[n1]])\n",
    "        p2 = np.array([self.x[n2], self.y[n2], self.z[n2]])\n",
    "\n",
    "        dist = np.linalg.norm(p1 - p2)\n",
    "\n",
    "        return dist\n",
    "    \n",
    "    def size(self):\n",
    "        return len(self.x)\n",
    "    \n",
    "    def add(self, n, x, y, z):\n",
    "        self.x = np.insert(self.x, n, x)\n",
    "        self.y = np.insert(self.y, n, y)\n",
    "        self.z = np.insert(self.z, n, z)\n",
    "\n",
    "    # Remove node\n",
    "    def remove(self, n):\n",
    "        self.x = np.delete(self.x, n)\n",
    "        self.y = np.delete(self.y, n)\n",
    "        self.z = np.delete(self.z, n)\n",
    "        \n",
    "    def addEdge(self, parent, child):\n",
    "        self.parent = np.insert(self.parent, child, parent)\n",
    "\n",
    "    def removeEdge(self, n):\n",
    "        self.parent = np.delete(self.parent, n)\n",
    "        \n",
    "    def step(self, near, rand):\n",
    "        d = self.distance(near, rand)\n",
    "        if d > stepSize:\n",
    "            u = stepSize / d\n",
    "            (xnear, ynear, znear) = (self.x[near], self.y[near], self.z[near])\n",
    "            (xrand, yrand, zrand) = (self.x[rand], self.y[rand], self.z[rand])\n",
    "            (px, py, pz) = (xrand - xnear, yrand - ynear, zrand - znear)\n",
    "            theta = math.atan2(py, px)\n",
    "            x = xnear + stepSize * math.cos(theta)\n",
    "            y = ynear + stepSize * math.sin(theta)\n",
    "            alpha = math.atan2(pz, y)\n",
    "            z = znear + stepSize * math.sin(alpha)\n",
    "            \n",
    "            # Remove the old node and add the updated node (between rand and near)\n",
    "            self.remove(rand)\n",
    "            self.add(rand, x, y, z)\n",
    "            \n",
    "    def near(self, n):\n",
    "        min = self.distance(0,n)\n",
    "        nearNode = 0\n",
    "        for i in range(0,n):\n",
    "            if self.distance(i, n) < min:\n",
    "                min = self.distance(i, n)\n",
    "                nearNode = i\n",
    "        return nearNode\n",
    "    \n",
    "    def connect(self, node1, node2):\n",
    "        point1 = (self.x[node1],self.y[node1],self.z[node1])\n",
    "        point2 = (self.x[node2],self.y[node2],self.z[node2])\n",
    "        n = tree.size() - 1 \n",
    "        if environment.obsCollision(point1, point2) == 0:\n",
    "            self.remove(node2) #can't connect (obstacle collision detected)\n",
    "        else:\n",
    "            self.addEdge(node1, node2)\n",
    "            \n",
    "    def expand(self):\n",
    "        x = random.uniform (environment.xmin, environment.xmax)\n",
    "        y = random.uniform (environment.ymin, environment.ymax)\n",
    "        z = random.uniform (environment.zmin, environment.zmax)\n",
    "        n = self.size()\n",
    "        self.add(n, x, y, z)\n",
    "        if environment.freeSample()!=0: #lattest added node must be valid\n",
    "            nearest = self.near(n)\n",
    "            self.step(nearest, n)\n",
    "            self.connect(nearest, n)\n",
    "            \n",
    "    def bias(self):\n",
    "        n = self.size()\n",
    "        self.add(n, goalX, goalY, goalZ)\n",
    "        nearest = self.near(n)\n",
    "        self.step(nearest, n)\n",
    "        self.connect(nearest, n)\n",
    "    \n",
    "    def clear(self, start):\n",
    "        (x,y,z) = start\n",
    "        self.x = np.array([x])\n",
    "        self.y = np.array([y])\n",
    "        self.z = np.array([z])\n",
    "        self.parent = np.array([0])\n",
    "    \n",
    "    def pathToGoal(self):\n",
    "        # find goal state\n",
    "        goalStateIndices = np.where((self.x >= goalXmin) & (self.x <= goalXmax) &\n",
    "                                    (self.y >= goalYmin) & (self.y <= goalYmax) &\n",
    "                                    (self.z >= goalZmin) & (self.z <= goalZmax))[0]\n",
    "\n",
    "        if len(goalStateIndices) == 0:\n",
    "            return  # No goal state found\n",
    "\n",
    "        self.goalstate = goalStateIndices[0]\n",
    "\n",
    "        # add goal state and its parent nodes to the path\n",
    "        self.path = [self.goalstate]\n",
    "        newPos = self.parent[self.goalstate]\n",
    "\n",
    "        # keep adding parents\n",
    "        while newPos != 0:\n",
    "            self.path.append(newPos)\n",
    "            newPos = self.parent[newPos]\n",
    "\n",
    "        # add start state\n",
    "        self.path.append(0)\n",
    "\n",
    "    def prun(self):\n",
    "        s = 0\n",
    "        e = 2\n",
    "        self.tpath = []\n",
    "        self.tpath.append(self.path[s])\n",
    "        for e in range(len(self.path)-1):\n",
    "            p1=self.x[self.path[s]],self.y[self.path[s]],self.z[self.path[s]]\n",
    "            p2=self.x[self.path[e]],self.y[self.path[e]],self.z[self.path[e]]\n",
    "            print(p1,p2)\n",
    "            print(p1[0],p1[1])\n",
    "            if environment.obsCollision(p1,p2)==0: #CC is detected\n",
    "                c=0\n",
    "                self.tpath.append(self.path[e-1])\n",
    "                s=e-1\n",
    "        self.tpath.append(self.path[-1])\t\n",
    "\n",
    "    def waypoints(self):\n",
    "        self.wayx = []\n",
    "        self.wayy = []\n",
    "        self.wayz = []\n",
    "        self.newStart = []\n",
    "        \n",
    "        for i in range (0,len(self.tpath)-1):\n",
    "            (x1,y1,z1)=(self.x[self.tpath[i]],self.y[self.tpath[i]],self.z[self.tpath[i]])\n",
    "            (x2,y2,z2)=(self.x[self.tpath[i+1]],self.y[self.tpath[i+1]],self.z[self.tpath[i+1]])\n",
    "            for j in range (0,101):\n",
    "                dt=j/100.0\n",
    "                x=x1*(dt)+x2*(1-dt)\n",
    "                y=y1*(dt)+y2*(1-dt)\n",
    "                z=z1*(dt)+z2*(1-dt)\n",
    "                self.wayx.append(x)\n",
    "                self.wayy.append(y)\n",
    "                self.wayz.append(z)\n",
    "\t\t\t\t#measurement update\n",
    "\t\t\t\t#collision after update\n",
    "                if environment.isFreeXY(x,y)==0:\n",
    "\t\t\t\t\t#point before collision is used for generating new plan\n",
    "                    self.newStart.append(i*101+j-10)\n",
    "                    break\n",
    "\n",
    "    def sense(self):\n",
    "        while len(self.newStart) != 0:\n",
    "            # First observation state\n",
    "            cn = self.newStart[0]\n",
    "            cx, cy, cz = self.wayx[cn], self.wayy[cn], self.wayz[cn]\n",
    "            self.clear((cx, cy, cz))\n",
    "\n",
    "            # Balance between extending and biasing\n",
    "            for i in range(0, maxIter):\n",
    "                if i % 10 != 0:\n",
    "                    self.expand()\n",
    "                else:\n",
    "                    self.bias()\n",
    "\n",
    "                # Check if sample is in goal, if so STOP!\n",
    "                if environment.goalRange() == 1:\n",
    "                    break\n",
    "\n",
    "            # Visualize the current state with a Plotly marker\n",
    "            cn = self.newStart[0]\n",
    "            cx, cy, cz = self.wayx[cn], self.wayy[cn], self.wayz[cn]\n",
    "\n",
    "            fig.add_trace(go.Scatter3d(x=[cx], y=[cy], z=[cz], mode='markers', marker=dict(color='yellow', size=75, opacity=0.3)))\n",
    "\n",
    "            # Find path in RRT\n",
    "            self.pathToGoal()\n",
    "            self.prun()\n",
    "\n",
    "            # Display the updated plan under limited sensing\n",
    "            draw()\n",
    "\n",
    "            # Execute the waypoints\n",
    "            self.waypoints()\n",
    "            \n",
    "    #draw tree\n",
    "    def showTree(self):\n",
    "        for i in range(0, self.number_of_nodes()):\n",
    "            par = self.parent[i]\n",
    "            x = [self.x[i], self.x[par]]\n",
    "            y = [self.y[i], self.y[par]]\n",
    "            z = [self.z[i], self.z[par]]\n",
    "            fig.add_trace(go.Scatter3d(x=x, y=y, z=z, mode='lines', line=dict(color='blue', width=1)))\n",
    "\t\t\t\n",
    "\t#draw path \n",
    "    def showPath(self):\n",
    "        for i in range(len(self.path) - 1):\n",
    "            n1 = self.path[i]\n",
    "            n2 = self.path[i + 1]\n",
    "            x = [self.x[n1], self.x[n2]]\n",
    "            y = [self.y[n1], self.y[n2]]\n",
    "            z = [self.z[n1], self.z[n2]]\n",
    "            fig.add_trace(go.Scatter3d(x=x, y=y, z=z, mode='lines+markers', line=dict(color='red', width=2), marker=dict(size=4)))\n",
    "\t\t\t \n",
    "\t#draw path to be executed\n",
    "    def showTpath(self):\n",
    "        for i in range(len(self.tpath) - 1):\n",
    "            n1 = self.tpath[i]\n",
    "            n2 = self.tpath[i + 1]\n",
    "            x = [self.x[n1], self.x[n2]]\n",
    "            y = [self.y[n1], self.y[n2]]\n",
    "            z = [self.z[n1], self.z[n2]]\n",
    "            fig.add_trace(go.Scatter3d(x=x, y=y, z=z, mode='lines+markers', line=dict(color='green', width=2), marker=dict(size=5)))"
   ]
  },
  {
   "cell_type": "code",
   "execution_count": 93,
   "metadata": {},
   "outputs": [],
   "source": [
    "startPoint = (100,100,100)\n",
    "\n",
    "goalX = 5\n",
    "goalY = 5\n",
    "goalZ = 5\n",
    "\n",
    "delta = 5 #maximum acceptable distance from goal location\n",
    "\n",
    "goalXmin = goalX - delta\n",
    "goalXmax = goalX + delta\n",
    "\n",
    "goalYmin = goalY - delta\n",
    "goalYmax = goalY + delta\n",
    "\n",
    "goalZmin = goalZ - delta\n",
    "goalZmax = goalZ + delta\n",
    "\n",
    "stepSize = 5\n",
    "maxIter = 5000\n",
    "\n",
    "vx = [40, 40, 60, 60, 70, 70, 80, 80, 40, 40, 60, 60, 15, 15, 25, 25, 25, 25, 35, 35]\n",
    "vy = [52, 100, 100, 52, 40, 60, 60, 40, 0, 48, 48, 0, 15, 30, 30, 15, 40, 60, 60, 40]\n",
    "vz = [0, 100]\n",
    "#hidden obstacle\n",
    "hvx = []\n",
    "#[15, 15, 25, 25, 25, 25, 35, 35]\n",
    "hvy = []\n",
    "#[15, 30, 30, 15, 40, 60, 60, 40]\n",
    "\n",
    "obstacles = [\n",
    "    (vx[0], vx[2], vy[0], vy[2], vz[0], vz[1]),  # Obstacle 1\n",
    "    (vx[4], vx[6], vy[4], vy[6], vz[0], vz[1]),  # Obstacle 2\n",
    "    (vx[8], vx[10], vy[8], vy[10], vz[0], vz[1]),  # Obstacle 3\n",
    "    (vx[12], vx[14], vy[12], vy[14], vz[0], vz[1]),  # Obstacle 4\n",
    "    (vx[16], vx[18], vy[16], vy[18], vz[0], vz[1]),  # Obstacle 5\n",
    "]\n",
    "\n",
    "tree = RRT3d(startPoint)\n",
    "environment = Environment(obstacles, 0, 100, 0, 100, 0, 100)\n",
    "\n",
    "fig = go.Figure()"
   ]
  },
  {
   "cell_type": "code",
   "execution_count": 94,
   "metadata": {},
   "outputs": [],
   "source": [
    "# obst = obstacles\n",
    "# print(obst)\n",
    "# for i in range(len(obst)):\n",
    "#     o1, o2, o3, o4 = obst[i][0], obst[i][2], obst[i][1], obst[i][3]\n",
    "#     print(o1,o2,o3,o4)\n",
    "\n",
    "# obs_num = len(vx)//4 #four vertices for each rectangular obstacle\n",
    "# for i in range(1,obs_num+1):\n",
    "#     xo=vx[4*(i-1)]\n",
    "#     xm=vx[4*(i-1)+2]\n",
    "#     yo=vy[4*(i-1)]\n",
    "#     ym=vy[4*(i-1)+1]  \n",
    "#     print(xo,xm,yo,ym)"
   ]
  },
  {
   "cell_type": "code",
   "execution_count": 95,
   "metadata": {},
   "outputs": [],
   "source": [
    "def cubedraw(x, y, zl, zh, color, dash='solid'):\n",
    "    for i in range(0, len(x) - 1):\n",
    "        obx = [x[i], x[i + 1], x[i + 1], x[i], x[i]]\n",
    "        oby = [y[i], y[i], y[i + 1], y[i + 1], y[i]]\n",
    "        obz = [zl[i], zl[i], zh[i], zh[i], zl[i]]\n",
    "        fig.add_trace(go.Scatter3d(x=obx, y=oby, z=obz, mode='lines', line=dict(color=color, dash=dash)))\n",
    "\n",
    "# Draw trees and environment\n",
    "def draw():\n",
    "    # Draw obstacles\n",
    "    for obs in range(len(environment.obstacles)):\n",
    "        obx = [environment.obstacles[obs][0], environment.obstacles[obs][1], environment.obstacles[obs][1], environment.obstacles[obs][0], environment.obstacles[obs][0]]\n",
    "        oby = [environment.obstacles[obs][2], environment.obstacles[obs][2], environment.obstacles[obs][3], environment.obstacles[obs][3], environment.obstacles[obs][2]]\n",
    "        obzl = [environment.zmin] * 5  # Set the lower z-coordinate for the bottom of the obstacle\n",
    "        obzh = [environment.zmax] * 5  # Set the upper z-coordinate for the top of the obstacle\n",
    "        fig.add_trace(go.Scatter3d(x=obx, y=oby, z=obzl, mode='lines', line=dict(color='black')))\n",
    "        fig.add_trace(go.Scatter3d(x=obx, y=oby, z=obzh, mode='lines', line=dict(color='black')))\n",
    "        cubedraw(obx, oby, obzl, obzh, 'black')\n",
    "\n",
    "\n",
    "    # Draw tree edges\n",
    "    for i in range(0, len(tree.parent)):\n",
    "        par = tree.parent[i]\n",
    "        x = [tree.x[i], tree.x[par]]\n",
    "        y = [tree.y[i], tree.y[par]]\n",
    "        z = [tree.z[i], tree.z[par]]\n",
    "        fig.add_trace(go.Scatter3d(x=x, y=y, z=z, mode='lines', line=dict(color='blue', width=1)))\n",
    "\n",
    "    # Draw path\n",
    "    for i in range(len(tree.path) - 1):\n",
    "        n1 = tree.path[i]\n",
    "        n2 = tree.path[i + 1]\n",
    "        x = [tree.x[n1], tree.x[n2]]\n",
    "        y = [tree.y[n1], tree.y[n2]]\n",
    "        z = [tree.z[n1], tree.z[n2]]\n",
    "        fig.add_trace(go.Scatter3d(x=x, y=y, z=z, mode='lines+markers', line=dict(color='red', width=2), marker=dict(size=4)))\n",
    "\n",
    "    # Draw path to be executed\n",
    "    for i in range(len(tree.tpath) - 1):\n",
    "        n1 = tree.tpath[i]\n",
    "        n2 = tree.tpath[i + 1]\n",
    "        x = [tree.x[n1], tree.x[n2]]\n",
    "        y = [tree.y[n1], tree.y[n2]]\n",
    "        z = [tree.z[n1], tree.z[n2]]\n",
    "        fig.add_trace(go.Scatter3d(x=x, y=y, z=z, mode='lines+markers', line=dict(color='green', width=2), marker=dict(size=5)))\n",
    "\n",
    "    # Draw goal region\n",
    "    fig.add_trace(go.Scatter3d(x=[goalXmin, goalXmin, goalXmax, goalXmax, goalXmin], y=[goalYmin, goalYmax, goalYmax, goalYmin, goalYmin], z=[goalZmin, goalZmin, goalZmin, goalZmin, goalZmin], mode='lines', line=dict(color='gray')))\n",
    "\n",
    "    # Set the layout and display the plot\n",
    "    fig.update_layout(scene=dict(aspectmode='cube'))\n",
    "    fig.show()"
   ]
  },
  {
   "cell_type": "code",
   "execution_count": 96,
   "metadata": {},
   "outputs": [
    {
     "name": "stdout",
     "output_type": "stream",
     "text": [
      "found\n",
      "(3, 3, 6) (3, 3, 6)\n",
      "3 3\n",
      "(3, 3, 6) (7, 7, 11)\n",
      "3 3\n",
      "(3, 3, 6) (11, 11, 16)\n",
      "3 3\n",
      "(3, 3, 6) (15, 15, 20)\n",
      "3 3\n",
      "(3, 3, 6) (20, 16, 23)\n",
      "3 3\n",
      "(3, 3, 6) (25, 19, 28)\n",
      "3 3\n",
      "(3, 3, 6) (27, 15, 31)\n",
      "3 3\n",
      "(3, 3, 6) (32, 18, 36)\n",
      "3 3\n",
      "(3, 3, 6) (36, 15, 35)\n",
      "3 3\n",
      "(3, 3, 6) (41, 17, 34)\n",
      "3 3\n",
      "(3, 3, 6) (46, 19, 39)\n",
      "3 3\n",
      "(3, 3, 6) (51, 21, 41)\n",
      "3 3\n",
      "(3, 3, 6) (56, 23, 38)\n",
      "3 3\n",
      "(3, 3, 6) (61, 25, 43)\n",
      "3 3\n",
      "(3, 3, 6) (59, 30, 47)\n",
      "3 3\n",
      "(3, 3, 6) (64, 33, 52)\n",
      "3 3\n",
      "(3, 3, 6) (69, 36, 56)\n",
      "3 3\n",
      "(3, 3, 6) (73, 40, 60)\n",
      "3 3\n",
      "(3, 3, 6) (71, 45, 64)\n",
      "3 3\n",
      "(3, 3, 6) (74, 50, 64)\n",
      "3 3\n",
      "(3, 3, 6) (77, 55, 69)\n",
      "3 3\n",
      "(3, 3, 6) (73, 58, 73)\n",
      "3 3\n",
      "(3, 3, 6) (72, 63, 77)\n",
      "3 3\n",
      "(3, 3, 6) (71, 68, 77)\n",
      "3 3\n",
      "(72, 63, 77) (67, 71, 77)\n",
      "72 63\n",
      "(72, 63, 77) (69, 76, 79)\n",
      "72 63\n",
      "(72, 63, 77) (73, 80, 83)\n",
      "72 63\n",
      "(72, 63, 77) (78, 83, 83)\n",
      "72 63\n",
      "(72, 63, 77) (82, 87, 86)\n",
      "72 63\n",
      "(72, 63, 77) (81, 92, 88)\n",
      "72 63\n",
      "(72, 63, 77) (86, 93, 91)\n",
      "72 63\n",
      "(72, 63, 77) (91, 94, 92)\n",
      "72 63\n",
      "(72, 63, 77) (96, 96, 96)\n",
      "72 63\n"
     ]
    },
    {
     "data": {
      "application/vnd.plotly.v1+json": {
       "config": {
        "plotlyServerURL": "https://plot.ly"
       },
       "data": [
        {
         "line": {
          "color": "black"
         },
         "mode": "lines",
         "type": "scatter3d",
         "x": [
          40,
          60,
          60,
          40,
          40
         ],
         "y": [
          52,
          52,
          100,
          100,
          52
         ],
         "z": [
          0,
          0,
          0,
          0,
          0
         ]
        },
        {
         "line": {
          "color": "black"
         },
         "mode": "lines",
         "type": "scatter3d",
         "x": [
          40,
          60,
          60,
          40,
          40
         ],
         "y": [
          52,
          52,
          100,
          100,
          52
         ],
         "z": [
          100,
          100,
          100,
          100,
          100
         ]
        },
        {
         "line": {
          "color": "black",
          "dash": "solid"
         },
         "mode": "lines",
         "type": "scatter3d",
         "x": [
          40,
          60,
          60,
          40,
          40
         ],
         "y": [
          52,
          52,
          52,
          52,
          52
         ],
         "z": [
          0,
          0,
          100,
          100,
          0
         ]
        },
        {
         "line": {
          "color": "black",
          "dash": "solid"
         },
         "mode": "lines",
         "type": "scatter3d",
         "x": [
          60,
          60,
          60,
          60,
          60
         ],
         "y": [
          52,
          52,
          100,
          100,
          52
         ],
         "z": [
          0,
          0,
          100,
          100,
          0
         ]
        },
        {
         "line": {
          "color": "black",
          "dash": "solid"
         },
         "mode": "lines",
         "type": "scatter3d",
         "x": [
          60,
          40,
          40,
          60,
          60
         ],
         "y": [
          100,
          100,
          100,
          100,
          100
         ],
         "z": [
          0,
          0,
          100,
          100,
          0
         ]
        },
        {
         "line": {
          "color": "black",
          "dash": "solid"
         },
         "mode": "lines",
         "type": "scatter3d",
         "x": [
          40,
          40,
          40,
          40,
          40
         ],
         "y": [
          100,
          100,
          52,
          52,
          100
         ],
         "z": [
          0,
          0,
          100,
          100,
          0
         ]
        },
        {
         "line": {
          "color": "black"
         },
         "mode": "lines",
         "type": "scatter3d",
         "x": [
          70,
          80,
          80,
          70,
          70
         ],
         "y": [
          40,
          40,
          60,
          60,
          40
         ],
         "z": [
          0,
          0,
          0,
          0,
          0
         ]
        },
        {
         "line": {
          "color": "black"
         },
         "mode": "lines",
         "type": "scatter3d",
         "x": [
          70,
          80,
          80,
          70,
          70
         ],
         "y": [
          40,
          40,
          60,
          60,
          40
         ],
         "z": [
          100,
          100,
          100,
          100,
          100
         ]
        },
        {
         "line": {
          "color": "black",
          "dash": "solid"
         },
         "mode": "lines",
         "type": "scatter3d",
         "x": [
          70,
          80,
          80,
          70,
          70
         ],
         "y": [
          40,
          40,
          40,
          40,
          40
         ],
         "z": [
          0,
          0,
          100,
          100,
          0
         ]
        },
        {
         "line": {
          "color": "black",
          "dash": "solid"
         },
         "mode": "lines",
         "type": "scatter3d",
         "x": [
          80,
          80,
          80,
          80,
          80
         ],
         "y": [
          40,
          40,
          60,
          60,
          40
         ],
         "z": [
          0,
          0,
          100,
          100,
          0
         ]
        },
        {
         "line": {
          "color": "black",
          "dash": "solid"
         },
         "mode": "lines",
         "type": "scatter3d",
         "x": [
          80,
          70,
          70,
          80,
          80
         ],
         "y": [
          60,
          60,
          60,
          60,
          60
         ],
         "z": [
          0,
          0,
          100,
          100,
          0
         ]
        },
        {
         "line": {
          "color": "black",
          "dash": "solid"
         },
         "mode": "lines",
         "type": "scatter3d",
         "x": [
          70,
          70,
          70,
          70,
          70
         ],
         "y": [
          60,
          60,
          40,
          40,
          60
         ],
         "z": [
          0,
          0,
          100,
          100,
          0
         ]
        },
        {
         "line": {
          "color": "black"
         },
         "mode": "lines",
         "type": "scatter3d",
         "x": [
          40,
          60,
          60,
          40,
          40
         ],
         "y": [
          0,
          0,
          48,
          48,
          0
         ],
         "z": [
          0,
          0,
          0,
          0,
          0
         ]
        },
        {
         "line": {
          "color": "black"
         },
         "mode": "lines",
         "type": "scatter3d",
         "x": [
          40,
          60,
          60,
          40,
          40
         ],
         "y": [
          0,
          0,
          48,
          48,
          0
         ],
         "z": [
          100,
          100,
          100,
          100,
          100
         ]
        },
        {
         "line": {
          "color": "black",
          "dash": "solid"
         },
         "mode": "lines",
         "type": "scatter3d",
         "x": [
          40,
          60,
          60,
          40,
          40
         ],
         "y": [
          0,
          0,
          0,
          0,
          0
         ],
         "z": [
          0,
          0,
          100,
          100,
          0
         ]
        },
        {
         "line": {
          "color": "black",
          "dash": "solid"
         },
         "mode": "lines",
         "type": "scatter3d",
         "x": [
          60,
          60,
          60,
          60,
          60
         ],
         "y": [
          0,
          0,
          48,
          48,
          0
         ],
         "z": [
          0,
          0,
          100,
          100,
          0
         ]
        },
        {
         "line": {
          "color": "black",
          "dash": "solid"
         },
         "mode": "lines",
         "type": "scatter3d",
         "x": [
          60,
          40,
          40,
          60,
          60
         ],
         "y": [
          48,
          48,
          48,
          48,
          48
         ],
         "z": [
          0,
          0,
          100,
          100,
          0
         ]
        },
        {
         "line": {
          "color": "black",
          "dash": "solid"
         },
         "mode": "lines",
         "type": "scatter3d",
         "x": [
          40,
          40,
          40,
          40,
          40
         ],
         "y": [
          48,
          48,
          0,
          0,
          48
         ],
         "z": [
          0,
          0,
          100,
          100,
          0
         ]
        },
        {
         "line": {
          "color": "black"
         },
         "mode": "lines",
         "type": "scatter3d",
         "x": [
          15,
          25,
          25,
          15,
          15
         ],
         "y": [
          15,
          15,
          30,
          30,
          15
         ],
         "z": [
          0,
          0,
          0,
          0,
          0
         ]
        },
        {
         "line": {
          "color": "black"
         },
         "mode": "lines",
         "type": "scatter3d",
         "x": [
          15,
          25,
          25,
          15,
          15
         ],
         "y": [
          15,
          15,
          30,
          30,
          15
         ],
         "z": [
          100,
          100,
          100,
          100,
          100
         ]
        },
        {
         "line": {
          "color": "black",
          "dash": "solid"
         },
         "mode": "lines",
         "type": "scatter3d",
         "x": [
          15,
          25,
          25,
          15,
          15
         ],
         "y": [
          15,
          15,
          15,
          15,
          15
         ],
         "z": [
          0,
          0,
          100,
          100,
          0
         ]
        },
        {
         "line": {
          "color": "black",
          "dash": "solid"
         },
         "mode": "lines",
         "type": "scatter3d",
         "x": [
          25,
          25,
          25,
          25,
          25
         ],
         "y": [
          15,
          15,
          30,
          30,
          15
         ],
         "z": [
          0,
          0,
          100,
          100,
          0
         ]
        },
        {
         "line": {
          "color": "black",
          "dash": "solid"
         },
         "mode": "lines",
         "type": "scatter3d",
         "x": [
          25,
          15,
          15,
          25,
          25
         ],
         "y": [
          30,
          30,
          30,
          30,
          30
         ],
         "z": [
          0,
          0,
          100,
          100,
          0
         ]
        },
        {
         "line": {
          "color": "black",
          "dash": "solid"
         },
         "mode": "lines",
         "type": "scatter3d",
         "x": [
          15,
          15,
          15,
          15,
          15
         ],
         "y": [
          30,
          30,
          15,
          15,
          30
         ],
         "z": [
          0,
          0,
          100,
          100,
          0
         ]
        },
        {
         "line": {
          "color": "black"
         },
         "mode": "lines",
         "type": "scatter3d",
         "x": [
          25,
          35,
          35,
          25,
          25
         ],
         "y": [
          40,
          40,
          60,
          60,
          40
         ],
         "z": [
          0,
          0,
          0,
          0,
          0
         ]
        },
        {
         "line": {
          "color": "black"
         },
         "mode": "lines",
         "type": "scatter3d",
         "x": [
          25,
          35,
          35,
          25,
          25
         ],
         "y": [
          40,
          40,
          60,
          60,
          40
         ],
         "z": [
          100,
          100,
          100,
          100,
          100
         ]
        },
        {
         "line": {
          "color": "black",
          "dash": "solid"
         },
         "mode": "lines",
         "type": "scatter3d",
         "x": [
          25,
          35,
          35,
          25,
          25
         ],
         "y": [
          40,
          40,
          40,
          40,
          40
         ],
         "z": [
          0,
          0,
          100,
          100,
          0
         ]
        },
        {
         "line": {
          "color": "black",
          "dash": "solid"
         },
         "mode": "lines",
         "type": "scatter3d",
         "x": [
          35,
          35,
          35,
          35,
          35
         ],
         "y": [
          40,
          40,
          60,
          60,
          40
         ],
         "z": [
          0,
          0,
          100,
          100,
          0
         ]
        },
        {
         "line": {
          "color": "black",
          "dash": "solid"
         },
         "mode": "lines",
         "type": "scatter3d",
         "x": [
          35,
          25,
          25,
          35,
          35
         ],
         "y": [
          60,
          60,
          60,
          60,
          60
         ],
         "z": [
          0,
          0,
          100,
          100,
          0
         ]
        },
        {
         "line": {
          "color": "black",
          "dash": "solid"
         },
         "mode": "lines",
         "type": "scatter3d",
         "x": [
          25,
          25,
          25,
          25,
          25
         ],
         "y": [
          60,
          60,
          40,
          40,
          60
         ],
         "z": [
          0,
          0,
          100,
          100,
          0
         ]
        },
        {
         "line": {
          "color": "blue",
          "width": 1
         },
         "mode": "lines",
         "type": "scatter3d",
         "x": [
          100,
          100
         ],
         "y": [
          100,
          100
         ],
         "z": [
          100,
          100
         ]
        },
        {
         "line": {
          "color": "blue",
          "width": 1
         },
         "mode": "lines",
         "type": "scatter3d",
         "x": [
          96,
          100
         ],
         "y": [
          96,
          100
         ],
         "z": [
          96,
          100
         ]
        },
        {
         "line": {
          "color": "blue",
          "width": 1
         },
         "mode": "lines",
         "type": "scatter3d",
         "x": [
          91,
          96
         ],
         "y": [
          94,
          96
         ],
         "z": [
          92,
          96
         ]
        },
        {
         "line": {
          "color": "blue",
          "width": 1
         },
         "mode": "lines",
         "type": "scatter3d",
         "x": [
          86,
          91
         ],
         "y": [
          93,
          94
         ],
         "z": [
          91,
          92
         ]
        },
        {
         "line": {
          "color": "blue",
          "width": 1
         },
         "mode": "lines",
         "type": "scatter3d",
         "x": [
          81,
          86
         ],
         "y": [
          92,
          93
         ],
         "z": [
          88,
          91
         ]
        },
        {
         "line": {
          "color": "blue",
          "width": 1
         },
         "mode": "lines",
         "type": "scatter3d",
         "x": [
          82,
          81
         ],
         "y": [
          87,
          92
         ],
         "z": [
          86,
          88
         ]
        },
        {
         "line": {
          "color": "blue",
          "width": 1
         },
         "mode": "lines",
         "type": "scatter3d",
         "x": [
          78,
          82
         ],
         "y": [
          83,
          87
         ],
         "z": [
          83,
          86
         ]
        },
        {
         "line": {
          "color": "blue",
          "width": 1
         },
         "mode": "lines",
         "type": "scatter3d",
         "x": [
          73,
          78
         ],
         "y": [
          80,
          83
         ],
         "z": [
          83,
          83
         ]
        },
        {
         "line": {
          "color": "blue",
          "width": 1
         },
         "mode": "lines",
         "type": "scatter3d",
         "x": [
          69,
          73
         ],
         "y": [
          76,
          80
         ],
         "z": [
          79,
          83
         ]
        },
        {
         "line": {
          "color": "blue",
          "width": 1
         },
         "mode": "lines",
         "type": "scatter3d",
         "x": [
          67,
          69
         ],
         "y": [
          71,
          76
         ],
         "z": [
          77,
          79
         ]
        },
        {
         "line": {
          "color": "blue",
          "width": 1
         },
         "mode": "lines",
         "type": "scatter3d",
         "x": [
          71,
          67
         ],
         "y": [
          68,
          71
         ],
         "z": [
          77,
          77
         ]
        },
        {
         "line": {
          "color": "blue",
          "width": 1
         },
         "mode": "lines",
         "type": "scatter3d",
         "x": [
          63,
          67
         ],
         "y": [
          67,
          71
         ],
         "z": [
          73,
          77
         ]
        },
        {
         "line": {
          "color": "blue",
          "width": 1
         },
         "mode": "lines",
         "type": "scatter3d",
         "x": [
          72,
          71
         ],
         "y": [
          63,
          68
         ],
         "z": [
          77,
          77
         ]
        },
        {
         "line": {
          "color": "blue",
          "width": 1
         },
         "mode": "lines",
         "type": "scatter3d",
         "x": [
          58,
          63
         ],
         "y": [
          69,
          67
         ],
         "z": [
          72,
          73
         ]
        },
        {
         "line": {
          "color": "blue",
          "width": 1
         },
         "mode": "lines",
         "type": "scatter3d",
         "x": [
          54,
          58
         ],
         "y": [
          65,
          69
         ],
         "z": [
          68,
          72
         ]
        },
        {
         "line": {
          "color": "blue",
          "width": 1
         },
         "mode": "lines",
         "type": "scatter3d",
         "x": [
          73,
          72
         ],
         "y": [
          58,
          63
         ],
         "z": [
          73,
          77
         ]
        },
        {
         "line": {
          "color": "blue",
          "width": 1
         },
         "mode": "lines",
         "type": "scatter3d",
         "x": [
          77,
          73
         ],
         "y": [
          55,
          58
         ],
         "z": [
          69,
          73
         ]
        },
        {
         "line": {
          "color": "blue",
          "width": 1
         },
         "mode": "lines",
         "type": "scatter3d",
         "x": [
          74,
          77
         ],
         "y": [
          50,
          55
         ],
         "z": [
          64,
          69
         ]
        },
        {
         "line": {
          "color": "blue",
          "width": 1
         },
         "mode": "lines",
         "type": "scatter3d",
         "x": [
          57,
          54
         ],
         "y": [
          68,
          65
         ],
         "z": [
          64,
          68
         ]
        },
        {
         "line": {
          "color": "blue",
          "width": 1
         },
         "mode": "lines",
         "type": "scatter3d",
         "x": [
          71,
          74
         ],
         "y": [
          45,
          50
         ],
         "z": [
          64,
          64
         ]
        },
        {
         "line": {
          "color": "blue",
          "width": 1
         },
         "mode": "lines",
         "type": "scatter3d",
         "x": [
          73,
          71
         ],
         "y": [
          40,
          45
         ],
         "z": [
          60,
          64
         ]
        },
        {
         "line": {
          "color": "blue",
          "width": 1
         },
         "mode": "lines",
         "type": "scatter3d",
         "x": [
          69,
          73
         ],
         "y": [
          36,
          40
         ],
         "z": [
          56,
          60
         ]
        },
        {
         "line": {
          "color": "blue",
          "width": 1
         },
         "mode": "lines",
         "type": "scatter3d",
         "x": [
          64,
          69
         ],
         "y": [
          33,
          36
         ],
         "z": [
          52,
          56
         ]
        },
        {
         "line": {
          "color": "blue",
          "width": 1
         },
         "mode": "lines",
         "type": "scatter3d",
         "x": [
          59,
          64
         ],
         "y": [
          30,
          33
         ],
         "z": [
          47,
          52
         ]
        },
        {
         "line": {
          "color": "blue",
          "width": 1
         },
         "mode": "lines",
         "type": "scatter3d",
         "x": [
          74,
          71
         ],
         "y": [
          41,
          45
         ],
         "z": [
          66,
          64
         ]
        },
        {
         "line": {
          "color": "blue",
          "width": 1
         },
         "mode": "lines",
         "type": "scatter3d",
         "x": [
          76,
          74
         ],
         "y": [
          54,
          50
         ],
         "z": [
          60,
          64
         ]
        },
        {
         "line": {
          "color": "blue",
          "width": 1
         },
         "mode": "lines",
         "type": "scatter3d",
         "x": [
          83,
          81
         ],
         "y": [
          96,
          92
         ],
         "z": [
          87,
          88
         ]
        },
        {
         "line": {
          "color": "blue",
          "width": 1
         },
         "mode": "lines",
         "type": "scatter3d",
         "x": [
          69,
          69
         ],
         "y": [
          31,
          36
         ],
         "z": [
          58,
          56
         ]
        },
        {
         "line": {
          "color": "blue",
          "width": 1
         },
         "mode": "lines",
         "type": "scatter3d",
         "x": [
          61,
          59
         ],
         "y": [
          25,
          30
         ],
         "z": [
          43,
          47
         ]
        },
        {
         "line": {
          "color": "blue",
          "width": 1
         },
         "mode": "lines",
         "type": "scatter3d",
         "x": [
          56,
          61
         ],
         "y": [
          23,
          25
         ],
         "z": [
          38,
          43
         ]
        },
        {
         "line": {
          "color": "blue",
          "width": 1
         },
         "mode": "lines",
         "type": "scatter3d",
         "x": [
          51,
          56
         ],
         "y": [
          21,
          23
         ],
         "z": [
          41,
          38
         ]
        },
        {
         "line": {
          "color": "blue",
          "width": 1
         },
         "mode": "lines",
         "type": "scatter3d",
         "x": [
          71,
          76
         ],
         "y": [
          51,
          54
         ],
         "z": [
          59,
          60
         ]
        },
        {
         "line": {
          "color": "blue",
          "width": 1
         },
         "mode": "lines",
         "type": "scatter3d",
         "x": [
          55,
          59
         ],
         "y": [
          33,
          30
         ],
         "z": [
          45,
          47
         ]
        },
        {
         "line": {
          "color": "blue",
          "width": 1
         },
         "mode": "lines",
         "type": "scatter3d",
         "x": [
          55,
          56
         ],
         "y": [
          18,
          23
         ],
         "z": [
          33,
          38
         ]
        },
        {
         "line": {
          "color": "blue",
          "width": 1
         },
         "mode": "lines",
         "type": "scatter3d",
         "x": [
          46,
          51
         ],
         "y": [
          19,
          21
         ],
         "z": [
          39,
          41
         ]
        },
        {
         "line": {
          "color": "blue",
          "width": 1
         },
         "mode": "lines",
         "type": "scatter3d",
         "x": [
          54,
          57
         ],
         "y": [
          63,
          68
         ],
         "z": [
          62,
          64
         ]
        },
        {
         "line": {
          "color": "blue",
          "width": 1
         },
         "mode": "lines",
         "type": "scatter3d",
         "x": [
          73,
          69
         ],
         "y": [
          35,
          36
         ],
         "z": [
          53,
          56
         ]
        },
        {
         "line": {
          "color": "blue",
          "width": 1
         },
         "mode": "lines",
         "type": "scatter3d",
         "x": [
          80,
          83
         ],
         "y": [
          98,
          96
         ],
         "z": [
          85,
          87
         ]
        },
        {
         "line": {
          "color": "blue",
          "width": 1
         },
         "mode": "lines",
         "type": "scatter3d",
         "x": [
          41,
          46
         ],
         "y": [
          17,
          19
         ],
         "z": [
          34,
          39
         ]
        },
        {
         "line": {
          "color": "blue",
          "width": 1
         },
         "mode": "lines",
         "type": "scatter3d",
         "x": [
          36,
          41
         ],
         "y": [
          15,
          17
         ],
         "z": [
          35,
          34
         ]
        },
        {
         "line": {
          "color": "blue",
          "width": 1
         },
         "mode": "lines",
         "type": "scatter3d",
         "x": [
          53,
          57
         ],
         "y": [
          71,
          68
         ],
         "z": [
          62,
          64
         ]
        },
        {
         "line": {
          "color": "blue",
          "width": 1
         },
         "mode": "lines",
         "type": "scatter3d",
         "x": [
          64,
          69
         ],
         "y": [
          78,
          76
         ],
         "z": [
          79,
          79
         ]
        },
        {
         "line": {
          "color": "blue",
          "width": 1
         },
         "mode": "lines",
         "type": "scatter3d",
         "x": [
          64,
          69
         ],
         "y": [
          28,
          31
         ],
         "z": [
          58,
          58
         ]
        },
        {
         "line": {
          "color": "blue",
          "width": 1
         },
         "mode": "lines",
         "type": "scatter3d",
         "x": [
          59,
          55
         ],
         "y": [
          16,
          18
         ],
         "z": [
          30,
          33
         ]
        },
        {
         "line": {
          "color": "blue",
          "width": 1
         },
         "mode": "lines",
         "type": "scatter3d",
         "x": [
          32,
          36
         ],
         "y": [
          18,
          15
         ],
         "z": [
          36,
          35
         ]
        },
        {
         "line": {
          "color": "blue",
          "width": 1
         },
         "mode": "lines",
         "type": "scatter3d",
         "x": [
          81,
          80
         ],
         "y": [
          96,
          98
         ],
         "z": [
          84,
          85
         ]
        },
        {
         "line": {
          "color": "blue",
          "width": 1
         },
         "mode": "lines",
         "type": "scatter3d",
         "x": [
          66,
          64
         ],
         "y": [
          23,
          28
         ],
         "z": [
          62,
          58
         ]
        },
        {
         "line": {
          "color": "blue",
          "width": 1
         },
         "mode": "lines",
         "type": "scatter3d",
         "x": [
          74,
          71
         ],
         "y": [
          54,
          51
         ],
         "z": [
          56,
          59
         ]
        },
        {
         "line": {
          "color": "blue",
          "width": 1
         },
         "mode": "lines",
         "type": "scatter3d",
         "x": [
          27,
          32
         ],
         "y": [
          15,
          18
         ],
         "z": [
          31,
          36
         ]
        },
        {
         "line": {
          "color": "blue",
          "width": 1
         },
         "mode": "lines",
         "type": "scatter3d",
         "x": [
          77,
          73
         ],
         "y": [
          33,
          35
         ],
         "z": [
          52,
          53
         ]
        },
        {
         "line": {
          "color": "blue",
          "width": 1
         },
         "mode": "lines",
         "type": "scatter3d",
         "x": [
          56,
          59
         ],
         "y": [
          11,
          16
         ],
         "z": [
          25,
          30
         ]
        },
        {
         "line": {
          "color": "blue",
          "width": 1
         },
         "mode": "lines",
         "type": "scatter3d",
         "x": [
          72,
          74
         ],
         "y": [
          58,
          54
         ],
         "z": [
          55,
          56
         ]
        },
        {
         "line": {
          "color": "blue",
          "width": 1
         },
         "mode": "lines",
         "type": "scatter3d",
         "x": [
          25,
          27
         ],
         "y": [
          19,
          15
         ],
         "z": [
          28,
          31
         ]
        },
        {
         "line": {
          "color": "blue",
          "width": 1
         },
         "mode": "lines",
         "type": "scatter3d",
         "x": [
          27,
          32
         ],
         "y": [
          16,
          18
         ],
         "z": [
          40,
          36
         ]
        },
        {
         "line": {
          "color": "blue",
          "width": 1
         },
         "mode": "lines",
         "type": "scatter3d",
         "x": [
          20,
          25
         ],
         "y": [
          16,
          19
         ],
         "z": [
          23,
          28
         ]
        },
        {
         "line": {
          "color": "blue",
          "width": 1
         },
         "mode": "lines",
         "type": "scatter3d",
         "x": [
          77,
          77
         ],
         "y": [
          37,
          33
         ],
         "z": [
          48,
          52
         ]
        },
        {
         "line": {
          "color": "blue",
          "width": 1
         },
         "mode": "lines",
         "type": "scatter3d",
         "x": [
          80,
          77
         ],
         "y": [
          29,
          33
         ],
         "z": [
          50,
          52
         ]
        },
        {
         "line": {
          "color": "blue",
          "width": 1
         },
         "mode": "lines",
         "type": "scatter3d",
         "x": [
          72,
          77
         ],
         "y": [
          37,
          37
         ],
         "z": [
          46,
          48
         ]
        },
        {
         "line": {
          "color": "blue",
          "width": 1
         },
         "mode": "lines",
         "type": "scatter3d",
         "x": [
          70,
          66
         ],
         "y": [
          20,
          23
         ],
         "z": [
          66,
          62
         ]
        },
        {
         "line": {
          "color": "blue",
          "width": 1
         },
         "mode": "lines",
         "type": "scatter3d",
         "x": [
          15,
          20
         ],
         "y": [
          15,
          16
         ],
         "z": [
          20,
          23
         ]
        },
        {
         "line": {
          "color": "blue",
          "width": 1
         },
         "mode": "lines",
         "type": "scatter3d",
         "x": [
          65,
          70
         ],
         "y": [
          17,
          20
         ],
         "z": [
          69,
          66
         ]
        },
        {
         "line": {
          "color": "blue",
          "width": 1
         },
         "mode": "lines",
         "type": "scatter3d",
         "x": [
          11,
          15
         ],
         "y": [
          11,
          15
         ],
         "z": [
          16,
          20
         ]
        },
        {
         "line": {
          "color": "blue",
          "width": 1
         },
         "mode": "lines",
         "type": "scatter3d",
         "x": [
          72,
          70
         ],
         "y": [
          15,
          20
         ],
         "z": [
          62,
          66
         ]
        },
        {
         "line": {
          "color": "blue",
          "width": 1
         },
         "mode": "lines",
         "type": "scatter3d",
         "x": [
          67,
          65
         ],
         "y": [
          12,
          17
         ],
         "z": [
          72,
          69
         ]
        },
        {
         "line": {
          "color": "blue",
          "width": 1
         },
         "mode": "lines",
         "type": "scatter3d",
         "x": [
          24,
          20
         ],
         "y": [
          13,
          16
         ],
         "z": [
          23,
          23
         ]
        },
        {
         "line": {
          "color": "blue",
          "width": 1
         },
         "mode": "lines",
         "type": "scatter3d",
         "x": [
          59,
          56
         ],
         "y": [
          26,
          23
         ],
         "z": [
          36,
          38
         ]
        },
        {
         "line": {
          "color": "blue",
          "width": 1
         },
         "mode": "lines",
         "type": "scatter3d",
         "x": [
          63,
          67
         ],
         "y": [
          15,
          12
         ],
         "z": [
          75,
          72
         ]
        },
        {
         "line": {
          "color": "blue",
          "width": 1
         },
         "mode": "lines",
         "type": "scatter3d",
         "x": [
          69,
          72
         ],
         "y": [
          62,
          58
         ],
         "z": [
          52,
          55
         ]
        },
        {
         "line": {
          "color": "blue",
          "width": 1
         },
         "mode": "lines",
         "type": "scatter3d",
         "x": [
          59,
          63
         ],
         "y": [
          63,
          67
         ],
         "z": [
          74,
          73
         ]
        },
        {
         "line": {
          "color": "blue",
          "width": 1
         },
         "mode": "lines",
         "type": "scatter3d",
         "x": [
          7,
          11
         ],
         "y": [
          7,
          11
         ],
         "z": [
          11,
          16
         ]
        },
        {
         "line": {
          "color": "blue",
          "width": 1
         },
         "mode": "lines",
         "type": "scatter3d",
         "x": [
          59,
          64
         ],
         "y": [
          79,
          78
         ],
         "z": [
          79,
          79
         ]
        },
        {
         "line": {
          "color": "blue",
          "width": 1
         },
         "mode": "lines",
         "type": "scatter3d",
         "x": [
          81,
          77
         ],
         "y": [
          34,
          37
         ],
         "z": [
          45,
          48
         ]
        },
        {
         "line": {
          "color": "blue",
          "width": 1
         },
         "mode": "lines",
         "type": "scatter3d",
         "x": [
          67,
          63
         ],
         "y": [
          16,
          15
         ],
         "z": [
          78,
          75
         ]
        },
        {
         "line": {
          "color": "blue",
          "width": 1
         },
         "mode": "lines",
         "type": "scatter3d",
         "x": [
          84,
          80
         ],
         "y": [
          26,
          29
         ],
         "z": [
          50,
          50
         ]
        },
        {
         "line": {
          "color": "blue",
          "width": 1
         },
         "mode": "lines",
         "type": "scatter3d",
         "x": [
          25,
          25
         ],
         "y": [
          23,
          19
         ],
         "z": [
          24,
          28
         ]
        },
        {
         "line": {
          "color": "blue",
          "width": 1
         },
         "mode": "lines",
         "type": "scatter3d",
         "x": [
          10,
          15
         ],
         "y": [
          17,
          15
         ],
         "z": [
          23,
          20
         ]
        },
        {
         "line": {
          "color": "blue",
          "width": 1
         },
         "mode": "lines",
         "type": "scatter3d",
         "x": [
          78,
          77
         ],
         "y": [
          50,
          55
         ],
         "z": [
          70,
          69
         ]
        },
        {
         "line": {
          "color": "blue",
          "width": 1
         },
         "mode": "lines",
         "type": "scatter3d",
         "x": [
          3,
          7
         ],
         "y": [
          3,
          7
         ],
         "z": [
          6,
          11
         ]
        },
        {
         "line": {
          "color": "red",
          "width": 2
         },
         "marker": {
          "size": 4
         },
         "mode": "lines+markers",
         "type": "scatter3d",
         "x": [
          3,
          7
         ],
         "y": [
          3,
          7
         ],
         "z": [
          6,
          11
         ]
        },
        {
         "line": {
          "color": "red",
          "width": 2
         },
         "marker": {
          "size": 4
         },
         "mode": "lines+markers",
         "type": "scatter3d",
         "x": [
          7,
          11
         ],
         "y": [
          7,
          11
         ],
         "z": [
          11,
          16
         ]
        },
        {
         "line": {
          "color": "red",
          "width": 2
         },
         "marker": {
          "size": 4
         },
         "mode": "lines+markers",
         "type": "scatter3d",
         "x": [
          11,
          15
         ],
         "y": [
          11,
          15
         ],
         "z": [
          16,
          20
         ]
        },
        {
         "line": {
          "color": "red",
          "width": 2
         },
         "marker": {
          "size": 4
         },
         "mode": "lines+markers",
         "type": "scatter3d",
         "x": [
          15,
          20
         ],
         "y": [
          15,
          16
         ],
         "z": [
          20,
          23
         ]
        },
        {
         "line": {
          "color": "red",
          "width": 2
         },
         "marker": {
          "size": 4
         },
         "mode": "lines+markers",
         "type": "scatter3d",
         "x": [
          20,
          25
         ],
         "y": [
          16,
          19
         ],
         "z": [
          23,
          28
         ]
        },
        {
         "line": {
          "color": "red",
          "width": 2
         },
         "marker": {
          "size": 4
         },
         "mode": "lines+markers",
         "type": "scatter3d",
         "x": [
          25,
          27
         ],
         "y": [
          19,
          15
         ],
         "z": [
          28,
          31
         ]
        },
        {
         "line": {
          "color": "red",
          "width": 2
         },
         "marker": {
          "size": 4
         },
         "mode": "lines+markers",
         "type": "scatter3d",
         "x": [
          27,
          32
         ],
         "y": [
          15,
          18
         ],
         "z": [
          31,
          36
         ]
        },
        {
         "line": {
          "color": "red",
          "width": 2
         },
         "marker": {
          "size": 4
         },
         "mode": "lines+markers",
         "type": "scatter3d",
         "x": [
          32,
          36
         ],
         "y": [
          18,
          15
         ],
         "z": [
          36,
          35
         ]
        },
        {
         "line": {
          "color": "red",
          "width": 2
         },
         "marker": {
          "size": 4
         },
         "mode": "lines+markers",
         "type": "scatter3d",
         "x": [
          36,
          41
         ],
         "y": [
          15,
          17
         ],
         "z": [
          35,
          34
         ]
        },
        {
         "line": {
          "color": "red",
          "width": 2
         },
         "marker": {
          "size": 4
         },
         "mode": "lines+markers",
         "type": "scatter3d",
         "x": [
          41,
          46
         ],
         "y": [
          17,
          19
         ],
         "z": [
          34,
          39
         ]
        },
        {
         "line": {
          "color": "red",
          "width": 2
         },
         "marker": {
          "size": 4
         },
         "mode": "lines+markers",
         "type": "scatter3d",
         "x": [
          46,
          51
         ],
         "y": [
          19,
          21
         ],
         "z": [
          39,
          41
         ]
        },
        {
         "line": {
          "color": "red",
          "width": 2
         },
         "marker": {
          "size": 4
         },
         "mode": "lines+markers",
         "type": "scatter3d",
         "x": [
          51,
          56
         ],
         "y": [
          21,
          23
         ],
         "z": [
          41,
          38
         ]
        },
        {
         "line": {
          "color": "red",
          "width": 2
         },
         "marker": {
          "size": 4
         },
         "mode": "lines+markers",
         "type": "scatter3d",
         "x": [
          56,
          61
         ],
         "y": [
          23,
          25
         ],
         "z": [
          38,
          43
         ]
        },
        {
         "line": {
          "color": "red",
          "width": 2
         },
         "marker": {
          "size": 4
         },
         "mode": "lines+markers",
         "type": "scatter3d",
         "x": [
          61,
          59
         ],
         "y": [
          25,
          30
         ],
         "z": [
          43,
          47
         ]
        },
        {
         "line": {
          "color": "red",
          "width": 2
         },
         "marker": {
          "size": 4
         },
         "mode": "lines+markers",
         "type": "scatter3d",
         "x": [
          59,
          64
         ],
         "y": [
          30,
          33
         ],
         "z": [
          47,
          52
         ]
        },
        {
         "line": {
          "color": "red",
          "width": 2
         },
         "marker": {
          "size": 4
         },
         "mode": "lines+markers",
         "type": "scatter3d",
         "x": [
          64,
          69
         ],
         "y": [
          33,
          36
         ],
         "z": [
          52,
          56
         ]
        },
        {
         "line": {
          "color": "red",
          "width": 2
         },
         "marker": {
          "size": 4
         },
         "mode": "lines+markers",
         "type": "scatter3d",
         "x": [
          69,
          73
         ],
         "y": [
          36,
          40
         ],
         "z": [
          56,
          60
         ]
        },
        {
         "line": {
          "color": "red",
          "width": 2
         },
         "marker": {
          "size": 4
         },
         "mode": "lines+markers",
         "type": "scatter3d",
         "x": [
          73,
          71
         ],
         "y": [
          40,
          45
         ],
         "z": [
          60,
          64
         ]
        },
        {
         "line": {
          "color": "red",
          "width": 2
         },
         "marker": {
          "size": 4
         },
         "mode": "lines+markers",
         "type": "scatter3d",
         "x": [
          71,
          74
         ],
         "y": [
          45,
          50
         ],
         "z": [
          64,
          64
         ]
        },
        {
         "line": {
          "color": "red",
          "width": 2
         },
         "marker": {
          "size": 4
         },
         "mode": "lines+markers",
         "type": "scatter3d",
         "x": [
          74,
          77
         ],
         "y": [
          50,
          55
         ],
         "z": [
          64,
          69
         ]
        },
        {
         "line": {
          "color": "red",
          "width": 2
         },
         "marker": {
          "size": 4
         },
         "mode": "lines+markers",
         "type": "scatter3d",
         "x": [
          77,
          73
         ],
         "y": [
          55,
          58
         ],
         "z": [
          69,
          73
         ]
        },
        {
         "line": {
          "color": "red",
          "width": 2
         },
         "marker": {
          "size": 4
         },
         "mode": "lines+markers",
         "type": "scatter3d",
         "x": [
          73,
          72
         ],
         "y": [
          58,
          63
         ],
         "z": [
          73,
          77
         ]
        },
        {
         "line": {
          "color": "red",
          "width": 2
         },
         "marker": {
          "size": 4
         },
         "mode": "lines+markers",
         "type": "scatter3d",
         "x": [
          72,
          71
         ],
         "y": [
          63,
          68
         ],
         "z": [
          77,
          77
         ]
        },
        {
         "line": {
          "color": "red",
          "width": 2
         },
         "marker": {
          "size": 4
         },
         "mode": "lines+markers",
         "type": "scatter3d",
         "x": [
          71,
          67
         ],
         "y": [
          68,
          71
         ],
         "z": [
          77,
          77
         ]
        },
        {
         "line": {
          "color": "red",
          "width": 2
         },
         "marker": {
          "size": 4
         },
         "mode": "lines+markers",
         "type": "scatter3d",
         "x": [
          67,
          69
         ],
         "y": [
          71,
          76
         ],
         "z": [
          77,
          79
         ]
        },
        {
         "line": {
          "color": "red",
          "width": 2
         },
         "marker": {
          "size": 4
         },
         "mode": "lines+markers",
         "type": "scatter3d",
         "x": [
          69,
          73
         ],
         "y": [
          76,
          80
         ],
         "z": [
          79,
          83
         ]
        },
        {
         "line": {
          "color": "red",
          "width": 2
         },
         "marker": {
          "size": 4
         },
         "mode": "lines+markers",
         "type": "scatter3d",
         "x": [
          73,
          78
         ],
         "y": [
          80,
          83
         ],
         "z": [
          83,
          83
         ]
        },
        {
         "line": {
          "color": "red",
          "width": 2
         },
         "marker": {
          "size": 4
         },
         "mode": "lines+markers",
         "type": "scatter3d",
         "x": [
          78,
          82
         ],
         "y": [
          83,
          87
         ],
         "z": [
          83,
          86
         ]
        },
        {
         "line": {
          "color": "red",
          "width": 2
         },
         "marker": {
          "size": 4
         },
         "mode": "lines+markers",
         "type": "scatter3d",
         "x": [
          82,
          81
         ],
         "y": [
          87,
          92
         ],
         "z": [
          86,
          88
         ]
        },
        {
         "line": {
          "color": "red",
          "width": 2
         },
         "marker": {
          "size": 4
         },
         "mode": "lines+markers",
         "type": "scatter3d",
         "x": [
          81,
          86
         ],
         "y": [
          92,
          93
         ],
         "z": [
          88,
          91
         ]
        },
        {
         "line": {
          "color": "red",
          "width": 2
         },
         "marker": {
          "size": 4
         },
         "mode": "lines+markers",
         "type": "scatter3d",
         "x": [
          86,
          91
         ],
         "y": [
          93,
          94
         ],
         "z": [
          91,
          92
         ]
        },
        {
         "line": {
          "color": "red",
          "width": 2
         },
         "marker": {
          "size": 4
         },
         "mode": "lines+markers",
         "type": "scatter3d",
         "x": [
          91,
          96
         ],
         "y": [
          94,
          96
         ],
         "z": [
          92,
          96
         ]
        },
        {
         "line": {
          "color": "red",
          "width": 2
         },
         "marker": {
          "size": 4
         },
         "mode": "lines+markers",
         "type": "scatter3d",
         "x": [
          96,
          100
         ],
         "y": [
          96,
          100
         ],
         "z": [
          96,
          100
         ]
        },
        {
         "line": {
          "color": "green",
          "width": 2
         },
         "marker": {
          "size": 5
         },
         "mode": "lines+markers",
         "type": "scatter3d",
         "x": [
          3,
          72
         ],
         "y": [
          3,
          63
         ],
         "z": [
          6,
          77
         ]
        },
        {
         "line": {
          "color": "green",
          "width": 2
         },
         "marker": {
          "size": 5
         },
         "mode": "lines+markers",
         "type": "scatter3d",
         "x": [
          72,
          100
         ],
         "y": [
          63,
          100
         ],
         "z": [
          77,
          100
         ]
        },
        {
         "line": {
          "color": "gray"
         },
         "mode": "lines",
         "type": "scatter3d",
         "x": [
          0,
          0,
          10,
          10,
          0
         ],
         "y": [
          0,
          10,
          10,
          0,
          0
         ],
         "z": [
          0,
          0,
          0,
          0,
          0
         ]
        }
       ],
       "layout": {
        "scene": {
         "aspectmode": "cube"
        },
        "template": {
         "data": {
          "bar": [
           {
            "error_x": {
             "color": "#2a3f5f"
            },
            "error_y": {
             "color": "#2a3f5f"
            },
            "marker": {
             "line": {
              "color": "#E5ECF6",
              "width": 0.5
             },
             "pattern": {
              "fillmode": "overlay",
              "size": 10,
              "solidity": 0.2
             }
            },
            "type": "bar"
           }
          ],
          "barpolar": [
           {
            "marker": {
             "line": {
              "color": "#E5ECF6",
              "width": 0.5
             },
             "pattern": {
              "fillmode": "overlay",
              "size": 10,
              "solidity": 0.2
             }
            },
            "type": "barpolar"
           }
          ],
          "carpet": [
           {
            "aaxis": {
             "endlinecolor": "#2a3f5f",
             "gridcolor": "white",
             "linecolor": "white",
             "minorgridcolor": "white",
             "startlinecolor": "#2a3f5f"
            },
            "baxis": {
             "endlinecolor": "#2a3f5f",
             "gridcolor": "white",
             "linecolor": "white",
             "minorgridcolor": "white",
             "startlinecolor": "#2a3f5f"
            },
            "type": "carpet"
           }
          ],
          "choropleth": [
           {
            "colorbar": {
             "outlinewidth": 0,
             "ticks": ""
            },
            "type": "choropleth"
           }
          ],
          "contour": [
           {
            "colorbar": {
             "outlinewidth": 0,
             "ticks": ""
            },
            "colorscale": [
             [
              0,
              "#0d0887"
             ],
             [
              0.1111111111111111,
              "#46039f"
             ],
             [
              0.2222222222222222,
              "#7201a8"
             ],
             [
              0.3333333333333333,
              "#9c179e"
             ],
             [
              0.4444444444444444,
              "#bd3786"
             ],
             [
              0.5555555555555556,
              "#d8576b"
             ],
             [
              0.6666666666666666,
              "#ed7953"
             ],
             [
              0.7777777777777778,
              "#fb9f3a"
             ],
             [
              0.8888888888888888,
              "#fdca26"
             ],
             [
              1,
              "#f0f921"
             ]
            ],
            "type": "contour"
           }
          ],
          "contourcarpet": [
           {
            "colorbar": {
             "outlinewidth": 0,
             "ticks": ""
            },
            "type": "contourcarpet"
           }
          ],
          "heatmap": [
           {
            "colorbar": {
             "outlinewidth": 0,
             "ticks": ""
            },
            "colorscale": [
             [
              0,
              "#0d0887"
             ],
             [
              0.1111111111111111,
              "#46039f"
             ],
             [
              0.2222222222222222,
              "#7201a8"
             ],
             [
              0.3333333333333333,
              "#9c179e"
             ],
             [
              0.4444444444444444,
              "#bd3786"
             ],
             [
              0.5555555555555556,
              "#d8576b"
             ],
             [
              0.6666666666666666,
              "#ed7953"
             ],
             [
              0.7777777777777778,
              "#fb9f3a"
             ],
             [
              0.8888888888888888,
              "#fdca26"
             ],
             [
              1,
              "#f0f921"
             ]
            ],
            "type": "heatmap"
           }
          ],
          "heatmapgl": [
           {
            "colorbar": {
             "outlinewidth": 0,
             "ticks": ""
            },
            "colorscale": [
             [
              0,
              "#0d0887"
             ],
             [
              0.1111111111111111,
              "#46039f"
             ],
             [
              0.2222222222222222,
              "#7201a8"
             ],
             [
              0.3333333333333333,
              "#9c179e"
             ],
             [
              0.4444444444444444,
              "#bd3786"
             ],
             [
              0.5555555555555556,
              "#d8576b"
             ],
             [
              0.6666666666666666,
              "#ed7953"
             ],
             [
              0.7777777777777778,
              "#fb9f3a"
             ],
             [
              0.8888888888888888,
              "#fdca26"
             ],
             [
              1,
              "#f0f921"
             ]
            ],
            "type": "heatmapgl"
           }
          ],
          "histogram": [
           {
            "marker": {
             "pattern": {
              "fillmode": "overlay",
              "size": 10,
              "solidity": 0.2
             }
            },
            "type": "histogram"
           }
          ],
          "histogram2d": [
           {
            "colorbar": {
             "outlinewidth": 0,
             "ticks": ""
            },
            "colorscale": [
             [
              0,
              "#0d0887"
             ],
             [
              0.1111111111111111,
              "#46039f"
             ],
             [
              0.2222222222222222,
              "#7201a8"
             ],
             [
              0.3333333333333333,
              "#9c179e"
             ],
             [
              0.4444444444444444,
              "#bd3786"
             ],
             [
              0.5555555555555556,
              "#d8576b"
             ],
             [
              0.6666666666666666,
              "#ed7953"
             ],
             [
              0.7777777777777778,
              "#fb9f3a"
             ],
             [
              0.8888888888888888,
              "#fdca26"
             ],
             [
              1,
              "#f0f921"
             ]
            ],
            "type": "histogram2d"
           }
          ],
          "histogram2dcontour": [
           {
            "colorbar": {
             "outlinewidth": 0,
             "ticks": ""
            },
            "colorscale": [
             [
              0,
              "#0d0887"
             ],
             [
              0.1111111111111111,
              "#46039f"
             ],
             [
              0.2222222222222222,
              "#7201a8"
             ],
             [
              0.3333333333333333,
              "#9c179e"
             ],
             [
              0.4444444444444444,
              "#bd3786"
             ],
             [
              0.5555555555555556,
              "#d8576b"
             ],
             [
              0.6666666666666666,
              "#ed7953"
             ],
             [
              0.7777777777777778,
              "#fb9f3a"
             ],
             [
              0.8888888888888888,
              "#fdca26"
             ],
             [
              1,
              "#f0f921"
             ]
            ],
            "type": "histogram2dcontour"
           }
          ],
          "mesh3d": [
           {
            "colorbar": {
             "outlinewidth": 0,
             "ticks": ""
            },
            "type": "mesh3d"
           }
          ],
          "parcoords": [
           {
            "line": {
             "colorbar": {
              "outlinewidth": 0,
              "ticks": ""
             }
            },
            "type": "parcoords"
           }
          ],
          "pie": [
           {
            "automargin": true,
            "type": "pie"
           }
          ],
          "scatter": [
           {
            "fillpattern": {
             "fillmode": "overlay",
             "size": 10,
             "solidity": 0.2
            },
            "type": "scatter"
           }
          ],
          "scatter3d": [
           {
            "line": {
             "colorbar": {
              "outlinewidth": 0,
              "ticks": ""
             }
            },
            "marker": {
             "colorbar": {
              "outlinewidth": 0,
              "ticks": ""
             }
            },
            "type": "scatter3d"
           }
          ],
          "scattercarpet": [
           {
            "marker": {
             "colorbar": {
              "outlinewidth": 0,
              "ticks": ""
             }
            },
            "type": "scattercarpet"
           }
          ],
          "scattergeo": [
           {
            "marker": {
             "colorbar": {
              "outlinewidth": 0,
              "ticks": ""
             }
            },
            "type": "scattergeo"
           }
          ],
          "scattergl": [
           {
            "marker": {
             "colorbar": {
              "outlinewidth": 0,
              "ticks": ""
             }
            },
            "type": "scattergl"
           }
          ],
          "scattermapbox": [
           {
            "marker": {
             "colorbar": {
              "outlinewidth": 0,
              "ticks": ""
             }
            },
            "type": "scattermapbox"
           }
          ],
          "scatterpolar": [
           {
            "marker": {
             "colorbar": {
              "outlinewidth": 0,
              "ticks": ""
             }
            },
            "type": "scatterpolar"
           }
          ],
          "scatterpolargl": [
           {
            "marker": {
             "colorbar": {
              "outlinewidth": 0,
              "ticks": ""
             }
            },
            "type": "scatterpolargl"
           }
          ],
          "scatterternary": [
           {
            "marker": {
             "colorbar": {
              "outlinewidth": 0,
              "ticks": ""
             }
            },
            "type": "scatterternary"
           }
          ],
          "surface": [
           {
            "colorbar": {
             "outlinewidth": 0,
             "ticks": ""
            },
            "colorscale": [
             [
              0,
              "#0d0887"
             ],
             [
              0.1111111111111111,
              "#46039f"
             ],
             [
              0.2222222222222222,
              "#7201a8"
             ],
             [
              0.3333333333333333,
              "#9c179e"
             ],
             [
              0.4444444444444444,
              "#bd3786"
             ],
             [
              0.5555555555555556,
              "#d8576b"
             ],
             [
              0.6666666666666666,
              "#ed7953"
             ],
             [
              0.7777777777777778,
              "#fb9f3a"
             ],
             [
              0.8888888888888888,
              "#fdca26"
             ],
             [
              1,
              "#f0f921"
             ]
            ],
            "type": "surface"
           }
          ],
          "table": [
           {
            "cells": {
             "fill": {
              "color": "#EBF0F8"
             },
             "line": {
              "color": "white"
             }
            },
            "header": {
             "fill": {
              "color": "#C8D4E3"
             },
             "line": {
              "color": "white"
             }
            },
            "type": "table"
           }
          ]
         },
         "layout": {
          "annotationdefaults": {
           "arrowcolor": "#2a3f5f",
           "arrowhead": 0,
           "arrowwidth": 1
          },
          "autotypenumbers": "strict",
          "coloraxis": {
           "colorbar": {
            "outlinewidth": 0,
            "ticks": ""
           }
          },
          "colorscale": {
           "diverging": [
            [
             0,
             "#8e0152"
            ],
            [
             0.1,
             "#c51b7d"
            ],
            [
             0.2,
             "#de77ae"
            ],
            [
             0.3,
             "#f1b6da"
            ],
            [
             0.4,
             "#fde0ef"
            ],
            [
             0.5,
             "#f7f7f7"
            ],
            [
             0.6,
             "#e6f5d0"
            ],
            [
             0.7,
             "#b8e186"
            ],
            [
             0.8,
             "#7fbc41"
            ],
            [
             0.9,
             "#4d9221"
            ],
            [
             1,
             "#276419"
            ]
           ],
           "sequential": [
            [
             0,
             "#0d0887"
            ],
            [
             0.1111111111111111,
             "#46039f"
            ],
            [
             0.2222222222222222,
             "#7201a8"
            ],
            [
             0.3333333333333333,
             "#9c179e"
            ],
            [
             0.4444444444444444,
             "#bd3786"
            ],
            [
             0.5555555555555556,
             "#d8576b"
            ],
            [
             0.6666666666666666,
             "#ed7953"
            ],
            [
             0.7777777777777778,
             "#fb9f3a"
            ],
            [
             0.8888888888888888,
             "#fdca26"
            ],
            [
             1,
             "#f0f921"
            ]
           ],
           "sequentialminus": [
            [
             0,
             "#0d0887"
            ],
            [
             0.1111111111111111,
             "#46039f"
            ],
            [
             0.2222222222222222,
             "#7201a8"
            ],
            [
             0.3333333333333333,
             "#9c179e"
            ],
            [
             0.4444444444444444,
             "#bd3786"
            ],
            [
             0.5555555555555556,
             "#d8576b"
            ],
            [
             0.6666666666666666,
             "#ed7953"
            ],
            [
             0.7777777777777778,
             "#fb9f3a"
            ],
            [
             0.8888888888888888,
             "#fdca26"
            ],
            [
             1,
             "#f0f921"
            ]
           ]
          },
          "colorway": [
           "#636efa",
           "#EF553B",
           "#00cc96",
           "#ab63fa",
           "#FFA15A",
           "#19d3f3",
           "#FF6692",
           "#B6E880",
           "#FF97FF",
           "#FECB52"
          ],
          "font": {
           "color": "#2a3f5f"
          },
          "geo": {
           "bgcolor": "white",
           "lakecolor": "white",
           "landcolor": "#E5ECF6",
           "showlakes": true,
           "showland": true,
           "subunitcolor": "white"
          },
          "hoverlabel": {
           "align": "left"
          },
          "hovermode": "closest",
          "mapbox": {
           "style": "light"
          },
          "paper_bgcolor": "white",
          "plot_bgcolor": "#E5ECF6",
          "polar": {
           "angularaxis": {
            "gridcolor": "white",
            "linecolor": "white",
            "ticks": ""
           },
           "bgcolor": "#E5ECF6",
           "radialaxis": {
            "gridcolor": "white",
            "linecolor": "white",
            "ticks": ""
           }
          },
          "scene": {
           "xaxis": {
            "backgroundcolor": "#E5ECF6",
            "gridcolor": "white",
            "gridwidth": 2,
            "linecolor": "white",
            "showbackground": true,
            "ticks": "",
            "zerolinecolor": "white"
           },
           "yaxis": {
            "backgroundcolor": "#E5ECF6",
            "gridcolor": "white",
            "gridwidth": 2,
            "linecolor": "white",
            "showbackground": true,
            "ticks": "",
            "zerolinecolor": "white"
           },
           "zaxis": {
            "backgroundcolor": "#E5ECF6",
            "gridcolor": "white",
            "gridwidth": 2,
            "linecolor": "white",
            "showbackground": true,
            "ticks": "",
            "zerolinecolor": "white"
           }
          },
          "shapedefaults": {
           "line": {
            "color": "#2a3f5f"
           }
          },
          "ternary": {
           "aaxis": {
            "gridcolor": "white",
            "linecolor": "white",
            "ticks": ""
           },
           "baxis": {
            "gridcolor": "white",
            "linecolor": "white",
            "ticks": ""
           },
           "bgcolor": "#E5ECF6",
           "caxis": {
            "gridcolor": "white",
            "linecolor": "white",
            "ticks": ""
           }
          },
          "title": {
           "x": 0.05
          },
          "xaxis": {
           "automargin": true,
           "gridcolor": "white",
           "linecolor": "white",
           "ticks": "",
           "title": {
            "standoff": 15
           },
           "zerolinecolor": "white",
           "zerolinewidth": 2
          },
          "yaxis": {
           "automargin": true,
           "gridcolor": "white",
           "linecolor": "white",
           "ticks": "",
           "title": {
            "standoff": 15
           },
           "zerolinecolor": "white",
           "zerolinewidth": 2
          }
         }
        }
       }
      }
     },
     "metadata": {},
     "output_type": "display_data"
    }
   ],
   "source": [
    "def main():\n",
    "    #balance between extending and biasing\t\n",
    "\tfor i in range(0,maxIter):\n",
    "\t\tif i%10!=0: tree.expand()\n",
    "\t\telse: tree.bias()\n",
    "\t#check if sample is in goal, if so STOP!\t\t\n",
    "\t\tif environment.goalRange()==1:\n",
    "\t\t\tprint (\"found\")\n",
    "\t\t\tbreak\n",
    "\ttree.pathToGoal()\n",
    "\ttree.prun()\n",
    "\t\t\n",
    "\t#display initial plan under limited sensing\n",
    "\tdraw()\n",
    "\t\n",
    "fig.write_html(\"RRT3d_Plot.html\")\n",
    "\n",
    " \n",
    "# run main when RRT is called\n",
    "if __name__ == '__main__':\n",
    "    main()"
   ]
  }
 ],
 "metadata": {
  "kernelspec": {
   "display_name": "Python 3",
   "language": "python",
   "name": "python3"
  },
  "language_info": {
   "codemirror_mode": {
    "name": "ipython",
    "version": 3
   },
   "file_extension": ".py",
   "mimetype": "text/x-python",
   "name": "python",
   "nbconvert_exporter": "python",
   "pygments_lexer": "ipython3",
   "version": "3.10.12"
  }
 },
 "nbformat": 4,
 "nbformat_minor": 2
}
