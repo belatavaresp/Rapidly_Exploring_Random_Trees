{
 "cells": [
  {
   "cell_type": "code",
   "execution_count": 107,
   "metadata": {},
   "outputs": [],
   "source": [
    "import plotly.graph_objects as go\n",
    "import numpy as np\n",
    "import math\n",
    "import random"
   ]
  },
  {
   "cell_type": "markdown",
   "metadata": {},
   "source": [
    "## Environment "
   ]
  },
  {
   "cell_type": "code",
   "execution_count": 108,
   "metadata": {},
   "outputs": [],
   "source": [
    "\n",
    "class Environment:\n",
    "    def __init__(self, obstacles, xmin, xmax, ymin, ymax, zmin, zmax):\n",
    "        self.obstacles = np.array(obstacles)\n",
    "        self.xmin = xmin\n",
    "        self.xmax = xmax\n",
    "        self.ymin = ymin\n",
    "        self.ymax = ymax\n",
    "        self.zmin = zmin\n",
    "        self.zmax = zmax\n",
    "    \n",
    "    def obsCollision(self, point1, point2):\n",
    "        collision = 1 #assume no collision\n",
    "        for obs in range(len(self.obstacles)):\n",
    "            oXmin, oXmax, oYmin, oYmax = self.obstacles[obs][0], self.obstacles[obs][1], self.obstacles[obs][2], self.obstacles[obs][3]\n",
    "            for u in np.linspace(0,1,101):\n",
    "                x = point1[0] * u + point2[0] * (1 - u)\n",
    "                y = point1[1] * u + point2[1] * (1 - u)\n",
    "                if(x >= oXmin) and (x <= oXmax) and (y >= oYmin) and (y <= oYmax):\n",
    "                    #path is inside an obstacle boundary\n",
    "                    collision = 0\n",
    "                    break\n",
    "            if collision == 0: break\n",
    "        return collision\n",
    "        \n",
    "    def freeSample(self):\n",
    "        n = tree.size() - 1\n",
    "        (x, y, z) = (tree.x[n], tree.y[n], tree.z[n]) #last node added to the tree\n",
    "        for obs in range(len(self.obstacles)):\n",
    "            oXmin, oXmax, oYmin, oYmax = self.obstacles[obs][0], self.obstacles[obs][1], self.obstacles[obs][2], self.obstacles[obs][3]\n",
    "            if(x >= oXmin) and (x <= oXmax) and (y >= oYmin) and (y <= oYmax) and (z >= self.zmin) and (z <= self.zmax):\n",
    "                tree.remove(n) #not a valid sample, should be removed of the tree\n",
    "                return 0\n",
    "\n",
    "    def goalRange(self):\n",
    "        n = tree.size() - 1\n",
    "        (x, y, z) = (tree.x[n], tree.y[n], tree.z[n]) #last node added to the tree\n",
    "        if(x >= goalXmin) and (x <= goalXmax) and (y >= goalYmin) and (y <= goalYmax) and (z >= goalZmin) and (z <= goalZmax):\n",
    "            return 1\n",
    "        else:\n",
    "            return 0\n",
    "        \n",
    "    def isFreeXY(self, x, y):\n",
    "        for obs in range(len(self.obstacles)):\n",
    "            oXmin, oXmax, oYmin, oYmax = self.obstacles[obs][0], self.obstacles[obs][1], self.obstacles[obs][2], self.obstacles[obs][3]\n",
    "            if(x >= oXmin) and (x <= oXmax) and (y >= oYmin) and (y <= oYmax):\n",
    "                return 0\n"
   ]
  },
  {
   "cell_type": "markdown",
   "metadata": {},
   "source": [
    "## RRT"
   ]
  },
  {
   "cell_type": "code",
   "execution_count": 109,
   "metadata": {},
   "outputs": [],
   "source": [
    "class RRT3d:\n",
    "    def __init__(self, start):\n",
    "        (x,y,z) = start\n",
    "        self.x = np.array([x])\n",
    "        self.y = np.array([y])\n",
    "        self.z = np.array([z])\n",
    "        self.parent = np.array([0])\n",
    "        \n",
    "    def distance(self, n1, n2):\n",
    "        p1 = np.array([self.x[n1], self.y[n1], self.z[n1]])\n",
    "        p2 = np.array([self.x[n2], self.y[n2], self.z[n2]])\n",
    "\n",
    "        dist = np.linalg.norm(p1 - p2)\n",
    "\n",
    "        return dist\n",
    "    \n",
    "    def size(self):\n",
    "        return len(self.x)\n",
    "    \n",
    "    def add(self, n, x, y, z):\n",
    "        self.x = np.insert(self.x, n, x)\n",
    "        self.y = np.insert(self.y, n, y)\n",
    "        self.z = np.insert(self.z, n, z)\n",
    "\n",
    "    # Remove node\n",
    "    def remove(self, n):\n",
    "        self.x = np.delete(self.x, n)\n",
    "        self.y = np.delete(self.y, n)\n",
    "        self.z = np.delete(self.z, n)\n",
    "        \n",
    "    def addEdge(self, parent, child):\n",
    "        self.parent = np.insert(self.parent, child, parent)\n",
    "\n",
    "    def removeEdge(self, n):\n",
    "        self.parent = np.delete(self.parent, n)\n",
    "        \n",
    "    def step(self, near, rand):\n",
    "        d = self.distance(near, rand)\n",
    "        if d > stepSize:\n",
    "            u = stepSize / d\n",
    "            (xnear, ynear, znear) = (self.x[near], self.y[near], self.z[near])\n",
    "            (xrand, yrand, zrand) = (self.x[rand], self.y[rand], self.z[rand])\n",
    "            (px, py, pz) = (xrand - xnear, yrand - ynear, zrand - znear)\n",
    "            theta = math.atan2(py, px)\n",
    "            x = xnear + stepSize * math.cos(theta)\n",
    "            y = ynear + stepSize * math.sin(theta)\n",
    "            alpha = math.atan2(pz, y)\n",
    "            z = znear + stepSize * math.sin(alpha)\n",
    "            \n",
    "            # Remove the old node and add the updated node (between rand and near)\n",
    "            self.remove(rand)\n",
    "            self.add(rand, x, y, z)\n",
    "            \n",
    "    def near(self, n):\n",
    "        min = self.distance(0,n)\n",
    "        nearNode = 0\n",
    "        for i in range(0,n):\n",
    "            if self.distance(i, n) < min:\n",
    "                min = self.distance(i, n)\n",
    "                nearNode = i\n",
    "        return nearNode\n",
    "    \n",
    "    def connect(self, node1, node2):\n",
    "        point1 = (self.x[node1],self.y[node1],self.z[node1])\n",
    "        point2 = (self.x[node2],self.y[node2],self.z[node2])\n",
    "        n = tree.size() - 1 \n",
    "        if environment.obsCollision(point1, point2) == 0:\n",
    "            self.remove(node2) #can't connect (obstacle collision detected)\n",
    "        else:\n",
    "            self.addEdge(node1, node2)\n",
    "            \n",
    "    def expand(self):\n",
    "        x = random.uniform (environment.xmin, environment.xmax)\n",
    "        y = random.uniform (environment.ymin, environment.ymax)\n",
    "        z = random.uniform (environment.zmin, environment.zmax)\n",
    "        n = self.size()\n",
    "        self.add(n, x, y, z)\n",
    "        if environment.freeSample()!=0: #lattest added node must be valid\n",
    "            nearest = self.near(n)\n",
    "            self.step(nearest, n)\n",
    "            self.connect(nearest, n)\n",
    "            \n",
    "    def bias(self):\n",
    "        n = self.size()\n",
    "        self.add(n, goalX, goalY, goalZ)\n",
    "        nearest = self.near(n)\n",
    "        self.step(nearest, n)\n",
    "        self.connect(nearest, n)\n",
    "    \n",
    "    def clear(self, start):\n",
    "        (x,y,z) = start\n",
    "        self.x = np.array([x])\n",
    "        self.y = np.array([y])\n",
    "        self.z = np.array([z])\n",
    "        self.parent = np.array([0])\n",
    "    \n",
    "    def pathToGoal(self):\n",
    "        # find goal state\n",
    "        goalStateIndices = np.where((self.x >= goalXmin) & (self.x <= goalXmax) &\n",
    "                                    (self.y >= goalYmin) & (self.y <= goalYmax) &\n",
    "                                    (self.z >= goalZmin) & (self.z <= goalZmax))[0]\n",
    "\n",
    "        if len(goalStateIndices) == 0:\n",
    "            return  # No goal state found\n",
    "\n",
    "        self.goalstate = goalStateIndices[0]\n",
    "\n",
    "        # add goal state and its parent nodes to the path\n",
    "        self.path = [self.goalstate]\n",
    "        newPos = self.parent[self.goalstate]\n",
    "\n",
    "        # keep adding parents\n",
    "        while newPos != 0:\n",
    "            self.path.append(newPos)\n",
    "            newPos = self.parent[newPos]\n",
    "\n",
    "        # add start state\n",
    "        self.path.append(0)\n",
    "\n",
    "    def prun(self):\n",
    "        s = 0\n",
    "        e = 2\n",
    "        self.tpath = []\n",
    "        self.tpath.append(self.path[s])\n",
    "        for e in range(len(self.path)-1):\n",
    "            p1=self.x[self.path[s]],self.y[self.path[s]],self.z[self.path[s]]\n",
    "            p2=self.x[self.path[e]],self.y[self.path[e]],self.z[self.path[e]]\n",
    "            if environment.obsCollision(p1,p2)==0: #CC is detected\n",
    "                c=0\n",
    "                self.tpath.append(self.path[e-1])\n",
    "                s=e-1\n",
    "        self.tpath.append(self.path[-1])\t\n",
    "\n",
    "    def waypoints(self):\n",
    "        self.wayx = []\n",
    "        self.wayy = []\n",
    "        self.wayz = []\n",
    "        self.newStart = []\n",
    "        \n",
    "        for i in range (0,len(self.tpath)-1):\n",
    "            (x1,y1,z1)=(self.x[self.tpath[i]],self.y[self.tpath[i]],self.z[self.tpath[i]])\n",
    "            (x2,y2,z2)=(self.x[self.tpath[i+1]],self.y[self.tpath[i+1]],self.z[self.tpath[i+1]])\n",
    "            for j in range (0,101):\n",
    "                dt=j/100.0\n",
    "                x=x1*(dt)+x2*(1-dt)\n",
    "                y=y1*(dt)+y2*(1-dt)\n",
    "                z=z1*(dt)+z2*(1-dt)\n",
    "                self.wayx.append(x)\n",
    "                self.wayy.append(y)\n",
    "                self.wayz.append(z)\n",
    "\t\t\t\t#measurement update\n",
    "\t\t\t\t#collision after update\n",
    "                if environment.isFreeXY(x,y)==0:\n",
    "\t\t\t\t\t#point before collision is used for generating new plan\n",
    "                    self.newStart.append(i*101+j-10)\n",
    "                    break\n",
    "\n",
    "    def sense(self):\n",
    "        while len(self.newStart) != 0:\n",
    "            # First observation state\n",
    "            cn = self.newStart[0]\n",
    "            cx, cy, cz = self.wayx[cn], self.wayy[cn], self.wayz[cn]\n",
    "            self.clear((cx, cy, cz))\n",
    "\n",
    "            # Balance between extending and biasing\n",
    "            for i in range(0, maxIter):\n",
    "                if i % 10 != 0:\n",
    "                    self.expand()\n",
    "                else:\n",
    "                    self.bias()\n",
    "\n",
    "                # Check if sample is in goal, if so STOP!\n",
    "                if environment.goalRange() == 1:\n",
    "                    break\n",
    "\n",
    "            # Visualize the current state with a Plotly marker\n",
    "            cn = self.newStart[0]\n",
    "            cx, cy, cz = self.wayx[cn], self.wayy[cn], self.wayz[cn]\n",
    "\n",
    "            fig.add_trace(go.Scatter3d(x=[cx], y=[cy], z=[cz], mode='markers', marker=dict(color='yellow', size=75, opacity=0.3)))\n",
    "\n",
    "            # Find path in RRT\n",
    "            self.pathToGoal()\n",
    "            self.prun()\n",
    "\n",
    "            # Display the updated plan under limited sensing\n",
    "            draw()\n",
    "\n",
    "            # Execute the waypoints\n",
    "            self.waypoints()\n",
    "            \n",
    "    #draw tree\n",
    "    def showTree(self):\n",
    "        for i in range(0, self.number_of_nodes()):\n",
    "            par = self.parent[i]\n",
    "            x = [self.x[i], self.x[par]]\n",
    "            y = [self.y[i], self.y[par]]\n",
    "            z = [self.z[i], self.z[par]]\n",
    "            fig.add_trace(go.Scatter3d(x=x, y=y, z=z, mode='lines', line=dict(color='blue', width=1)))\n",
    "\t\t\t\n",
    "\t#draw path \n",
    "    def showPath(self):\n",
    "        for i in range(len(self.path) - 1):\n",
    "            n1 = self.path[i]\n",
    "            n2 = self.path[i + 1]\n",
    "            x = [self.x[n1], self.x[n2]]\n",
    "            y = [self.y[n1], self.y[n2]]\n",
    "            z = [self.z[n1], self.z[n2]]\n",
    "            fig.add_trace(go.Scatter3d(x=x, y=y, z=z, mode='lines+markers', line=dict(color='red', width=2), marker=dict(size=4)))\n",
    "\t\t\t \n",
    "\t#draw path to be executed\n",
    "    def showTpath(self):\n",
    "        for i in range(len(self.tpath) - 1):\n",
    "            n1 = self.tpath[i]\n",
    "            n2 = self.tpath[i + 1]\n",
    "            x = [self.x[n1], self.x[n2]]\n",
    "            y = [self.y[n1], self.y[n2]]\n",
    "            z = [self.z[n1], self.z[n2]]\n",
    "            fig.add_trace(go.Scatter3d(x=x, y=y, z=z, mode='lines+markers', line=dict(color='green', width=2), marker=dict(size=5)))"
   ]
  },
  {
   "cell_type": "code",
   "execution_count": 110,
   "metadata": {},
   "outputs": [],
   "source": [
    "startPoint = (100,100,100)\n",
    "\n",
    "goalX = 5\n",
    "goalY = 5\n",
    "goalZ = 5\n",
    "\n",
    "delta = 5 #maximum acceptable distance from goal location\n",
    "\n",
    "goalXmin = goalX - delta\n",
    "goalXmax = goalX + delta\n",
    "\n",
    "goalYmin = goalY - delta\n",
    "goalYmax = goalY + delta\n",
    "\n",
    "goalZmin = goalZ - delta\n",
    "goalZmax = goalZ + delta\n",
    "\n",
    "stepSize = 5\n",
    "maxIter = 5000\n",
    "\n",
    "vx = [40, 40, 60, 60, 70, 70, 80, 80, 40, 40, 60, 60, 15, 15, 25, 25, 25, 25, 35, 35]\n",
    "vy = [52, 100, 100, 52, 40, 60, 60, 40, 0, 48, 48, 0, 15, 30, 30, 15, 40, 60, 60, 40]\n",
    "vz = [0, 100]\n",
    "#hidden obstacle\n",
    "hvx = []\n",
    "#[15, 15, 25, 25, 25, 25, 35, 35]\n",
    "hvy = []\n",
    "#[15, 30, 30, 15, 40, 60, 60, 40]\n",
    "\n",
    "obstacles = [\n",
    "    (vx[0], vx[2], vy[0], vy[2], vz[0], vz[1]),  # Obstacle 1\n",
    "    (vx[4], vx[6], vy[4], vy[6], vz[0], vz[1]),  # Obstacle 2\n",
    "    (vx[8], vx[10], vy[8], vy[10], vz[0], vz[1]),  # Obstacle 3\n",
    "    (vx[12], vx[14], vy[12], vy[14], vz[0], vz[1]),  # Obstacle 4\n",
    "    (vx[16], vx[18], vy[16], vy[18], vz[0], vz[1]),  # Obstacle 5\n",
    "]\n",
    "\n",
    "tree = RRT3d(startPoint)\n",
    "environment = Environment(obstacles, 0, 100, 0, 100, 0, 100)\n",
    "\n",
    "fig = go.Figure()"
   ]
  },
  {
   "cell_type": "code",
   "execution_count": 111,
   "metadata": {},
   "outputs": [],
   "source": [
    "# obst = obstacles\n",
    "# print(obst)\n",
    "# for i in range(len(obst)):\n",
    "#     o1, o2, o3, o4 = obst[i][0], obst[i][1], obst[i][2], obst[i][3]\n",
    "#     print(o1,o2,o3,o4)\n",
    "\n",
    "# print()\n",
    "# obs_num = len(vx)//4 #four vertices for each rectangular obstacle\n",
    "# for i in range(1,obs_num+1):\n",
    "#     xo=vx[4*(i-1)]\n",
    "#     xm=vx[4*(i-1)+2]\n",
    "#     yo=vy[4*(i-1)]\n",
    "#     ym=vy[4*(i-1)+1]  \n",
    "#     print(xo,xm,yo,ym)"
   ]
  },
  {
   "cell_type": "code",
   "execution_count": 112,
   "metadata": {},
   "outputs": [],
   "source": [
    "def cubedraw(x, y, zl, zh, color, dash='solid'):\n",
    "    for i in range(0, len(x) - 1):\n",
    "        obx = [x[i], x[i + 1], x[i + 1], x[i], x[i]]\n",
    "        oby = [y[i], y[i], y[i + 1], y[i + 1], y[i]]\n",
    "        obz = [zl[i], zl[i], zh[i], zh[i], zl[i]]\n",
    "        fig.add_trace(go.Scatter3d(x=obx, y=oby, z=obz, mode='lines', line=dict(color=color, dash=dash)))\n",
    "\n",
    "# Draw trees and environment\n",
    "def draw():\n",
    "    # Draw obstacles\n",
    "    for obs in range(len(environment.obstacles)):\n",
    "        obx = [environment.obstacles[obs][0], environment.obstacles[obs][1], environment.obstacles[obs][1], environment.obstacles[obs][0], environment.obstacles[obs][0]]\n",
    "        oby = [environment.obstacles[obs][2], environment.obstacles[obs][2], environment.obstacles[obs][3], environment.obstacles[obs][3], environment.obstacles[obs][2]]\n",
    "        obzl = [environment.zmin] * 5  # Set the lower z-coordinate for the bottom of the obstacle\n",
    "        obzh = [environment.zmax] * 5  # Set the upper z-coordinate for the top of the obstacle\n",
    "        fig.add_trace(go.Scatter3d(x=obx, y=oby, z=obzl, mode='lines', line=dict(color='black')))\n",
    "        fig.add_trace(go.Scatter3d(x=obx, y=oby, z=obzh, mode='lines', line=dict(color='black')))\n",
    "        cubedraw(obx, oby, obzl, obzh, 'black')\n",
    "\n",
    "\n",
    "    # Draw tree edges\n",
    "    for i in range(0, len(tree.parent)):\n",
    "        par = tree.parent[i]\n",
    "        x = [tree.x[i], tree.x[par]]\n",
    "        y = [tree.y[i], tree.y[par]]\n",
    "        z = [tree.z[i], tree.z[par]]\n",
    "        fig.add_trace(go.Scatter3d(x=x, y=y, z=z, mode='lines', line=dict(color='blue', width=1)))\n",
    "\n",
    "    # Draw path\n",
    "    for i in range(len(tree.path) - 1):\n",
    "        n1 = tree.path[i]\n",
    "        n2 = tree.path[i + 1]\n",
    "        x = [tree.x[n1], tree.x[n2]]\n",
    "        y = [tree.y[n1], tree.y[n2]]\n",
    "        z = [tree.z[n1], tree.z[n2]]\n",
    "        fig.add_trace(go.Scatter3d(x=x, y=y, z=z, mode='lines+markers', line=dict(color='red', width=2), marker=dict(size=4)))\n",
    "\n",
    "    # Draw path to be executed\n",
    "    for i in range(len(tree.tpath) - 1):\n",
    "        n1 = tree.tpath[i]\n",
    "        n2 = tree.tpath[i + 1]\n",
    "        x = [tree.x[n1], tree.x[n2]]\n",
    "        y = [tree.y[n1], tree.y[n2]]\n",
    "        z = [tree.z[n1], tree.z[n2]]\n",
    "        fig.add_trace(go.Scatter3d(x=x, y=y, z=z, mode='lines+markers', line=dict(color='green', width=2), marker=dict(size=5)))\n",
    "\n",
    "    # Draw goal region\n",
    "    fig.add_trace(go.Scatter3d(x=[goalXmin, goalXmin, goalXmax, goalXmax, goalXmin], y=[goalYmin, goalYmax, goalYmax, goalYmin, goalYmin], z=[goalZmin, goalZmin, goalZmin, goalZmin, goalZmin], mode='lines', line=dict(color='gray')))\n",
    "\n",
    "    # Set the layout and display the plot\n",
    "    fig.update_layout(scene=dict(aspectmode='cube'))\n",
    "    fig.show()"
   ]
  },
  {
   "cell_type": "code",
   "execution_count": 113,
   "metadata": {},
   "outputs": [
    {
     "name": "stdout",
     "output_type": "stream",
     "text": [
      "found\n"
     ]
    },
    {
     "data": {
      "application/vnd.plotly.v1+json": {
       "config": {
        "plotlyServerURL": "https://plot.ly"
       },
       "data": [
        {
         "line": {
          "color": "black"
         },
         "mode": "lines",
         "type": "scatter3d",
         "x": [
          40,
          60,
          60,
          40,
          40
         ],
         "y": [
          52,
          52,
          100,
          100,
          52
         ],
         "z": [
          0,
          0,
          0,
          0,
          0
         ]
        },
        {
         "line": {
          "color": "black"
         },
         "mode": "lines",
         "type": "scatter3d",
         "x": [
          40,
          60,
          60,
          40,
          40
         ],
         "y": [
          52,
          52,
          100,
          100,
          52
         ],
         "z": [
          100,
          100,
          100,
          100,
          100
         ]
        },
        {
         "line": {
          "color": "black",
          "dash": "solid"
         },
         "mode": "lines",
         "type": "scatter3d",
         "x": [
          40,
          60,
          60,
          40,
          40
         ],
         "y": [
          52,
          52,
          52,
          52,
          52
         ],
         "z": [
          0,
          0,
          100,
          100,
          0
         ]
        },
        {
         "line": {
          "color": "black",
          "dash": "solid"
         },
         "mode": "lines",
         "type": "scatter3d",
         "x": [
          60,
          60,
          60,
          60,
          60
         ],
         "y": [
          52,
          52,
          100,
          100,
          52
         ],
         "z": [
          0,
          0,
          100,
          100,
          0
         ]
        },
        {
         "line": {
          "color": "black",
          "dash": "solid"
         },
         "mode": "lines",
         "type": "scatter3d",
         "x": [
          60,
          40,
          40,
          60,
          60
         ],
         "y": [
          100,
          100,
          100,
          100,
          100
         ],
         "z": [
          0,
          0,
          100,
          100,
          0
         ]
        },
        {
         "line": {
          "color": "black",
          "dash": "solid"
         },
         "mode": "lines",
         "type": "scatter3d",
         "x": [
          40,
          40,
          40,
          40,
          40
         ],
         "y": [
          100,
          100,
          52,
          52,
          100
         ],
         "z": [
          0,
          0,
          100,
          100,
          0
         ]
        },
        {
         "line": {
          "color": "black"
         },
         "mode": "lines",
         "type": "scatter3d",
         "x": [
          70,
          80,
          80,
          70,
          70
         ],
         "y": [
          40,
          40,
          60,
          60,
          40
         ],
         "z": [
          0,
          0,
          0,
          0,
          0
         ]
        },
        {
         "line": {
          "color": "black"
         },
         "mode": "lines",
         "type": "scatter3d",
         "x": [
          70,
          80,
          80,
          70,
          70
         ],
         "y": [
          40,
          40,
          60,
          60,
          40
         ],
         "z": [
          100,
          100,
          100,
          100,
          100
         ]
        },
        {
         "line": {
          "color": "black",
          "dash": "solid"
         },
         "mode": "lines",
         "type": "scatter3d",
         "x": [
          70,
          80,
          80,
          70,
          70
         ],
         "y": [
          40,
          40,
          40,
          40,
          40
         ],
         "z": [
          0,
          0,
          100,
          100,
          0
         ]
        },
        {
         "line": {
          "color": "black",
          "dash": "solid"
         },
         "mode": "lines",
         "type": "scatter3d",
         "x": [
          80,
          80,
          80,
          80,
          80
         ],
         "y": [
          40,
          40,
          60,
          60,
          40
         ],
         "z": [
          0,
          0,
          100,
          100,
          0
         ]
        },
        {
         "line": {
          "color": "black",
          "dash": "solid"
         },
         "mode": "lines",
         "type": "scatter3d",
         "x": [
          80,
          70,
          70,
          80,
          80
         ],
         "y": [
          60,
          60,
          60,
          60,
          60
         ],
         "z": [
          0,
          0,
          100,
          100,
          0
         ]
        },
        {
         "line": {
          "color": "black",
          "dash": "solid"
         },
         "mode": "lines",
         "type": "scatter3d",
         "x": [
          70,
          70,
          70,
          70,
          70
         ],
         "y": [
          60,
          60,
          40,
          40,
          60
         ],
         "z": [
          0,
          0,
          100,
          100,
          0
         ]
        },
        {
         "line": {
          "color": "black"
         },
         "mode": "lines",
         "type": "scatter3d",
         "x": [
          40,
          60,
          60,
          40,
          40
         ],
         "y": [
          0,
          0,
          48,
          48,
          0
         ],
         "z": [
          0,
          0,
          0,
          0,
          0
         ]
        },
        {
         "line": {
          "color": "black"
         },
         "mode": "lines",
         "type": "scatter3d",
         "x": [
          40,
          60,
          60,
          40,
          40
         ],
         "y": [
          0,
          0,
          48,
          48,
          0
         ],
         "z": [
          100,
          100,
          100,
          100,
          100
         ]
        },
        {
         "line": {
          "color": "black",
          "dash": "solid"
         },
         "mode": "lines",
         "type": "scatter3d",
         "x": [
          40,
          60,
          60,
          40,
          40
         ],
         "y": [
          0,
          0,
          0,
          0,
          0
         ],
         "z": [
          0,
          0,
          100,
          100,
          0
         ]
        },
        {
         "line": {
          "color": "black",
          "dash": "solid"
         },
         "mode": "lines",
         "type": "scatter3d",
         "x": [
          60,
          60,
          60,
          60,
          60
         ],
         "y": [
          0,
          0,
          48,
          48,
          0
         ],
         "z": [
          0,
          0,
          100,
          100,
          0
         ]
        },
        {
         "line": {
          "color": "black",
          "dash": "solid"
         },
         "mode": "lines",
         "type": "scatter3d",
         "x": [
          60,
          40,
          40,
          60,
          60
         ],
         "y": [
          48,
          48,
          48,
          48,
          48
         ],
         "z": [
          0,
          0,
          100,
          100,
          0
         ]
        },
        {
         "line": {
          "color": "black",
          "dash": "solid"
         },
         "mode": "lines",
         "type": "scatter3d",
         "x": [
          40,
          40,
          40,
          40,
          40
         ],
         "y": [
          48,
          48,
          0,
          0,
          48
         ],
         "z": [
          0,
          0,
          100,
          100,
          0
         ]
        },
        {
         "line": {
          "color": "black"
         },
         "mode": "lines",
         "type": "scatter3d",
         "x": [
          15,
          25,
          25,
          15,
          15
         ],
         "y": [
          15,
          15,
          30,
          30,
          15
         ],
         "z": [
          0,
          0,
          0,
          0,
          0
         ]
        },
        {
         "line": {
          "color": "black"
         },
         "mode": "lines",
         "type": "scatter3d",
         "x": [
          15,
          25,
          25,
          15,
          15
         ],
         "y": [
          15,
          15,
          30,
          30,
          15
         ],
         "z": [
          100,
          100,
          100,
          100,
          100
         ]
        },
        {
         "line": {
          "color": "black",
          "dash": "solid"
         },
         "mode": "lines",
         "type": "scatter3d",
         "x": [
          15,
          25,
          25,
          15,
          15
         ],
         "y": [
          15,
          15,
          15,
          15,
          15
         ],
         "z": [
          0,
          0,
          100,
          100,
          0
         ]
        },
        {
         "line": {
          "color": "black",
          "dash": "solid"
         },
         "mode": "lines",
         "type": "scatter3d",
         "x": [
          25,
          25,
          25,
          25,
          25
         ],
         "y": [
          15,
          15,
          30,
          30,
          15
         ],
         "z": [
          0,
          0,
          100,
          100,
          0
         ]
        },
        {
         "line": {
          "color": "black",
          "dash": "solid"
         },
         "mode": "lines",
         "type": "scatter3d",
         "x": [
          25,
          15,
          15,
          25,
          25
         ],
         "y": [
          30,
          30,
          30,
          30,
          30
         ],
         "z": [
          0,
          0,
          100,
          100,
          0
         ]
        },
        {
         "line": {
          "color": "black",
          "dash": "solid"
         },
         "mode": "lines",
         "type": "scatter3d",
         "x": [
          15,
          15,
          15,
          15,
          15
         ],
         "y": [
          30,
          30,
          15,
          15,
          30
         ],
         "z": [
          0,
          0,
          100,
          100,
          0
         ]
        },
        {
         "line": {
          "color": "black"
         },
         "mode": "lines",
         "type": "scatter3d",
         "x": [
          25,
          35,
          35,
          25,
          25
         ],
         "y": [
          40,
          40,
          60,
          60,
          40
         ],
         "z": [
          0,
          0,
          0,
          0,
          0
         ]
        },
        {
         "line": {
          "color": "black"
         },
         "mode": "lines",
         "type": "scatter3d",
         "x": [
          25,
          35,
          35,
          25,
          25
         ],
         "y": [
          40,
          40,
          60,
          60,
          40
         ],
         "z": [
          100,
          100,
          100,
          100,
          100
         ]
        },
        {
         "line": {
          "color": "black",
          "dash": "solid"
         },
         "mode": "lines",
         "type": "scatter3d",
         "x": [
          25,
          35,
          35,
          25,
          25
         ],
         "y": [
          40,
          40,
          40,
          40,
          40
         ],
         "z": [
          0,
          0,
          100,
          100,
          0
         ]
        },
        {
         "line": {
          "color": "black",
          "dash": "solid"
         },
         "mode": "lines",
         "type": "scatter3d",
         "x": [
          35,
          35,
          35,
          35,
          35
         ],
         "y": [
          40,
          40,
          60,
          60,
          40
         ],
         "z": [
          0,
          0,
          100,
          100,
          0
         ]
        },
        {
         "line": {
          "color": "black",
          "dash": "solid"
         },
         "mode": "lines",
         "type": "scatter3d",
         "x": [
          35,
          25,
          25,
          35,
          35
         ],
         "y": [
          60,
          60,
          60,
          60,
          60
         ],
         "z": [
          0,
          0,
          100,
          100,
          0
         ]
        },
        {
         "line": {
          "color": "black",
          "dash": "solid"
         },
         "mode": "lines",
         "type": "scatter3d",
         "x": [
          25,
          25,
          25,
          25,
          25
         ],
         "y": [
          60,
          60,
          40,
          40,
          60
         ],
         "z": [
          0,
          0,
          100,
          100,
          0
         ]
        },
        {
         "line": {
          "color": "blue",
          "width": 1
         },
         "mode": "lines",
         "type": "scatter3d",
         "x": [
          100,
          100
         ],
         "y": [
          100,
          100
         ],
         "z": [
          100,
          100
         ]
        },
        {
         "line": {
          "color": "blue",
          "width": 1
         },
         "mode": "lines",
         "type": "scatter3d",
         "x": [
          96,
          100
         ],
         "y": [
          96,
          100
         ],
         "z": [
          96,
          100
         ]
        },
        {
         "line": {
          "color": "blue",
          "width": 1
         },
         "mode": "lines",
         "type": "scatter3d",
         "x": [
          92,
          96
         ],
         "y": [
          92,
          96
         ],
         "z": [
          95,
          96
         ]
        },
        {
         "line": {
          "color": "blue",
          "width": 1
         },
         "mode": "lines",
         "type": "scatter3d",
         "x": [
          92,
          92
         ],
         "y": [
          87,
          92
         ],
         "z": [
          91,
          95
         ]
        },
        {
         "line": {
          "color": "blue",
          "width": 1
         },
         "mode": "lines",
         "type": "scatter3d",
         "x": [
          90,
          92
         ],
         "y": [
          82,
          87
         ],
         "z": [
          87,
          91
         ]
        },
        {
         "line": {
          "color": "blue",
          "width": 1
         },
         "mode": "lines",
         "type": "scatter3d",
         "x": [
          90,
          90
         ],
         "y": [
          77,
          82
         ],
         "z": [
          86,
          87
         ]
        },
        {
         "line": {
          "color": "blue",
          "width": 1
         },
         "mode": "lines",
         "type": "scatter3d",
         "x": [
          85,
          90
         ],
         "y": [
          75,
          77
         ],
         "z": [
          84,
          86
         ]
        },
        {
         "line": {
          "color": "blue",
          "width": 1
         },
         "mode": "lines",
         "type": "scatter3d",
         "x": [
          81,
          85
         ],
         "y": [
          71,
          75
         ],
         "z": [
          80,
          84
         ]
        },
        {
         "line": {
          "color": "blue",
          "width": 1
         },
         "mode": "lines",
         "type": "scatter3d",
         "x": [
          79,
          81
         ],
         "y": [
          66,
          71
         ],
         "z": [
          76,
          80
         ]
        },
        {
         "line": {
          "color": "blue",
          "width": 1
         },
         "mode": "lines",
         "type": "scatter3d",
         "x": [
          74,
          79
         ],
         "y": [
          63,
          66
         ],
         "z": [
          74,
          76
         ]
        },
        {
         "line": {
          "color": "blue",
          "width": 1
         },
         "mode": "lines",
         "type": "scatter3d",
         "x": [
          69,
          74
         ],
         "y": [
          63,
          63
         ],
         "z": [
          72,
          74
         ]
        },
        {
         "line": {
          "color": "blue",
          "width": 1
         },
         "mode": "lines",
         "type": "scatter3d",
         "x": [
          67,
          69
         ],
         "y": [
          58,
          63
         ],
         "z": [
          71,
          72
         ]
        },
        {
         "line": {
          "color": "blue",
          "width": 1
         },
         "mode": "lines",
         "type": "scatter3d",
         "x": [
          62,
          67
         ],
         "y": [
          57,
          58
         ],
         "z": [
          67,
          71
         ]
        },
        {
         "line": {
          "color": "blue",
          "width": 1
         },
         "mode": "lines",
         "type": "scatter3d",
         "x": [
          90,
          90
         ],
         "y": [
          87,
          82
         ],
         "z": [
          85,
          87
         ]
        },
        {
         "line": {
          "color": "blue",
          "width": 1
         },
         "mode": "lines",
         "type": "scatter3d",
         "x": [
          66,
          62
         ],
         "y": [
          55,
          57
         ],
         "z": [
          63,
          67
         ]
        },
        {
         "line": {
          "color": "blue",
          "width": 1
         },
         "mode": "lines",
         "type": "scatter3d",
         "x": [
          62,
          66
         ],
         "y": [
          51,
          55
         ],
         "z": [
          59,
          63
         ]
        },
        {
         "line": {
          "color": "blue",
          "width": 1
         },
         "mode": "lines",
         "type": "scatter3d",
         "x": [
          64,
          62
         ],
         "y": [
          46,
          51
         ],
         "z": [
          55,
          59
         ]
        },
        {
         "line": {
          "color": "blue",
          "width": 1
         },
         "mode": "lines",
         "type": "scatter3d",
         "x": [
          61,
          64
         ],
         "y": [
          41,
          46
         ],
         "z": [
          52,
          55
         ]
        },
        {
         "line": {
          "color": "blue",
          "width": 1
         },
         "mode": "lines",
         "type": "scatter3d",
         "x": [
          81,
          79
         ],
         "y": [
          61,
          66
         ],
         "z": [
          77,
          76
         ]
        },
        {
         "line": {
          "color": "blue",
          "width": 1
         },
         "mode": "lines",
         "type": "scatter3d",
         "x": [
          76,
          81
         ],
         "y": [
          73,
          71
         ],
         "z": [
          80,
          80
         ]
        },
        {
         "line": {
          "color": "blue",
          "width": 1
         },
         "mode": "lines",
         "type": "scatter3d",
         "x": [
          90,
          90
         ],
         "y": [
          91,
          87
         ],
         "z": [
          82,
          85
         ]
        },
        {
         "line": {
          "color": "blue",
          "width": 1
         },
         "mode": "lines",
         "type": "scatter3d",
         "x": [
          72,
          76
         ],
         "y": [
          76,
          73
         ],
         "z": [
          79,
          80
         ]
        },
        {
         "line": {
          "color": "blue",
          "width": 1
         },
         "mode": "lines",
         "type": "scatter3d",
         "x": [
          65,
          61
         ],
         "y": [
          43,
          41
         ],
         "z": [
          48,
          52
         ]
        },
        {
         "line": {
          "color": "blue",
          "width": 1
         },
         "mode": "lines",
         "type": "scatter3d",
         "x": [
          68,
          65
         ],
         "y": [
          39,
          43
         ],
         "z": [
          44,
          48
         ]
        },
        {
         "line": {
          "color": "blue",
          "width": 1
         },
         "mode": "lines",
         "type": "scatter3d",
         "x": [
          61,
          65
         ],
         "y": [
          46,
          43
         ],
         "z": [
          44,
          48
         ]
        },
        {
         "line": {
          "color": "blue",
          "width": 1
         },
         "mode": "lines",
         "type": "scatter3d",
         "x": [
          85,
          81
         ],
         "y": [
          58,
          61
         ],
         "z": [
          78,
          77
         ]
        },
        {
         "line": {
          "color": "blue",
          "width": 1
         },
         "mode": "lines",
         "type": "scatter3d",
         "x": [
          70,
          68
         ],
         "y": [
          34,
          39
         ],
         "z": [
          44,
          44
         ]
        },
        {
         "line": {
          "color": "blue",
          "width": 1
         },
         "mode": "lines",
         "type": "scatter3d",
         "x": [
          69,
          70
         ],
         "y": [
          29,
          34
         ],
         "z": [
          43,
          44
         ]
        },
        {
         "line": {
          "color": "blue",
          "width": 1
         },
         "mode": "lines",
         "type": "scatter3d",
         "x": [
          89,
          85
         ],
         "y": [
          55,
          58
         ],
         "z": [
          75,
          78
         ]
        },
        {
         "line": {
          "color": "blue",
          "width": 1
         },
         "mode": "lines",
         "type": "scatter3d",
         "x": [
          64,
          69
         ],
         "y": [
          27,
          29
         ],
         "z": [
          38,
          43
         ]
        },
        {
         "line": {
          "color": "blue",
          "width": 1
         },
         "mode": "lines",
         "type": "scatter3d",
         "x": [
          91,
          89
         ],
         "y": [
          59,
          55
         ],
         "z": [
          73,
          75
         ]
        },
        {
         "line": {
          "color": "blue",
          "width": 1
         },
         "mode": "lines",
         "type": "scatter3d",
         "x": [
          70,
          69
         ],
         "y": [
          26,
          29
         ],
         "z": [
          46,
          43
         ]
        },
        {
         "line": {
          "color": "blue",
          "width": 1
         },
         "mode": "lines",
         "type": "scatter3d",
         "x": [
          70,
          70
         ],
         "y": [
          21,
          26
         ],
         "z": [
          49,
          46
         ]
        },
        {
         "line": {
          "color": "blue",
          "width": 1
         },
         "mode": "lines",
         "type": "scatter3d",
         "x": [
          95,
          91
         ],
         "y": [
          60,
          59
         ],
         "z": [
          71,
          73
         ]
        },
        {
         "line": {
          "color": "blue",
          "width": 1
         },
         "mode": "lines",
         "type": "scatter3d",
         "x": [
          96,
          95
         ],
         "y": [
          64,
          60
         ],
         "z": [
          68,
          71
         ]
        },
        {
         "line": {
          "color": "blue",
          "width": 1
         },
         "mode": "lines",
         "type": "scatter3d",
         "x": [
          65,
          64
         ],
         "y": [
          22,
          27
         ],
         "z": [
          34,
          38
         ]
        },
        {
         "line": {
          "color": "blue",
          "width": 1
         },
         "mode": "lines",
         "type": "scatter3d",
         "x": [
          88,
          89
         ],
         "y": [
          50,
          55
         ],
         "z": [
          74,
          75
         ]
        },
        {
         "line": {
          "color": "blue",
          "width": 1
         },
         "mode": "lines",
         "type": "scatter3d",
         "x": [
          72,
          70
         ],
         "y": [
          25,
          21
         ],
         "z": [
          52,
          49
         ]
        },
        {
         "line": {
          "color": "blue",
          "width": 1
         },
         "mode": "lines",
         "type": "scatter3d",
         "x": [
          63,
          65
         ],
         "y": [
          26,
          22
         ],
         "z": [
          31,
          34
         ]
        },
        {
         "line": {
          "color": "blue",
          "width": 1
         },
         "mode": "lines",
         "type": "scatter3d",
         "x": [
          66,
          65
         ],
         "y": [
          17,
          22
         ],
         "z": [
          29,
          34
         ]
        },
        {
         "line": {
          "color": "blue",
          "width": 1
         },
         "mode": "lines",
         "type": "scatter3d",
         "x": [
          93,
          96
         ],
         "y": [
          68,
          64
         ],
         "z": [
          65,
          68
         ]
        },
        {
         "line": {
          "color": "blue",
          "width": 1
         },
         "mode": "lines",
         "type": "scatter3d",
         "x": [
          67,
          72
         ],
         "y": [
          78,
          76
         ],
         "z": [
          79,
          79
         ]
        },
        {
         "line": {
          "color": "blue",
          "width": 1
         },
         "mode": "lines",
         "type": "scatter3d",
         "x": [
          61,
          66
         ],
         "y": [
          16,
          17
         ],
         "z": [
          24,
          29
         ]
        },
        {
         "line": {
          "color": "blue",
          "width": 1
         },
         "mode": "lines",
         "type": "scatter3d",
         "x": [
          62,
          67
         ],
         "y": [
          78,
          78
         ],
         "z": [
          78,
          79
         ]
        },
        {
         "line": {
          "color": "blue",
          "width": 1
         },
         "mode": "lines",
         "type": "scatter3d",
         "x": [
          64,
          61
         ],
         "y": [
          12,
          16
         ],
         "z": [
          19,
          24
         ]
        },
        {
         "line": {
          "color": "blue",
          "width": 1
         },
         "mode": "lines",
         "type": "scatter3d",
         "x": [
          70,
          66
         ],
         "y": [
          17,
          17
         ],
         "z": [
          28,
          29
         ]
        },
        {
         "line": {
          "color": "blue",
          "width": 1
         },
         "mode": "lines",
         "type": "scatter3d",
         "x": [
          62,
          61
         ],
         "y": [
          50,
          46
         ],
         "z": [
          40,
          44
         ]
        },
        {
         "line": {
          "color": "blue",
          "width": 1
         },
         "mode": "lines",
         "type": "scatter3d",
         "x": [
          65,
          62
         ],
         "y": [
          53,
          50
         ],
         "z": [
          37,
          40
         ]
        },
        {
         "line": {
          "color": "blue",
          "width": 1
         },
         "mode": "lines",
         "type": "scatter3d",
         "x": [
          66,
          66
         ],
         "y": [
          59,
          55
         ],
         "z": [
          62,
          63
         ]
        },
        {
         "line": {
          "color": "blue",
          "width": 1
         },
         "mode": "lines",
         "type": "scatter3d",
         "x": [
          69,
          65
         ],
         "y": [
          52,
          53
         ],
         "z": [
          35,
          37
         ]
        },
        {
         "line": {
          "color": "blue",
          "width": 1
         },
         "mode": "lines",
         "type": "scatter3d",
         "x": [
          61,
          65
         ],
         "y": [
          56,
          53
         ],
         "z": [
          35,
          37
         ]
        },
        {
         "line": {
          "color": "blue",
          "width": 1
         },
         "mode": "lines",
         "type": "scatter3d",
         "x": [
          67,
          70
         ],
         "y": [
          16,
          21
         ],
         "z": [
          49,
          49
         ]
        },
        {
         "line": {
          "color": "blue",
          "width": 1
         },
         "mode": "lines",
         "type": "scatter3d",
         "x": [
          88,
          91
         ],
         "y": [
          54,
          59
         ],
         "z": [
          72,
          73
         ]
        },
        {
         "line": {
          "color": "blue",
          "width": 1
         },
         "mode": "lines",
         "type": "scatter3d",
         "x": [
          62,
          61
         ],
         "y": [
          60,
          56
         ],
         "z": [
          32,
          35
         ]
        },
        {
         "line": {
          "color": "blue",
          "width": 1
         },
         "mode": "lines",
         "type": "scatter3d",
         "x": [
          61,
          62
         ],
         "y": [
          64,
          60
         ],
         "z": [
          31,
          32
         ]
        },
        {
         "line": {
          "color": "blue",
          "width": 1
         },
         "mode": "lines",
         "type": "scatter3d",
         "x": [
          76,
          72
         ],
         "y": [
          23,
          25
         ],
         "z": [
          52,
          52
         ]
        },
        {
         "line": {
          "color": "blue",
          "width": 1
         },
         "mode": "lines",
         "type": "scatter3d",
         "x": [
          86,
          88
         ],
         "y": [
          45,
          50
         ],
         "z": [
          73,
          74
         ]
        },
        {
         "line": {
          "color": "blue",
          "width": 1
         },
         "mode": "lines",
         "type": "scatter3d",
         "x": [
          66,
          66
         ],
         "y": [
          63,
          59
         ],
         "z": [
          61,
          62
         ]
        },
        {
         "line": {
          "color": "blue",
          "width": 1
         },
         "mode": "lines",
         "type": "scatter3d",
         "x": [
          62,
          67
         ],
         "y": [
          14,
          16
         ],
         "z": [
          51,
          49
         ]
        },
        {
         "line": {
          "color": "blue",
          "width": 1
         },
         "mode": "lines",
         "type": "scatter3d",
         "x": [
          89,
          85
         ],
         "y": [
          56,
          58
         ],
         "z": [
          79,
          78
         ]
        },
        {
         "line": {
          "color": "blue",
          "width": 1
         },
         "mode": "lines",
         "type": "scatter3d",
         "x": [
          83,
          86
         ],
         "y": [
          40,
          45
         ],
         "z": [
          75,
          73
         ]
        },
        {
         "line": {
          "color": "blue",
          "width": 1
         },
         "mode": "lines",
         "type": "scatter3d",
         "x": [
          74,
          70
         ],
         "y": [
          33,
          34
         ],
         "z": [
          42,
          44
         ]
        },
        {
         "line": {
          "color": "blue",
          "width": 1
         },
         "mode": "lines",
         "type": "scatter3d",
         "x": [
          91,
          93
         ],
         "y": [
          72,
          68
         ],
         "z": [
          63,
          65
         ]
        },
        {
         "line": {
          "color": "blue",
          "width": 1
         },
         "mode": "lines",
         "type": "scatter3d",
         "x": [
          87,
          92
         ],
         "y": [
          92,
          92
         ],
         "z": [
          94,
          95
         ]
        },
        {
         "line": {
          "color": "blue",
          "width": 1
         },
         "mode": "lines",
         "type": "scatter3d",
         "x": [
          77,
          76
         ],
         "y": [
          25,
          23
         ],
         "z": [
          54,
          52
         ]
        },
        {
         "line": {
          "color": "blue",
          "width": 1
         },
         "mode": "lines",
         "type": "scatter3d",
         "x": [
          65,
          61
         ],
         "y": [
          65,
          64
         ],
         "z": [
          29,
          31
         ]
        },
        {
         "line": {
          "color": "blue",
          "width": 1
         },
         "mode": "lines",
         "type": "scatter3d",
         "x": [
          91,
          91
         ],
         "y": [
          76,
          72
         ],
         "z": [
          62,
          63
         ]
        },
        {
         "line": {
          "color": "blue",
          "width": 1
         },
         "mode": "lines",
         "type": "scatter3d",
         "x": [
          76,
          76
         ],
         "y": [
          25,
          23
         ],
         "z": [
          49,
          52
         ]
        },
        {
         "line": {
          "color": "blue",
          "width": 1
         },
         "mode": "lines",
         "type": "scatter3d",
         "x": [
          76,
          76
         ],
         "y": [
          78,
          73
         ],
         "z": [
          80,
          80
         ]
        },
        {
         "line": {
          "color": "blue",
          "width": 1
         },
         "mode": "lines",
         "type": "scatter3d",
         "x": [
          88,
          91
         ],
         "y": [
          80,
          76
         ],
         "z": [
          60,
          62
         ]
        },
        {
         "line": {
          "color": "blue",
          "width": 1
         },
         "mode": "lines",
         "type": "scatter3d",
         "x": [
          69,
          65
         ],
         "y": [
          67,
          65
         ],
         "z": [
          27,
          29
         ]
        },
        {
         "line": {
          "color": "blue",
          "width": 1
         },
         "mode": "lines",
         "type": "scatter3d",
         "x": [
          61,
          62
         ],
         "y": [
          9,
          14
         ],
         "z": [
          53,
          51
         ]
        },
        {
         "line": {
          "color": "blue",
          "width": 1
         },
         "mode": "lines",
         "type": "scatter3d",
         "x": [
          93,
          91
         ],
         "y": [
          71,
          76
         ],
         "z": [
          61,
          62
         ]
        },
        {
         "line": {
          "color": "blue",
          "width": 1
         },
         "mode": "lines",
         "type": "scatter3d",
         "x": [
          65,
          69
         ],
         "y": [
          48,
          52
         ],
         "z": [
          34,
          35
         ]
        },
        {
         "line": {
          "color": "blue",
          "width": 1
         },
         "mode": "lines",
         "type": "scatter3d",
         "x": [
          57,
          62
         ],
         "y": [
          49,
          51
         ],
         "z": [
          60,
          59
         ]
        },
        {
         "line": {
          "color": "blue",
          "width": 1
         },
         "mode": "lines",
         "type": "scatter3d",
         "x": [
          62,
          62
         ],
         "y": [
          82,
          78
         ],
         "z": [
          76,
          78
         ]
        },
        {
         "line": {
          "color": "blue",
          "width": 1
         },
         "mode": "lines",
         "type": "scatter3d",
         "x": [
          77,
          74
         ],
         "y": [
          36,
          33
         ],
         "z": [
          42,
          42
         ]
        },
        {
         "line": {
          "color": "blue",
          "width": 1
         },
         "mode": "lines",
         "type": "scatter3d",
         "x": [
          73,
          69
         ],
         "y": [
          65,
          67
         ],
         "z": [
          26,
          27
         ]
        },
        {
         "line": {
          "color": "blue",
          "width": 1
         },
         "mode": "lines",
         "type": "scatter3d",
         "x": [
          73,
          70
         ],
         "y": [
          20,
          17
         ],
         "z": [
          24,
          28
         ]
        },
        {
         "line": {
          "color": "blue",
          "width": 1
         },
         "mode": "lines",
         "type": "scatter3d",
         "x": [
          76,
          73
         ],
         "y": [
          68,
          65
         ],
         "z": [
          25,
          26
         ]
        },
        {
         "line": {
          "color": "blue",
          "width": 1
         },
         "mode": "lines",
         "type": "scatter3d",
         "x": [
          77,
          73
         ],
         "y": [
          19,
          20
         ],
         "z": [
          20,
          24
         ]
        },
        {
         "line": {
          "color": "blue",
          "width": 1
         },
         "mode": "lines",
         "type": "scatter3d",
         "x": [
          62,
          67
         ],
         "y": [
          55,
          58
         ],
         "z": [
          73,
          71
         ]
        },
        {
         "line": {
          "color": "blue",
          "width": 1
         },
         "mode": "lines",
         "type": "scatter3d",
         "x": [
          94,
          96
         ],
         "y": [
          62,
          64
         ],
         "z": [
          68,
          68
         ]
        },
        {
         "line": {
          "color": "blue",
          "width": 1
         },
         "mode": "lines",
         "type": "scatter3d",
         "x": [
          79,
          77
         ],
         "y": [
          23,
          19
         ],
         "z": [
          17,
          20
         ]
        },
        {
         "line": {
          "color": "blue",
          "width": 1
         },
         "mode": "lines",
         "type": "scatter3d",
         "x": [
          80,
          77
         ],
         "y": [
          21,
          25
         ],
         "z": [
          56,
          54
         ]
        },
        {
         "line": {
          "color": "blue",
          "width": 1
         },
         "mode": "lines",
         "type": "scatter3d",
         "x": [
          68,
          64
         ],
         "y": [
          9,
          12
         ],
         "z": [
          15,
          19
         ]
        },
        {
         "line": {
          "color": "blue",
          "width": 1
         },
         "mode": "lines",
         "type": "scatter3d",
         "x": [
          67,
          66
         ],
         "y": [
          67,
          63
         ],
         "z": [
          61,
          61
         ]
        },
        {
         "line": {
          "color": "blue",
          "width": 1
         },
         "mode": "lines",
         "type": "scatter3d",
         "x": [
          62,
          65
         ],
         "y": [
          51,
          53
         ],
         "z": [
          36,
          37
         ]
        },
        {
         "line": {
          "color": "blue",
          "width": 1
         },
         "mode": "lines",
         "type": "scatter3d",
         "x": [
          78,
          80
         ],
         "y": [
          16,
          21
         ],
         "z": [
          60,
          56
         ]
        },
        {
         "line": {
          "color": "blue",
          "width": 1
         },
         "mode": "lines",
         "type": "scatter3d",
         "x": [
          69,
          65
         ],
         "y": [
          65,
          65
         ],
         "z": [
          29,
          29
         ]
        },
        {
         "line": {
          "color": "blue",
          "width": 1
         },
         "mode": "lines",
         "type": "scatter3d",
         "x": [
          61,
          61
         ],
         "y": [
          4,
          9
         ],
         "z": [
          55,
          53
         ]
        },
        {
         "line": {
          "color": "blue",
          "width": 1
         },
         "mode": "lines",
         "type": "scatter3d",
         "x": [
          78,
          77
         ],
         "y": [
          14,
          19
         ],
         "z": [
          17,
          20
         ]
        },
        {
         "line": {
          "color": "blue",
          "width": 1
         },
         "mode": "lines",
         "type": "scatter3d",
         "x": [
          82,
          78
         ],
         "y": [
          13,
          16
         ],
         "z": [
          57,
          60
         ]
        },
        {
         "line": {
          "color": "blue",
          "width": 1
         },
         "mode": "lines",
         "type": "scatter3d",
         "x": [
          76,
          76
         ],
         "y": [
          72,
          68
         ],
         "z": [
          25,
          25
         ]
        },
        {
         "line": {
          "color": "blue",
          "width": 1
         },
         "mode": "lines",
         "type": "scatter3d",
         "x": [
          80,
          76
         ],
         "y": [
          78,
          78
         ],
         "z": [
          79,
          80
         ]
        },
        {
         "line": {
          "color": "blue",
          "width": 1
         },
         "mode": "lines",
         "type": "scatter3d",
         "x": [
          52,
          57
         ],
         "y": [
          50,
          49
         ],
         "z": [
          59,
          60
         ]
        },
        {
         "line": {
          "color": "blue",
          "width": 1
         },
         "mode": "lines",
         "type": "scatter3d",
         "x": [
          93,
          91
         ],
         "y": [
          80,
          76
         ],
         "z": [
          61,
          62
         ]
        },
        {
         "line": {
          "color": "blue",
          "width": 1
         },
         "mode": "lines",
         "type": "scatter3d",
         "x": [
          47,
          52
         ],
         "y": [
          50,
          50
         ],
         "z": [
          60,
          59
         ]
        },
        {
         "line": {
          "color": "blue",
          "width": 1
         },
         "mode": "lines",
         "type": "scatter3d",
         "x": [
          63,
          64
         ],
         "y": [
          47,
          46
         ],
         "z": [
          57,
          55
         ]
        },
        {
         "line": {
          "color": "blue",
          "width": 1
         },
         "mode": "lines",
         "type": "scatter3d",
         "x": [
          76,
          76
         ],
         "y": [
          76,
          72
         ],
         "z": [
          24,
          25
         ]
        },
        {
         "line": {
          "color": "blue",
          "width": 1
         },
         "mode": "lines",
         "type": "scatter3d",
         "x": [
          73,
          78
         ],
         "y": [
          17,
          16
         ],
         "z": [
          63,
          60
         ]
        },
        {
         "line": {
          "color": "blue",
          "width": 1
         },
         "mode": "lines",
         "type": "scatter3d",
         "x": [
          74,
          76
         ],
         "y": [
          82,
          78
         ],
         "z": [
          80,
          80
         ]
        },
        {
         "line": {
          "color": "blue",
          "width": 1
         },
         "mode": "lines",
         "type": "scatter3d",
         "x": [
          80,
          76
         ],
         "y": [
          75,
          76
         ],
         "z": [
          23,
          24
         ]
        },
        {
         "line": {
          "color": "blue",
          "width": 1
         },
         "mode": "lines",
         "type": "scatter3d",
         "x": [
          42,
          47
         ],
         "y": [
          50,
          50
         ],
         "z": [
          60,
          60
         ]
        },
        {
         "line": {
          "color": "blue",
          "width": 1
         },
         "mode": "lines",
         "type": "scatter3d",
         "x": [
          89,
          86
         ],
         "y": [
          41,
          45
         ],
         "z": [
          72,
          73
         ]
        },
        {
         "line": {
          "color": "blue",
          "width": 1
         },
         "mode": "lines",
         "type": "scatter3d",
         "x": [
          37,
          42
         ],
         "y": [
          48,
          50
         ],
         "z": [
          62,
          60
         ]
        },
        {
         "line": {
          "color": "blue",
          "width": 1
         },
         "mode": "lines",
         "type": "scatter3d",
         "x": [
          62,
          65
         ],
         "y": [
          17,
          22
         ],
         "z": [
          35,
          34
         ]
        },
        {
         "line": {
          "color": "blue",
          "width": 1
         },
         "mode": "lines",
         "type": "scatter3d",
         "x": [
          84,
          83
         ],
         "y": [
          35,
          40
         ],
         "z": [
          77,
          75
         ]
        },
        {
         "line": {
          "color": "blue",
          "width": 1
         },
         "mode": "lines",
         "type": "scatter3d",
         "x": [
          83,
          84
         ],
         "y": [
          30,
          35
         ],
         "z": [
          79,
          77
         ]
        },
        {
         "line": {
          "color": "blue",
          "width": 1
         },
         "mode": "lines",
         "type": "scatter3d",
         "x": [
          75,
          73
         ],
         "y": [
          21,
          17
         ],
         "z": [
          63,
          63
         ]
        },
        {
         "line": {
          "color": "blue",
          "width": 1
         },
         "mode": "lines",
         "type": "scatter3d",
         "x": [
          83,
          80
         ],
         "y": [
          24,
          21
         ],
         "z": [
          55,
          56
         ]
        },
        {
         "line": {
          "color": "blue",
          "width": 1
         },
         "mode": "lines",
         "type": "scatter3d",
         "x": [
          78,
          78
         ],
         "y": [
          11,
          16
         ],
         "z": [
          63,
          60
         ]
        },
        {
         "line": {
          "color": "blue",
          "width": 1
         },
         "mode": "lines",
         "type": "scatter3d",
         "x": [
          68,
          68
         ],
         "y": [
          13,
          9
         ],
         "z": [
          12,
          15
         ]
        },
        {
         "line": {
          "color": "blue",
          "width": 1
         },
         "mode": "lines",
         "type": "scatter3d",
         "x": [
          78,
          83
         ],
         "y": [
          39,
          40
         ],
         "z": [
          74,
          75
         ]
        },
        {
         "line": {
          "color": "blue",
          "width": 1
         },
         "mode": "lines",
         "type": "scatter3d",
         "x": [
          87,
          83
         ],
         "y": [
          28,
          30
         ],
         "z": [
          81,
          79
         ]
        },
        {
         "line": {
          "color": "blue",
          "width": 1
         },
         "mode": "lines",
         "type": "scatter3d",
         "x": [
          73,
          78
         ],
         "y": [
          10,
          11
         ],
         "z": [
          67,
          63
         ]
        },
        {
         "line": {
          "color": "blue",
          "width": 1
         },
         "mode": "lines",
         "type": "scatter3d",
         "x": [
          81,
          80
         ],
         "y": [
          79,
          75
         ],
         "z": [
          22,
          23
         ]
        },
        {
         "line": {
          "color": "blue",
          "width": 1
         },
         "mode": "lines",
         "type": "scatter3d",
         "x": [
          85,
          81
         ],
         "y": [
          77,
          79
         ],
         "z": [
          21,
          22
         ]
        },
        {
         "line": {
          "color": "blue",
          "width": 1
         },
         "mode": "lines",
         "type": "scatter3d",
         "x": [
          37,
          37
         ],
         "y": [
          53,
          48
         ],
         "z": [
          63,
          62
         ]
        },
        {
         "line": {
          "color": "blue",
          "width": 1
         },
         "mode": "lines",
         "type": "scatter3d",
         "x": [
          66,
          66
         ],
         "y": [
          12,
          17
         ],
         "z": [
          29,
          29
         ]
        },
        {
         "line": {
          "color": "blue",
          "width": 1
         },
         "mode": "lines",
         "type": "scatter3d",
         "x": [
          75,
          74
         ],
         "y": [
          86,
          82
         ],
         "z": [
          80,
          80
         ]
        },
        {
         "line": {
          "color": "blue",
          "width": 1
         },
         "mode": "lines",
         "type": "scatter3d",
         "x": [
          83,
          88
         ],
         "y": [
          82,
          80
         ],
         "z": [
          59,
          60
         ]
        },
        {
         "line": {
          "color": "blue",
          "width": 1
         },
         "mode": "lines",
         "type": "scatter3d",
         "x": [
          81,
          77
         ],
         "y": [
          35,
          36
         ],
         "z": [
          42,
          42
         ]
        },
        {
         "line": {
          "color": "blue",
          "width": 1
         },
         "mode": "lines",
         "type": "scatter3d",
         "x": [
          81,
          81
         ],
         "y": [
          83,
          79
         ],
         "z": [
          21,
          22
         ]
        },
        {
         "line": {
          "color": "blue",
          "width": 1
         },
         "mode": "lines",
         "type": "scatter3d",
         "x": [
          84,
          87
         ],
         "y": [
          23,
          28
         ],
         "z": [
          83,
          81
         ]
        },
        {
         "line": {
          "color": "blue",
          "width": 1
         },
         "mode": "lines",
         "type": "scatter3d",
         "x": [
          84,
          81
         ],
         "y": [
          38,
          35
         ],
         "z": [
          41,
          42
         ]
        },
        {
         "line": {
          "color": "blue",
          "width": 1
         },
         "mode": "lines",
         "type": "scatter3d",
         "x": [
          65,
          62
         ],
         "y": [
          46,
          50
         ],
         "z": [
          40,
          40
         ]
        },
        {
         "line": {
          "color": "blue",
          "width": 1
         },
         "mode": "lines",
         "type": "scatter3d",
         "x": [
          89,
          88
         ],
         "y": [
          81,
          80
         ],
         "z": [
          58,
          60
         ]
        },
        {
         "line": {
          "color": "blue",
          "width": 1
         },
         "mode": "lines",
         "type": "scatter3d",
         "x": [
          92,
          92
         ],
         "y": [
          87,
          87
         ],
         "z": [
          88,
          91
         ]
        },
        {
         "line": {
          "color": "blue",
          "width": 1
         },
         "mode": "lines",
         "type": "scatter3d",
         "x": [
          73,
          78
         ],
         "y": [
          37,
          39
         ],
         "z": [
          73,
          74
         ]
        },
        {
         "line": {
          "color": "blue",
          "width": 1
         },
         "mode": "lines",
         "type": "scatter3d",
         "x": [
          65,
          67
         ],
         "y": [
          71,
          67
         ],
         "z": [
          60,
          61
         ]
        },
        {
         "line": {
          "color": "blue",
          "width": 1
         },
         "mode": "lines",
         "type": "scatter3d",
         "x": [
          86,
          83
         ],
         "y": [
          27,
          24
         ],
         "z": [
          54,
          55
         ]
        },
        {
         "line": {
          "color": "blue",
          "width": 1
         },
         "mode": "lines",
         "type": "scatter3d",
         "x": [
          81,
          83
         ],
         "y": [
          86,
          82
         ],
         "z": [
          58,
          59
         ]
        },
        {
         "line": {
          "color": "blue",
          "width": 1
         },
         "mode": "lines",
         "type": "scatter3d",
         "x": [
          61,
          61
         ],
         "y": [
          69,
          64
         ],
         "z": [
          31,
          31
         ]
        },
        {
         "line": {
          "color": "blue",
          "width": 1
         },
         "mode": "lines",
         "type": "scatter3d",
         "x": [
          86,
          82
         ],
         "y": [
          12,
          13
         ],
         "z": [
          53,
          57
         ]
        },
        {
         "line": {
          "color": "blue",
          "width": 1
         },
         "mode": "lines",
         "type": "scatter3d",
         "x": [
          82,
          79
         ],
         "y": [
          26,
          23
         ],
         "z": [
          14,
          17
         ]
        },
        {
         "line": {
          "color": "blue",
          "width": 1
         },
         "mode": "lines",
         "type": "scatter3d",
         "x": [
          89,
          86
         ],
         "y": [
          8,
          12
         ],
         "z": [
          50,
          53
         ]
        },
        {
         "line": {
          "color": "blue",
          "width": 1
         },
         "mode": "lines",
         "type": "scatter3d",
         "x": [
          93,
          93
         ],
         "y": [
          66,
          71
         ],
         "z": [
          59,
          61
         ]
        },
        {
         "line": {
          "color": "blue",
          "width": 1
         },
         "mode": "lines",
         "type": "scatter3d",
         "x": [
          71,
          73
         ],
         "y": [
          5,
          10
         ],
         "z": [
          71,
          67
         ]
        },
        {
         "line": {
          "color": "blue",
          "width": 1
         },
         "mode": "lines",
         "type": "scatter3d",
         "x": [
          81,
          81
         ],
         "y": [
          87,
          83
         ],
         "z": [
          20,
          21
         ]
        },
        {
         "line": {
          "color": "blue",
          "width": 1
         },
         "mode": "lines",
         "type": "scatter3d",
         "x": [
          88,
          93
         ],
         "y": [
          64,
          66
         ],
         "z": [
          58,
          59
         ]
        },
        {
         "line": {
          "color": "blue",
          "width": 1
         },
         "mode": "lines",
         "type": "scatter3d",
         "x": [
          80,
          82
         ],
         "y": [
          30,
          26
         ],
         "z": [
          15,
          14
         ]
        },
        {
         "line": {
          "color": "blue",
          "width": 1
         },
         "mode": "lines",
         "type": "scatter3d",
         "x": [
          61,
          62
         ],
         "y": [
          73,
          78
         ],
         "z": [
          78,
          78
         ]
        },
        {
         "line": {
          "color": "blue",
          "width": 1
         },
         "mode": "lines",
         "type": "scatter3d",
         "x": [
          82,
          80
         ],
         "y": [
          34,
          30
         ],
         "z": [
          14,
          15
         ]
        },
        {
         "line": {
          "color": "blue",
          "width": 1
         },
         "mode": "lines",
         "type": "scatter3d",
         "x": [
          89,
          86
         ],
         "y": [
          26,
          27
         ],
         "z": [
          53,
          54
         ]
        },
        {
         "line": {
          "color": "blue",
          "width": 1
         },
         "mode": "lines",
         "type": "scatter3d",
         "x": [
          75,
          71
         ],
         "y": [
          6,
          5
         ],
         "z": [
          74,
          71
         ]
        },
        {
         "line": {
          "color": "blue",
          "width": 1
         },
         "mode": "lines",
         "type": "scatter3d",
         "x": [
          85,
          88
         ],
         "y": [
          68,
          64
         ],
         "z": [
          57,
          58
         ]
        },
        {
         "line": {
          "color": "blue",
          "width": 1
         },
         "mode": "lines",
         "type": "scatter3d",
         "x": [
          95,
          90
         ],
         "y": [
          82,
          82
         ],
         "z": [
          87,
          87
         ]
        },
        {
         "line": {
          "color": "blue",
          "width": 1
         },
         "mode": "lines",
         "type": "scatter3d",
         "x": [
          90,
          89
         ],
         "y": [
          21,
          26
         ],
         "z": [
          50,
          53
         ]
        },
        {
         "line": {
          "color": "blue",
          "width": 1
         },
         "mode": "lines",
         "type": "scatter3d",
         "x": [
          94,
          93
         ],
         "y": [
          84,
          80
         ],
         "z": [
          60,
          61
         ]
        },
        {
         "line": {
          "color": "blue",
          "width": 1
         },
         "mode": "lines",
         "type": "scatter3d",
         "x": [
          93,
          89
         ],
         "y": [
          54,
          56
         ],
         "z": [
          79,
          79
         ]
        },
        {
         "line": {
          "color": "blue",
          "width": 1
         },
         "mode": "lines",
         "type": "scatter3d",
         "x": [
          66,
          67
         ],
         "y": [
          82,
          78
         ],
         "z": [
          79,
          79
         ]
        },
        {
         "line": {
          "color": "blue",
          "width": 1
         },
         "mode": "lines",
         "type": "scatter3d",
         "x": [
          59,
          62
         ],
         "y": [
          50,
          51
         ],
         "z": [
          36,
          36
         ]
        },
        {
         "line": {
          "color": "blue",
          "width": 1
         },
         "mode": "lines",
         "type": "scatter3d",
         "x": [
          82,
          78
         ],
         "y": [
          13,
          14
         ],
         "z": [
          14,
          17
         ]
        },
        {
         "line": {
          "color": "blue",
          "width": 1
         },
         "mode": "lines",
         "type": "scatter3d",
         "x": [
          72,
          69
         ],
         "y": [
          25,
          29
         ],
         "z": [
          41,
          43
         ]
        },
        {
         "line": {
          "color": "blue",
          "width": 1
         },
         "mode": "lines",
         "type": "scatter3d",
         "x": [
          81,
          81
         ],
         "y": [
          90,
          86
         ],
         "z": [
          57,
          58
         ]
        },
        {
         "line": {
          "color": "blue",
          "width": 1
         },
         "mode": "lines",
         "type": "scatter3d",
         "x": [
          89,
          85
         ],
         "y": [
          78,
          77
         ],
         "z": [
          20,
          21
         ]
        },
        {
         "line": {
          "color": "blue",
          "width": 1
         },
         "mode": "lines",
         "type": "scatter3d",
         "x": [
          65,
          62
         ],
         "y": [
          86,
          82
         ],
         "z": [
          75,
          76
         ]
        },
        {
         "line": {
          "color": "blue",
          "width": 1
         },
         "mode": "lines",
         "type": "scatter3d",
         "x": [
          69,
          73
         ],
         "y": [
          20,
          17
         ],
         "z": [
          64,
          63
         ]
        },
        {
         "line": {
          "color": "blue",
          "width": 1
         },
         "mode": "lines",
         "type": "scatter3d",
         "x": [
          88,
          86
         ],
         "y": [
          31,
          27
         ],
         "z": [
          55,
          54
         ]
        },
        {
         "line": {
          "color": "blue",
          "width": 1
         },
         "mode": "lines",
         "type": "scatter3d",
         "x": [
          88,
          84
         ],
         "y": [
          38,
          38
         ],
         "z": [
          39,
          41
         ]
        },
        {
         "line": {
          "color": "blue",
          "width": 1
         },
         "mode": "lines",
         "type": "scatter3d",
         "x": [
          72,
          75
         ],
         "y": [
          90,
          86
         ],
         "z": [
          80,
          80
         ]
        },
        {
         "line": {
          "color": "blue",
          "width": 1
         },
         "mode": "lines",
         "type": "scatter3d",
         "x": [
          98,
          95
         ],
         "y": [
          63,
          60
         ],
         "z": [
          71,
          71
         ]
        },
        {
         "line": {
          "color": "blue",
          "width": 1
         },
         "mode": "lines",
         "type": "scatter3d",
         "x": [
          64,
          61
         ],
         "y": [
          37,
          41
         ],
         "z": [
          53,
          52
         ]
        },
        {
         "line": {
          "color": "blue",
          "width": 1
         },
         "mode": "lines",
         "type": "scatter3d",
         "x": [
          81,
          77
         ],
         "y": [
          16,
          19
         ],
         "z": [
          22,
          20
         ]
        },
        {
         "line": {
          "color": "blue",
          "width": 1
         },
         "mode": "lines",
         "type": "scatter3d",
         "x": [
          92,
          89
         ],
         "y": [
          74,
          78
         ],
         "z": [
          20,
          20
         ]
        },
        {
         "line": {
          "color": "blue",
          "width": 1
         },
         "mode": "lines",
         "type": "scatter3d",
         "x": [
          68,
          68
         ],
         "y": [
          4,
          9
         ],
         "z": [
          10,
          15
         ]
        },
        {
         "line": {
          "color": "blue",
          "width": 1
         },
         "mode": "lines",
         "type": "scatter3d",
         "x": [
          96,
          96
         ],
         "y": [
          101,
          96
         ],
         "z": [
          95,
          96
         ]
        },
        {
         "line": {
          "color": "blue",
          "width": 1
         },
         "mode": "lines",
         "type": "scatter3d",
         "x": [
          66,
          71
         ],
         "y": [
          4,
          5
         ],
         "z": [
          75,
          71
         ]
        },
        {
         "line": {
          "color": "blue",
          "width": 1
         },
         "mode": "lines",
         "type": "scatter3d",
         "x": [
          71,
          76
         ],
         "y": [
          73,
          76
         ],
         "z": [
          22,
          24
         ]
        },
        {
         "line": {
          "color": "blue",
          "width": 1
         },
         "mode": "lines",
         "type": "scatter3d",
         "x": [
          76,
          81
         ],
         "y": [
          90,
          90
         ],
         "z": [
          56,
          57
         ]
        },
        {
         "line": {
          "color": "blue",
          "width": 1
         },
         "mode": "lines",
         "type": "scatter3d",
         "x": [
          79,
          75
         ],
         "y": [
          6,
          6
         ],
         "z": [
          71,
          74
         ]
        },
        {
         "line": {
          "color": "blue",
          "width": 1
         },
         "mode": "lines",
         "type": "scatter3d",
         "x": [
          86,
          84
         ],
         "y": [
          36,
          38
         ],
         "z": [
          41,
          41
         ]
        },
        {
         "line": {
          "color": "blue",
          "width": 1
         },
         "mode": "lines",
         "type": "scatter3d",
         "x": [
          61,
          66
         ],
         "y": [
          83,
          82
         ],
         "z": [
          79,
          79
         ]
        },
        {
         "line": {
          "color": "blue",
          "width": 1
         },
         "mode": "lines",
         "type": "scatter3d",
         "x": [
          79,
          76
         ],
         "y": [
          64,
          68
         ],
         "z": [
          23,
          25
         ]
        },
        {
         "line": {
          "color": "blue",
          "width": 1
         },
         "mode": "lines",
         "type": "scatter3d",
         "x": [
          96,
          95
         ],
         "y": [
          77,
          82
         ],
         "z": [
          86,
          87
         ]
        },
        {
         "line": {
          "color": "blue",
          "width": 1
         },
         "mode": "lines",
         "type": "scatter3d",
         "x": [
          62,
          63
         ],
         "y": [
          30,
          26
         ],
         "z": [
          29,
          31
         ]
        },
        {
         "line": {
          "color": "blue",
          "width": 1
         },
         "mode": "lines",
         "type": "scatter3d",
         "x": [
          72,
          67
         ],
         "y": [
          78,
          78
         ],
         "z": [
          79,
          79
         ]
        },
        {
         "line": {
          "color": "blue",
          "width": 1
         },
         "mode": "lines",
         "type": "scatter3d",
         "x": [
          72,
          72
         ],
         "y": [
          95,
          90
         ],
         "z": [
          79,
          80
         ]
        },
        {
         "line": {
          "color": "blue",
          "width": 1
         },
         "mode": "lines",
         "type": "scatter3d",
         "x": [
          84,
          89
         ],
         "y": [
          5,
          8
         ],
         "z": [
          50,
          50
         ]
        },
        {
         "line": {
          "color": "blue",
          "width": 1
         },
         "mode": "lines",
         "type": "scatter3d",
         "x": [
          37,
          37
         ],
         "y": [
          43,
          48
         ],
         "z": [
          61,
          62
         ]
        },
        {
         "line": {
          "color": "blue",
          "width": 1
         },
         "mode": "lines",
         "type": "scatter3d",
         "x": [
          37,
          37
         ],
         "y": [
          38,
          43
         ],
         "z": [
          58,
          61
         ]
        },
        {
         "line": {
          "color": "blue",
          "width": 1
         },
         "mode": "lines",
         "type": "scatter3d",
         "x": [
          34,
          37
         ],
         "y": [
          33,
          38
         ],
         "z": [
          60,
          58
         ]
        },
        {
         "line": {
          "color": "blue",
          "width": 1
         },
         "mode": "lines",
         "type": "scatter3d",
         "x": [
          83,
          83
         ],
         "y": [
          35,
          40
         ],
         "z": [
          74,
          75
         ]
        },
        {
         "line": {
          "color": "blue",
          "width": 1
         },
         "mode": "lines",
         "type": "scatter3d",
         "x": [
          31,
          34
         ],
         "y": [
          28,
          33
         ],
         "z": [
          63,
          60
         ]
        },
        {
         "line": {
          "color": "blue",
          "width": 1
         },
         "mode": "lines",
         "type": "scatter3d",
         "x": [
          31,
          31
         ],
         "y": [
          23,
          28
         ],
         "z": [
          59,
          63
         ]
        },
        {
         "line": {
          "color": "blue",
          "width": 1
         },
         "mode": "lines",
         "type": "scatter3d",
         "x": [
          26,
          31
         ],
         "y": [
          25,
          28
         ],
         "z": [
          65,
          63
         ]
        },
        {
         "line": {
          "color": "blue",
          "width": 1
         },
         "mode": "lines",
         "type": "scatter3d",
         "x": [
          64,
          63
         ],
         "y": [
          47,
          47
         ],
         "z": [
          59,
          57
         ]
        },
        {
         "line": {
          "color": "blue",
          "width": 1
         },
         "mode": "lines",
         "type": "scatter3d",
         "x": [
          81,
          81
         ],
         "y": [
          88,
          90
         ],
         "z": [
          53,
          57
         ]
        },
        {
         "line": {
          "color": "blue",
          "width": 1
         },
         "mode": "lines",
         "type": "scatter3d",
         "x": [
          78,
          83
         ],
         "y": [
          82,
          82
         ],
         "z": [
          59,
          59
         ]
        },
        {
         "line": {
          "color": "blue",
          "width": 1
         },
         "mode": "lines",
         "type": "scatter3d",
         "x": [
          54,
          59
         ],
         "y": [
          49,
          50
         ],
         "z": [
          33,
          36
         ]
        },
        {
         "line": {
          "color": "blue",
          "width": 1
         },
         "mode": "lines",
         "type": "scatter3d",
         "x": [
          97,
          93
         ],
         "y": [
          74,
          71
         ],
         "z": [
          61,
          61
         ]
        },
        {
         "line": {
          "color": "blue",
          "width": 1
         },
         "mode": "lines",
         "type": "scatter3d",
         "x": [
          89,
          90
         ],
         "y": [
          95,
          91
         ],
         "z": [
          81,
          82
         ]
        },
        {
         "line": {
          "color": "blue",
          "width": 1
         },
         "mode": "lines",
         "type": "scatter3d",
         "x": [
          27,
          26
         ],
         "y": [
          26,
          25
         ],
         "z": [
          68,
          65
         ]
        },
        {
         "line": {
          "color": "blue",
          "width": 1
         },
         "mode": "lines",
         "type": "scatter3d",
         "x": [
          74,
          78
         ],
         "y": [
          78,
          82
         ],
         "z": [
          59,
          59
         ]
        },
        {
         "line": {
          "color": "blue",
          "width": 1
         },
         "mode": "lines",
         "type": "scatter3d",
         "x": [
          82,
          79
         ],
         "y": [
          69,
          66
         ],
         "z": [
          75,
          76
         ]
        },
        {
         "line": {
          "color": "blue",
          "width": 1
         },
         "mode": "lines",
         "type": "scatter3d",
         "x": [
          69,
          73
         ],
         "y": [
          40,
          37
         ],
         "z": [
          73,
          73
         ]
        },
        {
         "line": {
          "color": "blue",
          "width": 1
         },
         "mode": "lines",
         "type": "scatter3d",
         "x": [
          93,
          92
         ],
         "y": [
          69,
          74
         ],
         "z": [
          19,
          20
         ]
        },
        {
         "line": {
          "color": "blue",
          "width": 1
         },
         "mode": "lines",
         "type": "scatter3d",
         "x": [
          49,
          54
         ],
         "y": [
          51,
          49
         ],
         "z": [
          30,
          33
         ]
        },
        {
         "line": {
          "color": "blue",
          "width": 1
         },
         "mode": "lines",
         "type": "scatter3d",
         "x": [
          72,
          69
         ],
         "y": [
          70,
          67
         ],
         "z": [
          26,
          27
         ]
        },
        {
         "line": {
          "color": "blue",
          "width": 1
         },
         "mode": "lines",
         "type": "scatter3d",
         "x": [
          83,
          81
         ],
         "y": [
          73,
          71
         ],
         "z": [
          78,
          80
         ]
        },
        {
         "line": {
          "color": "blue",
          "width": 1
         },
         "mode": "lines",
         "type": "scatter3d",
         "x": [
          37,
          37
         ],
         "y": [
          57,
          53
         ],
         "z": [
          63,
          63
         ]
        },
        {
         "line": {
          "color": "blue",
          "width": 1
         },
         "mode": "lines",
         "type": "scatter3d",
         "x": [
          75,
          71
         ],
         "y": [
          75,
          73
         ],
         "z": [
          20,
          22
         ]
        },
        {
         "line": {
          "color": "blue",
          "width": 1
         },
         "mode": "lines",
         "type": "scatter3d",
         "x": [
          83,
          82
         ],
         "y": [
          38,
          34
         ],
         "z": [
          14,
          14
         ]
        },
        {
         "line": {
          "color": "blue",
          "width": 1
         },
         "mode": "lines",
         "type": "scatter3d",
         "x": [
          79,
          84
         ],
         "y": [
          21,
          23
         ],
         "z": [
          85,
          83
         ]
        },
        {
         "line": {
          "color": "blue",
          "width": 1
         },
         "mode": "lines",
         "type": "scatter3d",
         "x": [
          65,
          61
         ],
         "y": [
          4,
          4
         ],
         "z": [
          55,
          55
         ]
        },
        {
         "line": {
          "color": "blue",
          "width": 1
         },
         "mode": "lines",
         "type": "scatter3d",
         "x": [
          28,
          31
         ],
         "y": [
          18,
          23
         ],
         "z": [
          56,
          59
         ]
        },
        {
         "line": {
          "color": "blue",
          "width": 1
         },
         "mode": "lines",
         "type": "scatter3d",
         "x": [
          27,
          27
         ],
         "y": [
          31,
          26
         ],
         "z": [
          69,
          68
         ]
        },
        {
         "line": {
          "color": "blue",
          "width": 1
         },
         "mode": "lines",
         "type": "scatter3d",
         "x": [
          86,
          82
         ],
         "y": [
          15,
          13
         ],
         "z": [
          14,
          14
         ]
        },
        {
         "line": {
          "color": "blue",
          "width": 1
         },
         "mode": "lines",
         "type": "scatter3d",
         "x": [
          90,
          88
         ],
         "y": [
          35,
          31
         ],
         "z": [
          55,
          55
         ]
        },
        {
         "line": {
          "color": "blue",
          "width": 1
         },
         "mode": "lines",
         "type": "scatter3d",
         "x": [
          92,
          88
         ],
         "y": [
          48,
          50
         ],
         "z": [
          73,
          74
         ]
        },
        {
         "line": {
          "color": "blue",
          "width": 1
         },
         "mode": "lines",
         "type": "scatter3d",
         "x": [
          92,
          89
         ],
         "y": [
          11,
          8
         ],
         "z": [
          45,
          50
         ]
        },
        {
         "line": {
          "color": "blue",
          "width": 1
         },
         "mode": "lines",
         "type": "scatter3d",
         "x": [
          64,
          69
         ],
         "y": [
          40,
          40
         ],
         "z": [
          73,
          73
         ]
        },
        {
         "line": {
          "color": "blue",
          "width": 1
         },
         "mode": "lines",
         "type": "scatter3d",
         "x": [
          84,
          82
         ],
         "y": [
          28,
          26
         ],
         "z": [
          11,
          14
         ]
        },
        {
         "line": {
          "color": "blue",
          "width": 1
         },
         "mode": "lines",
         "type": "scatter3d",
         "x": [
          69,
          73
         ],
         "y": [
          61,
          65
         ],
         "z": [
          25,
          26
         ]
        },
        {
         "line": {
          "color": "blue",
          "width": 1
         },
         "mode": "lines",
         "type": "scatter3d",
         "x": [
          86,
          84
         ],
         "y": [
          23,
          28
         ],
         "z": [
          9,
          11
         ]
        },
        {
         "line": {
          "color": "blue",
          "width": 1
         },
         "mode": "lines",
         "type": "scatter3d",
         "x": [
          87,
          84
         ],
         "y": [
          19,
          23
         ],
         "z": [
          85,
          83
         ]
        },
        {
         "line": {
          "color": "blue",
          "width": 1
         },
         "mode": "lines",
         "type": "scatter3d",
         "x": [
          76,
          81
         ],
         "y": [
          88,
          87
         ],
         "z": [
          19,
          20
         ]
        },
        {
         "line": {
          "color": "blue",
          "width": 1
         },
         "mode": "lines",
         "type": "scatter3d",
         "x": [
          44,
          49
         ],
         "y": [
          51,
          51
         ],
         "z": [
          28,
          30
         ]
        },
        {
         "line": {
          "color": "blue",
          "width": 1
         },
         "mode": "lines",
         "type": "scatter3d",
         "x": [
          35,
          37
         ],
         "y": [
          61,
          57
         ],
         "z": [
          64,
          63
         ]
        },
        {
         "line": {
          "color": "blue",
          "width": 1
         },
         "mode": "lines",
         "type": "scatter3d",
         "x": [
          30,
          35
         ],
         "y": [
          62,
          61
         ],
         "z": [
          65,
          64
         ]
        },
        {
         "line": {
          "color": "blue",
          "width": 1
         },
         "mode": "lines",
         "type": "scatter3d",
         "x": [
          22,
          27
         ],
         "y": [
          31,
          31
         ],
         "z": [
          71,
          69
         ]
        },
        {
         "line": {
          "color": "blue",
          "width": 1
         },
         "mode": "lines",
         "type": "scatter3d",
         "x": [
          95,
          92
         ],
         "y": [
          7,
          11
         ],
         "z": [
          40,
          45
         ]
        },
        {
         "line": {
          "color": "blue",
          "width": 1
         },
         "mode": "lines",
         "type": "scatter3d",
         "x": [
          25,
          30
         ],
         "y": [
          64,
          62
         ],
         "z": [
          63,
          65
         ]
        },
        {
         "line": {
          "color": "blue",
          "width": 1
         },
         "mode": "lines",
         "type": "scatter3d",
         "x": [
          21,
          25
         ],
         "y": [
          67,
          64
         ],
         "z": [
          61,
          63
         ]
        },
        {
         "line": {
          "color": "blue",
          "width": 1
         },
         "mode": "lines",
         "type": "scatter3d",
         "x": [
          27,
          22
         ],
         "y": [
          31,
          31
         ],
         "z": [
          72,
          71
         ]
        },
        {
         "line": {
          "color": "blue",
          "width": 1
         },
         "mode": "lines",
         "type": "scatter3d",
         "x": [
          86,
          82
         ],
         "y": [
          24,
          26
         ],
         "z": [
          15,
          14
         ]
        },
        {
         "line": {
          "color": "blue",
          "width": 1
         },
         "mode": "lines",
         "type": "scatter3d",
         "x": [
          83,
          79
         ],
         "y": [
          3,
          6
         ],
         "z": [
          67,
          71
         ]
        },
        {
         "line": {
          "color": "blue",
          "width": 1
         },
         "mode": "lines",
         "type": "scatter3d",
         "x": [
          88,
          93
         ],
         "y": [
          69,
          69
         ],
         "z": [
          18,
          19
         ]
        },
        {
         "line": {
          "color": "blue",
          "width": 1
         },
         "mode": "lines",
         "type": "scatter3d",
         "x": [
          83,
          79
         ],
         "y": [
          61,
          64
         ],
         "z": [
          23,
          23
         ]
        },
        {
         "line": {
          "color": "blue",
          "width": 1
         },
         "mode": "lines",
         "type": "scatter3d",
         "x": [
          91,
          86
         ],
         "y": [
          15,
          15
         ],
         "z": [
          12,
          14
         ]
        },
        {
         "line": {
          "color": "blue",
          "width": 1
         },
         "mode": "lines",
         "type": "scatter3d",
         "x": [
          94,
          90
         ],
         "y": [
          36,
          35
         ],
         "z": [
          53,
          55
         ]
        },
        {
         "line": {
          "color": "blue",
          "width": 1
         },
         "mode": "lines",
         "type": "scatter3d",
         "x": [
          64,
          61
         ],
         "y": [
          64,
          64
         ],
         "z": [
          32,
          31
         ]
        },
        {
         "line": {
          "color": "blue",
          "width": 1
         },
         "mode": "lines",
         "type": "scatter3d",
         "x": [
          85,
          81
         ],
         "y": [
          80,
          83
         ],
         "z": [
          20,
          21
         ]
        },
        {
         "line": {
          "color": "blue",
          "width": 1
         },
         "mode": "lines",
         "type": "scatter3d",
         "x": [
          16,
          21
         ],
         "y": [
          69,
          67
         ],
         "z": [
          59,
          61
         ]
        },
        {
         "line": {
          "color": "blue",
          "width": 1
         },
         "mode": "lines",
         "type": "scatter3d",
         "x": [
          18,
          16
         ],
         "y": [
          73,
          69
         ],
         "z": [
          57,
          59
         ]
        },
        {
         "line": {
          "color": "blue",
          "width": 1
         },
         "mode": "lines",
         "type": "scatter3d",
         "x": [
          84,
          88
         ],
         "y": [
          60,
          64
         ],
         "z": [
          58,
          58
         ]
        },
        {
         "line": {
          "color": "blue",
          "width": 1
         },
         "mode": "lines",
         "type": "scatter3d",
         "x": [
          19,
          22
         ],
         "y": [
          35,
          31
         ],
         "z": [
          71,
          71
         ]
        },
        {
         "line": {
          "color": "blue",
          "width": 1
         },
         "mode": "lines",
         "type": "scatter3d",
         "x": [
          90,
          86
         ],
         "y": [
          21,
          23
         ],
         "z": [
          7,
          9
         ]
        },
        {
         "line": {
          "color": "blue",
          "width": 1
         },
         "mode": "lines",
         "type": "scatter3d",
         "x": [
          16,
          21
         ],
         "y": [
          69,
          67
         ],
         "z": [
          61,
          61
         ]
        },
        {
         "line": {
          "color": "blue",
          "width": 1
         },
         "mode": "lines",
         "type": "scatter3d",
         "x": [
          86,
          84
         ],
         "y": [
          55,
          60
         ],
         "z": [
          56,
          58
         ]
        },
        {
         "line": {
          "color": "blue",
          "width": 1
         },
         "mode": "lines",
         "type": "scatter3d",
         "x": [
          28,
          30
         ],
         "y": [
          66,
          62
         ],
         "z": [
          66,
          65
         ]
        },
        {
         "line": {
          "color": "blue",
          "width": 1
         },
         "mode": "lines",
         "type": "scatter3d",
         "x": [
          93,
          93
         ],
         "y": [
          55,
          54
         ],
         "z": [
          76,
          79
         ]
        },
        {
         "line": {
          "color": "blue",
          "width": 1
         },
         "mode": "lines",
         "type": "scatter3d",
         "x": [
          85,
          83
         ],
         "y": [
          4,
          3
         ],
         "z": [
          68,
          67
         ]
        },
        {
         "line": {
          "color": "blue",
          "width": 1
         },
         "mode": "lines",
         "type": "scatter3d",
         "x": [
          49,
          54
         ],
         "y": [
          50,
          49
         ],
         "z": [
          33,
          33
         ]
        },
        {
         "line": {
          "color": "blue",
          "width": 1
         },
         "mode": "lines",
         "type": "scatter3d",
         "x": [
          22,
          18
         ],
         "y": [
          73,
          73
         ],
         "z": [
          56,
          57
         ]
        },
        {
         "line": {
          "color": "blue",
          "width": 1
         },
         "mode": "lines",
         "type": "scatter3d",
         "x": [
          83,
          81
         ],
         "y": [
          91,
          87
         ],
         "z": [
          19,
          20
         ]
        },
        {
         "line": {
          "color": "blue",
          "width": 1
         },
         "mode": "lines",
         "type": "scatter3d",
         "x": [
          28,
          27
         ],
         "y": [
          26,
          31
         ],
         "z": [
          75,
          72
         ]
        },
        {
         "line": {
          "color": "blue",
          "width": 1
         },
         "mode": "lines",
         "type": "scatter3d",
         "x": [
          72,
          68
         ],
         "y": [
          1,
          4
         ],
         "z": [
          10,
          10
         ]
        },
        {
         "line": {
          "color": "blue",
          "width": 1
         },
         "mode": "lines",
         "type": "scatter3d",
         "x": [
          90,
          87
         ],
         "y": [
          31,
          28
         ],
         "z": [
          82,
          81
         ]
        },
        {
         "line": {
          "color": "blue",
          "width": 1
         },
         "mode": "lines",
         "type": "scatter3d",
         "x": [
          82,
          80
         ],
         "y": [
          76,
          75
         ],
         "z": [
          21,
          23
         ]
        },
        {
         "line": {
          "color": "blue",
          "width": 1
         },
         "mode": "lines",
         "type": "scatter3d",
         "x": [
          29,
          28
         ],
         "y": [
          13,
          18
         ],
         "z": [
          53,
          56
         ]
        },
        {
         "line": {
          "color": "blue",
          "width": 1
         },
         "mode": "lines",
         "type": "scatter3d",
         "x": [
          85,
          82
         ],
         "y": [
          9,
          13
         ],
         "z": [
          12,
          14
         ]
        },
        {
         "line": {
          "color": "blue",
          "width": 1
         },
         "mode": "lines",
         "type": "scatter3d",
         "x": [
          24,
          29
         ],
         "y": [
          11,
          13
         ],
         "z": [
          48,
          53
         ]
        },
        {
         "line": {
          "color": "blue",
          "width": 1
         },
         "mode": "lines",
         "type": "scatter3d",
         "x": [
          66,
          70
         ],
         "y": [
          17,
          21
         ],
         "z": [
          50,
          49
         ]
        },
        {
         "line": {
          "color": "blue",
          "width": 1
         },
         "mode": "lines",
         "type": "scatter3d",
         "x": [
          85,
          83
         ],
         "y": [
          86,
          91
         ],
         "z": [
          18,
          19
         ]
        },
        {
         "line": {
          "color": "blue",
          "width": 1
         },
         "mode": "lines",
         "type": "scatter3d",
         "x": [
          88,
          84
         ],
         "y": [
          40,
          38
         ],
         "z": [
          41,
          41
         ]
        },
        {
         "line": {
          "color": "blue",
          "width": 1
         },
         "mode": "lines",
         "type": "scatter3d",
         "x": [
          82,
          87
         ],
         "y": [
          91,
          92
         ],
         "z": [
          93,
          94
         ]
        },
        {
         "line": {
          "color": "blue",
          "width": 1
         },
         "mode": "lines",
         "type": "scatter3d",
         "x": [
          19,
          24
         ],
         "y": [
          9,
          11
         ],
         "z": [
          43,
          48
         ]
        },
        {
         "line": {
          "color": "blue",
          "width": 1
         },
         "mode": "lines",
         "type": "scatter3d",
         "x": [
          23,
          22
         ],
         "y": [
          77,
          73
         ],
         "z": [
          55,
          56
         ]
        },
        {
         "line": {
          "color": "blue",
          "width": 1
         },
         "mode": "lines",
         "type": "scatter3d",
         "x": [
          28,
          28
         ],
         "y": [
          71,
          66
         ],
         "z": [
          67,
          66
         ]
        },
        {
         "line": {
          "color": "blue",
          "width": 1
         },
         "mode": "lines",
         "type": "scatter3d",
         "x": [
          14,
          19
         ],
         "y": [
          7,
          9
         ],
         "z": [
          38,
          43
         ]
        },
        {
         "line": {
          "color": "blue",
          "width": 1
         },
         "mode": "lines",
         "type": "scatter3d",
         "x": [
          69,
          65
         ],
         "y": [
          72,
          71
         ],
         "z": [
          59,
          60
         ]
        },
        {
         "line": {
          "color": "blue",
          "width": 1
         },
         "mode": "lines",
         "type": "scatter3d",
         "x": [
          100,
          95
         ],
         "y": [
          82,
          82
         ],
         "z": [
          86,
          87
         ]
        },
        {
         "line": {
          "color": "blue",
          "width": 1
         },
         "mode": "lines",
         "type": "scatter3d",
         "x": [
          28,
          24
         ],
         "y": [
          12,
          11
         ],
         "z": [
          46,
          48
         ]
        },
        {
         "line": {
          "color": "blue",
          "width": 1
         },
         "mode": "lines",
         "type": "scatter3d",
         "x": [
          71,
          76
         ],
         "y": [
          88,
          88
         ],
         "z": [
          19,
          19
         ]
        },
        {
         "line": {
          "color": "blue",
          "width": 1
         },
         "mode": "lines",
         "type": "scatter3d",
         "x": [
          79,
          76
         ],
         "y": [
          28,
          25
         ],
         "z": [
          50,
          49
         ]
        },
        {
         "line": {
          "color": "blue",
          "width": 1
         },
         "mode": "lines",
         "type": "scatter3d",
         "x": [
          9,
          14
         ],
         "y": [
          5,
          7
         ],
         "z": [
          33,
          38
         ]
        },
        {
         "line": {
          "color": "blue",
          "width": 1
         },
         "mode": "lines",
         "type": "scatter3d",
         "x": [
          81,
          79
         ],
         "y": [
          16,
          21
         ],
         "z": [
          86,
          85
         ]
        },
        {
         "line": {
          "color": "blue",
          "width": 1
         },
         "mode": "lines",
         "type": "scatter3d",
         "x": [
          23,
          28
         ],
         "y": [
          64,
          66
         ],
         "z": [
          67,
          66
         ]
        },
        {
         "line": {
          "color": "blue",
          "width": 1
         },
         "mode": "lines",
         "type": "scatter3d",
         "x": [
          78,
          81
         ],
         "y": [
          11,
          16
         ],
         "z": [
          24,
          22
         ]
        },
        {
         "line": {
          "color": "blue",
          "width": 1
         },
         "mode": "lines",
         "type": "scatter3d",
         "x": [
          27,
          29
         ],
         "y": [
          8,
          13
         ],
         "z": [
          55,
          53
         ]
        },
        {
         "line": {
          "color": "blue",
          "width": 1
         },
         "mode": "lines",
         "type": "scatter3d",
         "x": [
          27,
          23
         ],
         "y": [
          77,
          77
         ],
         "z": [
          53,
          55
         ]
        },
        {
         "line": {
          "color": "blue",
          "width": 1
         },
         "mode": "lines",
         "type": "scatter3d",
         "x": [
          14,
          19
         ],
         "y": [
          34,
          35
         ],
         "z": [
          68,
          71
         ]
        },
        {
         "line": {
          "color": "blue",
          "width": 1
         },
         "mode": "lines",
         "type": "scatter3d",
         "x": [
          26,
          27
         ],
         "y": [
          81,
          77
         ],
         "z": [
          52,
          53
         ]
        },
        {
         "line": {
          "color": "blue",
          "width": 1
         },
         "mode": "lines",
         "type": "scatter3d",
         "x": [
          4,
          9
         ],
         "y": [
          5,
          5
         ],
         "z": [
          28,
          33
         ]
        },
        {
         "line": {
          "color": "blue",
          "width": 1
         },
         "mode": "lines",
         "type": "scatter3d",
         "x": [
          76,
          76
         ],
         "y": [
          86,
          88
         ],
         "z": [
          16,
          19
         ]
        },
        {
         "line": {
          "color": "blue",
          "width": 1
         },
         "mode": "lines",
         "type": "scatter3d",
         "x": [
          21,
          19
         ],
         "y": [
          39,
          35
         ],
         "z": [
          71,
          71
         ]
        },
        {
         "line": {
          "color": "blue",
          "width": 1
         },
         "mode": "lines",
         "type": "scatter3d",
         "x": [
          85,
          87
         ],
         "y": [
          14,
          19
         ],
         "z": [
          82,
          85
         ]
        },
        {
         "line": {
          "color": "blue",
          "width": 1
         },
         "mode": "lines",
         "type": "scatter3d",
         "x": [
          69,
          74
         ],
         "y": [
          80,
          82
         ],
         "z": [
          80,
          80
         ]
        },
        {
         "line": {
          "color": "blue",
          "width": 1
         },
         "mode": "lines",
         "type": "scatter3d",
         "x": [
          84,
          81
         ],
         "y": [
          84,
          88
         ],
         "z": [
          52,
          53
         ]
        },
        {
         "line": {
          "color": "blue",
          "width": 1
         },
         "mode": "lines",
         "type": "scatter3d",
         "x": [
          97,
          93
         ],
         "y": [
          69,
          69
         ],
         "z": [
          17,
          19
         ]
        },
        {
         "line": {
          "color": "blue",
          "width": 1
         },
         "mode": "lines",
         "type": "scatter3d",
         "x": [
          28,
          27
         ],
         "y": [
          3,
          8
         ],
         "z": [
          51,
          55
         ]
        },
        {
         "line": {
          "color": "blue",
          "width": 1
         },
         "mode": "lines",
         "type": "scatter3d",
         "x": [
          9,
          4
         ],
         "y": [
          5,
          5
         ],
         "z": [
          23,
          28
         ]
        },
        {
         "line": {
          "color": "blue",
          "width": 1
         },
         "mode": "lines",
         "type": "scatter3d",
         "x": [
          8,
          9
         ],
         "y": [
          9,
          5
         ],
         "z": [
          18,
          23
         ]
        },
        {
         "line": {
          "color": "blue",
          "width": 1
         },
         "mode": "lines",
         "type": "scatter3d",
         "x": [
          31,
          27
         ],
         "y": [
          6,
          8
         ],
         "z": [
          57,
          55
         ]
        },
        {
         "line": {
          "color": "blue",
          "width": 1
         },
         "mode": "lines",
         "type": "scatter3d",
         "x": [
          24,
          28
         ],
         "y": [
          74,
          71
         ],
         "z": [
          67,
          67
         ]
        },
        {
         "line": {
          "color": "blue",
          "width": 1
         },
         "mode": "lines",
         "type": "scatter3d",
         "x": [
          7,
          8
         ],
         "y": [
          13,
          9
         ],
         "z": [
          14,
          18
         ]
        },
        {
         "line": {
          "color": "blue",
          "width": 1
         },
         "mode": "lines",
         "type": "scatter3d",
         "x": [
          86,
          90
         ],
         "y": [
          18,
          21
         ],
         "z": [
          48,
          50
         ]
        },
        {
         "line": {
          "color": "blue",
          "width": 1
         },
         "mode": "lines",
         "type": "scatter3d",
         "x": [
          5,
          7
         ],
         "y": [
          8,
          13
         ],
         "z": [
          10,
          14
         ]
        },
        {
         "line": {
          "color": "red",
          "width": 2
         },
         "marker": {
          "size": 4
         },
         "mode": "lines+markers",
         "type": "scatter3d",
         "x": [
          5,
          7
         ],
         "y": [
          8,
          13
         ],
         "z": [
          10,
          14
         ]
        },
        {
         "line": {
          "color": "red",
          "width": 2
         },
         "marker": {
          "size": 4
         },
         "mode": "lines+markers",
         "type": "scatter3d",
         "x": [
          7,
          8
         ],
         "y": [
          13,
          9
         ],
         "z": [
          14,
          18
         ]
        },
        {
         "line": {
          "color": "red",
          "width": 2
         },
         "marker": {
          "size": 4
         },
         "mode": "lines+markers",
         "type": "scatter3d",
         "x": [
          8,
          9
         ],
         "y": [
          9,
          5
         ],
         "z": [
          18,
          23
         ]
        },
        {
         "line": {
          "color": "red",
          "width": 2
         },
         "marker": {
          "size": 4
         },
         "mode": "lines+markers",
         "type": "scatter3d",
         "x": [
          9,
          4
         ],
         "y": [
          5,
          5
         ],
         "z": [
          23,
          28
         ]
        },
        {
         "line": {
          "color": "red",
          "width": 2
         },
         "marker": {
          "size": 4
         },
         "mode": "lines+markers",
         "type": "scatter3d",
         "x": [
          4,
          9
         ],
         "y": [
          5,
          5
         ],
         "z": [
          28,
          33
         ]
        },
        {
         "line": {
          "color": "red",
          "width": 2
         },
         "marker": {
          "size": 4
         },
         "mode": "lines+markers",
         "type": "scatter3d",
         "x": [
          9,
          14
         ],
         "y": [
          5,
          7
         ],
         "z": [
          33,
          38
         ]
        },
        {
         "line": {
          "color": "red",
          "width": 2
         },
         "marker": {
          "size": 4
         },
         "mode": "lines+markers",
         "type": "scatter3d",
         "x": [
          14,
          19
         ],
         "y": [
          7,
          9
         ],
         "z": [
          38,
          43
         ]
        },
        {
         "line": {
          "color": "red",
          "width": 2
         },
         "marker": {
          "size": 4
         },
         "mode": "lines+markers",
         "type": "scatter3d",
         "x": [
          19,
          24
         ],
         "y": [
          9,
          11
         ],
         "z": [
          43,
          48
         ]
        },
        {
         "line": {
          "color": "red",
          "width": 2
         },
         "marker": {
          "size": 4
         },
         "mode": "lines+markers",
         "type": "scatter3d",
         "x": [
          24,
          29
         ],
         "y": [
          11,
          13
         ],
         "z": [
          48,
          53
         ]
        },
        {
         "line": {
          "color": "red",
          "width": 2
         },
         "marker": {
          "size": 4
         },
         "mode": "lines+markers",
         "type": "scatter3d",
         "x": [
          29,
          28
         ],
         "y": [
          13,
          18
         ],
         "z": [
          53,
          56
         ]
        },
        {
         "line": {
          "color": "red",
          "width": 2
         },
         "marker": {
          "size": 4
         },
         "mode": "lines+markers",
         "type": "scatter3d",
         "x": [
          28,
          31
         ],
         "y": [
          18,
          23
         ],
         "z": [
          56,
          59
         ]
        },
        {
         "line": {
          "color": "red",
          "width": 2
         },
         "marker": {
          "size": 4
         },
         "mode": "lines+markers",
         "type": "scatter3d",
         "x": [
          31,
          31
         ],
         "y": [
          23,
          28
         ],
         "z": [
          59,
          63
         ]
        },
        {
         "line": {
          "color": "red",
          "width": 2
         },
         "marker": {
          "size": 4
         },
         "mode": "lines+markers",
         "type": "scatter3d",
         "x": [
          31,
          34
         ],
         "y": [
          28,
          33
         ],
         "z": [
          63,
          60
         ]
        },
        {
         "line": {
          "color": "red",
          "width": 2
         },
         "marker": {
          "size": 4
         },
         "mode": "lines+markers",
         "type": "scatter3d",
         "x": [
          34,
          37
         ],
         "y": [
          33,
          38
         ],
         "z": [
          60,
          58
         ]
        },
        {
         "line": {
          "color": "red",
          "width": 2
         },
         "marker": {
          "size": 4
         },
         "mode": "lines+markers",
         "type": "scatter3d",
         "x": [
          37,
          37
         ],
         "y": [
          38,
          43
         ],
         "z": [
          58,
          61
         ]
        },
        {
         "line": {
          "color": "red",
          "width": 2
         },
         "marker": {
          "size": 4
         },
         "mode": "lines+markers",
         "type": "scatter3d",
         "x": [
          37,
          37
         ],
         "y": [
          43,
          48
         ],
         "z": [
          61,
          62
         ]
        },
        {
         "line": {
          "color": "red",
          "width": 2
         },
         "marker": {
          "size": 4
         },
         "mode": "lines+markers",
         "type": "scatter3d",
         "x": [
          37,
          42
         ],
         "y": [
          48,
          50
         ],
         "z": [
          62,
          60
         ]
        },
        {
         "line": {
          "color": "red",
          "width": 2
         },
         "marker": {
          "size": 4
         },
         "mode": "lines+markers",
         "type": "scatter3d",
         "x": [
          42,
          47
         ],
         "y": [
          50,
          50
         ],
         "z": [
          60,
          60
         ]
        },
        {
         "line": {
          "color": "red",
          "width": 2
         },
         "marker": {
          "size": 4
         },
         "mode": "lines+markers",
         "type": "scatter3d",
         "x": [
          47,
          52
         ],
         "y": [
          50,
          50
         ],
         "z": [
          60,
          59
         ]
        },
        {
         "line": {
          "color": "red",
          "width": 2
         },
         "marker": {
          "size": 4
         },
         "mode": "lines+markers",
         "type": "scatter3d",
         "x": [
          52,
          57
         ],
         "y": [
          50,
          49
         ],
         "z": [
          59,
          60
         ]
        },
        {
         "line": {
          "color": "red",
          "width": 2
         },
         "marker": {
          "size": 4
         },
         "mode": "lines+markers",
         "type": "scatter3d",
         "x": [
          57,
          62
         ],
         "y": [
          49,
          51
         ],
         "z": [
          60,
          59
         ]
        },
        {
         "line": {
          "color": "red",
          "width": 2
         },
         "marker": {
          "size": 4
         },
         "mode": "lines+markers",
         "type": "scatter3d",
         "x": [
          62,
          66
         ],
         "y": [
          51,
          55
         ],
         "z": [
          59,
          63
         ]
        },
        {
         "line": {
          "color": "red",
          "width": 2
         },
         "marker": {
          "size": 4
         },
         "mode": "lines+markers",
         "type": "scatter3d",
         "x": [
          66,
          62
         ],
         "y": [
          55,
          57
         ],
         "z": [
          63,
          67
         ]
        },
        {
         "line": {
          "color": "red",
          "width": 2
         },
         "marker": {
          "size": 4
         },
         "mode": "lines+markers",
         "type": "scatter3d",
         "x": [
          62,
          67
         ],
         "y": [
          57,
          58
         ],
         "z": [
          67,
          71
         ]
        },
        {
         "line": {
          "color": "red",
          "width": 2
         },
         "marker": {
          "size": 4
         },
         "mode": "lines+markers",
         "type": "scatter3d",
         "x": [
          67,
          69
         ],
         "y": [
          58,
          63
         ],
         "z": [
          71,
          72
         ]
        },
        {
         "line": {
          "color": "red",
          "width": 2
         },
         "marker": {
          "size": 4
         },
         "mode": "lines+markers",
         "type": "scatter3d",
         "x": [
          69,
          74
         ],
         "y": [
          63,
          63
         ],
         "z": [
          72,
          74
         ]
        },
        {
         "line": {
          "color": "red",
          "width": 2
         },
         "marker": {
          "size": 4
         },
         "mode": "lines+markers",
         "type": "scatter3d",
         "x": [
          74,
          79
         ],
         "y": [
          63,
          66
         ],
         "z": [
          74,
          76
         ]
        },
        {
         "line": {
          "color": "red",
          "width": 2
         },
         "marker": {
          "size": 4
         },
         "mode": "lines+markers",
         "type": "scatter3d",
         "x": [
          79,
          81
         ],
         "y": [
          66,
          71
         ],
         "z": [
          76,
          80
         ]
        },
        {
         "line": {
          "color": "red",
          "width": 2
         },
         "marker": {
          "size": 4
         },
         "mode": "lines+markers",
         "type": "scatter3d",
         "x": [
          81,
          85
         ],
         "y": [
          71,
          75
         ],
         "z": [
          80,
          84
         ]
        },
        {
         "line": {
          "color": "red",
          "width": 2
         },
         "marker": {
          "size": 4
         },
         "mode": "lines+markers",
         "type": "scatter3d",
         "x": [
          85,
          90
         ],
         "y": [
          75,
          77
         ],
         "z": [
          84,
          86
         ]
        },
        {
         "line": {
          "color": "red",
          "width": 2
         },
         "marker": {
          "size": 4
         },
         "mode": "lines+markers",
         "type": "scatter3d",
         "x": [
          90,
          90
         ],
         "y": [
          77,
          82
         ],
         "z": [
          86,
          87
         ]
        },
        {
         "line": {
          "color": "red",
          "width": 2
         },
         "marker": {
          "size": 4
         },
         "mode": "lines+markers",
         "type": "scatter3d",
         "x": [
          90,
          92
         ],
         "y": [
          82,
          87
         ],
         "z": [
          87,
          91
         ]
        },
        {
         "line": {
          "color": "red",
          "width": 2
         },
         "marker": {
          "size": 4
         },
         "mode": "lines+markers",
         "type": "scatter3d",
         "x": [
          92,
          92
         ],
         "y": [
          87,
          92
         ],
         "z": [
          91,
          95
         ]
        },
        {
         "line": {
          "color": "red",
          "width": 2
         },
         "marker": {
          "size": 4
         },
         "mode": "lines+markers",
         "type": "scatter3d",
         "x": [
          92,
          96
         ],
         "y": [
          92,
          96
         ],
         "z": [
          95,
          96
         ]
        },
        {
         "line": {
          "color": "red",
          "width": 2
         },
         "marker": {
          "size": 4
         },
         "mode": "lines+markers",
         "type": "scatter3d",
         "x": [
          96,
          100
         ],
         "y": [
          96,
          100
         ],
         "z": [
          96,
          100
         ]
        },
        {
         "line": {
          "color": "green",
          "width": 2
         },
         "marker": {
          "size": 5
         },
         "mode": "lines+markers",
         "type": "scatter3d",
         "x": [
          5,
          29
         ],
         "y": [
          8,
          13
         ],
         "z": [
          10,
          53
         ]
        },
        {
         "line": {
          "color": "green",
          "width": 2
         },
         "marker": {
          "size": 5
         },
         "mode": "lines+markers",
         "type": "scatter3d",
         "x": [
          29,
          37
         ],
         "y": [
          13,
          48
         ],
         "z": [
          53,
          62
         ]
        },
        {
         "line": {
          "color": "green",
          "width": 2
         },
         "marker": {
          "size": 5
         },
         "mode": "lines+markers",
         "type": "scatter3d",
         "x": [
          37,
          62
         ],
         "y": [
          48,
          51
         ],
         "z": [
          62,
          59
         ]
        },
        {
         "line": {
          "color": "green",
          "width": 2
         },
         "marker": {
          "size": 5
         },
         "mode": "lines+markers",
         "type": "scatter3d",
         "x": [
          62,
          69
         ],
         "y": [
          51,
          63
         ],
         "z": [
          59,
          72
         ]
        },
        {
         "line": {
          "color": "green",
          "width": 2
         },
         "marker": {
          "size": 5
         },
         "mode": "lines+markers",
         "type": "scatter3d",
         "x": [
          69,
          100
         ],
         "y": [
          63,
          100
         ],
         "z": [
          72,
          100
         ]
        },
        {
         "line": {
          "color": "gray"
         },
         "mode": "lines",
         "type": "scatter3d",
         "x": [
          0,
          0,
          10,
          10,
          0
         ],
         "y": [
          0,
          10,
          10,
          0,
          0
         ],
         "z": [
          0,
          0,
          0,
          0,
          0
         ]
        }
       ],
       "layout": {
        "scene": {
         "aspectmode": "cube"
        },
        "template": {
         "data": {
          "bar": [
           {
            "error_x": {
             "color": "#2a3f5f"
            },
            "error_y": {
             "color": "#2a3f5f"
            },
            "marker": {
             "line": {
              "color": "#E5ECF6",
              "width": 0.5
             },
             "pattern": {
              "fillmode": "overlay",
              "size": 10,
              "solidity": 0.2
             }
            },
            "type": "bar"
           }
          ],
          "barpolar": [
           {
            "marker": {
             "line": {
              "color": "#E5ECF6",
              "width": 0.5
             },
             "pattern": {
              "fillmode": "overlay",
              "size": 10,
              "solidity": 0.2
             }
            },
            "type": "barpolar"
           }
          ],
          "carpet": [
           {
            "aaxis": {
             "endlinecolor": "#2a3f5f",
             "gridcolor": "white",
             "linecolor": "white",
             "minorgridcolor": "white",
             "startlinecolor": "#2a3f5f"
            },
            "baxis": {
             "endlinecolor": "#2a3f5f",
             "gridcolor": "white",
             "linecolor": "white",
             "minorgridcolor": "white",
             "startlinecolor": "#2a3f5f"
            },
            "type": "carpet"
           }
          ],
          "choropleth": [
           {
            "colorbar": {
             "outlinewidth": 0,
             "ticks": ""
            },
            "type": "choropleth"
           }
          ],
          "contour": [
           {
            "colorbar": {
             "outlinewidth": 0,
             "ticks": ""
            },
            "colorscale": [
             [
              0,
              "#0d0887"
             ],
             [
              0.1111111111111111,
              "#46039f"
             ],
             [
              0.2222222222222222,
              "#7201a8"
             ],
             [
              0.3333333333333333,
              "#9c179e"
             ],
             [
              0.4444444444444444,
              "#bd3786"
             ],
             [
              0.5555555555555556,
              "#d8576b"
             ],
             [
              0.6666666666666666,
              "#ed7953"
             ],
             [
              0.7777777777777778,
              "#fb9f3a"
             ],
             [
              0.8888888888888888,
              "#fdca26"
             ],
             [
              1,
              "#f0f921"
             ]
            ],
            "type": "contour"
           }
          ],
          "contourcarpet": [
           {
            "colorbar": {
             "outlinewidth": 0,
             "ticks": ""
            },
            "type": "contourcarpet"
           }
          ],
          "heatmap": [
           {
            "colorbar": {
             "outlinewidth": 0,
             "ticks": ""
            },
            "colorscale": [
             [
              0,
              "#0d0887"
             ],
             [
              0.1111111111111111,
              "#46039f"
             ],
             [
              0.2222222222222222,
              "#7201a8"
             ],
             [
              0.3333333333333333,
              "#9c179e"
             ],
             [
              0.4444444444444444,
              "#bd3786"
             ],
             [
              0.5555555555555556,
              "#d8576b"
             ],
             [
              0.6666666666666666,
              "#ed7953"
             ],
             [
              0.7777777777777778,
              "#fb9f3a"
             ],
             [
              0.8888888888888888,
              "#fdca26"
             ],
             [
              1,
              "#f0f921"
             ]
            ],
            "type": "heatmap"
           }
          ],
          "heatmapgl": [
           {
            "colorbar": {
             "outlinewidth": 0,
             "ticks": ""
            },
            "colorscale": [
             [
              0,
              "#0d0887"
             ],
             [
              0.1111111111111111,
              "#46039f"
             ],
             [
              0.2222222222222222,
              "#7201a8"
             ],
             [
              0.3333333333333333,
              "#9c179e"
             ],
             [
              0.4444444444444444,
              "#bd3786"
             ],
             [
              0.5555555555555556,
              "#d8576b"
             ],
             [
              0.6666666666666666,
              "#ed7953"
             ],
             [
              0.7777777777777778,
              "#fb9f3a"
             ],
             [
              0.8888888888888888,
              "#fdca26"
             ],
             [
              1,
              "#f0f921"
             ]
            ],
            "type": "heatmapgl"
           }
          ],
          "histogram": [
           {
            "marker": {
             "pattern": {
              "fillmode": "overlay",
              "size": 10,
              "solidity": 0.2
             }
            },
            "type": "histogram"
           }
          ],
          "histogram2d": [
           {
            "colorbar": {
             "outlinewidth": 0,
             "ticks": ""
            },
            "colorscale": [
             [
              0,
              "#0d0887"
             ],
             [
              0.1111111111111111,
              "#46039f"
             ],
             [
              0.2222222222222222,
              "#7201a8"
             ],
             [
              0.3333333333333333,
              "#9c179e"
             ],
             [
              0.4444444444444444,
              "#bd3786"
             ],
             [
              0.5555555555555556,
              "#d8576b"
             ],
             [
              0.6666666666666666,
              "#ed7953"
             ],
             [
              0.7777777777777778,
              "#fb9f3a"
             ],
             [
              0.8888888888888888,
              "#fdca26"
             ],
             [
              1,
              "#f0f921"
             ]
            ],
            "type": "histogram2d"
           }
          ],
          "histogram2dcontour": [
           {
            "colorbar": {
             "outlinewidth": 0,
             "ticks": ""
            },
            "colorscale": [
             [
              0,
              "#0d0887"
             ],
             [
              0.1111111111111111,
              "#46039f"
             ],
             [
              0.2222222222222222,
              "#7201a8"
             ],
             [
              0.3333333333333333,
              "#9c179e"
             ],
             [
              0.4444444444444444,
              "#bd3786"
             ],
             [
              0.5555555555555556,
              "#d8576b"
             ],
             [
              0.6666666666666666,
              "#ed7953"
             ],
             [
              0.7777777777777778,
              "#fb9f3a"
             ],
             [
              0.8888888888888888,
              "#fdca26"
             ],
             [
              1,
              "#f0f921"
             ]
            ],
            "type": "histogram2dcontour"
           }
          ],
          "mesh3d": [
           {
            "colorbar": {
             "outlinewidth": 0,
             "ticks": ""
            },
            "type": "mesh3d"
           }
          ],
          "parcoords": [
           {
            "line": {
             "colorbar": {
              "outlinewidth": 0,
              "ticks": ""
             }
            },
            "type": "parcoords"
           }
          ],
          "pie": [
           {
            "automargin": true,
            "type": "pie"
           }
          ],
          "scatter": [
           {
            "fillpattern": {
             "fillmode": "overlay",
             "size": 10,
             "solidity": 0.2
            },
            "type": "scatter"
           }
          ],
          "scatter3d": [
           {
            "line": {
             "colorbar": {
              "outlinewidth": 0,
              "ticks": ""
             }
            },
            "marker": {
             "colorbar": {
              "outlinewidth": 0,
              "ticks": ""
             }
            },
            "type": "scatter3d"
           }
          ],
          "scattercarpet": [
           {
            "marker": {
             "colorbar": {
              "outlinewidth": 0,
              "ticks": ""
             }
            },
            "type": "scattercarpet"
           }
          ],
          "scattergeo": [
           {
            "marker": {
             "colorbar": {
              "outlinewidth": 0,
              "ticks": ""
             }
            },
            "type": "scattergeo"
           }
          ],
          "scattergl": [
           {
            "marker": {
             "colorbar": {
              "outlinewidth": 0,
              "ticks": ""
             }
            },
            "type": "scattergl"
           }
          ],
          "scattermapbox": [
           {
            "marker": {
             "colorbar": {
              "outlinewidth": 0,
              "ticks": ""
             }
            },
            "type": "scattermapbox"
           }
          ],
          "scatterpolar": [
           {
            "marker": {
             "colorbar": {
              "outlinewidth": 0,
              "ticks": ""
             }
            },
            "type": "scatterpolar"
           }
          ],
          "scatterpolargl": [
           {
            "marker": {
             "colorbar": {
              "outlinewidth": 0,
              "ticks": ""
             }
            },
            "type": "scatterpolargl"
           }
          ],
          "scatterternary": [
           {
            "marker": {
             "colorbar": {
              "outlinewidth": 0,
              "ticks": ""
             }
            },
            "type": "scatterternary"
           }
          ],
          "surface": [
           {
            "colorbar": {
             "outlinewidth": 0,
             "ticks": ""
            },
            "colorscale": [
             [
              0,
              "#0d0887"
             ],
             [
              0.1111111111111111,
              "#46039f"
             ],
             [
              0.2222222222222222,
              "#7201a8"
             ],
             [
              0.3333333333333333,
              "#9c179e"
             ],
             [
              0.4444444444444444,
              "#bd3786"
             ],
             [
              0.5555555555555556,
              "#d8576b"
             ],
             [
              0.6666666666666666,
              "#ed7953"
             ],
             [
              0.7777777777777778,
              "#fb9f3a"
             ],
             [
              0.8888888888888888,
              "#fdca26"
             ],
             [
              1,
              "#f0f921"
             ]
            ],
            "type": "surface"
           }
          ],
          "table": [
           {
            "cells": {
             "fill": {
              "color": "#EBF0F8"
             },
             "line": {
              "color": "white"
             }
            },
            "header": {
             "fill": {
              "color": "#C8D4E3"
             },
             "line": {
              "color": "white"
             }
            },
            "type": "table"
           }
          ]
         },
         "layout": {
          "annotationdefaults": {
           "arrowcolor": "#2a3f5f",
           "arrowhead": 0,
           "arrowwidth": 1
          },
          "autotypenumbers": "strict",
          "coloraxis": {
           "colorbar": {
            "outlinewidth": 0,
            "ticks": ""
           }
          },
          "colorscale": {
           "diverging": [
            [
             0,
             "#8e0152"
            ],
            [
             0.1,
             "#c51b7d"
            ],
            [
             0.2,
             "#de77ae"
            ],
            [
             0.3,
             "#f1b6da"
            ],
            [
             0.4,
             "#fde0ef"
            ],
            [
             0.5,
             "#f7f7f7"
            ],
            [
             0.6,
             "#e6f5d0"
            ],
            [
             0.7,
             "#b8e186"
            ],
            [
             0.8,
             "#7fbc41"
            ],
            [
             0.9,
             "#4d9221"
            ],
            [
             1,
             "#276419"
            ]
           ],
           "sequential": [
            [
             0,
             "#0d0887"
            ],
            [
             0.1111111111111111,
             "#46039f"
            ],
            [
             0.2222222222222222,
             "#7201a8"
            ],
            [
             0.3333333333333333,
             "#9c179e"
            ],
            [
             0.4444444444444444,
             "#bd3786"
            ],
            [
             0.5555555555555556,
             "#d8576b"
            ],
            [
             0.6666666666666666,
             "#ed7953"
            ],
            [
             0.7777777777777778,
             "#fb9f3a"
            ],
            [
             0.8888888888888888,
             "#fdca26"
            ],
            [
             1,
             "#f0f921"
            ]
           ],
           "sequentialminus": [
            [
             0,
             "#0d0887"
            ],
            [
             0.1111111111111111,
             "#46039f"
            ],
            [
             0.2222222222222222,
             "#7201a8"
            ],
            [
             0.3333333333333333,
             "#9c179e"
            ],
            [
             0.4444444444444444,
             "#bd3786"
            ],
            [
             0.5555555555555556,
             "#d8576b"
            ],
            [
             0.6666666666666666,
             "#ed7953"
            ],
            [
             0.7777777777777778,
             "#fb9f3a"
            ],
            [
             0.8888888888888888,
             "#fdca26"
            ],
            [
             1,
             "#f0f921"
            ]
           ]
          },
          "colorway": [
           "#636efa",
           "#EF553B",
           "#00cc96",
           "#ab63fa",
           "#FFA15A",
           "#19d3f3",
           "#FF6692",
           "#B6E880",
           "#FF97FF",
           "#FECB52"
          ],
          "font": {
           "color": "#2a3f5f"
          },
          "geo": {
           "bgcolor": "white",
           "lakecolor": "white",
           "landcolor": "#E5ECF6",
           "showlakes": true,
           "showland": true,
           "subunitcolor": "white"
          },
          "hoverlabel": {
           "align": "left"
          },
          "hovermode": "closest",
          "mapbox": {
           "style": "light"
          },
          "paper_bgcolor": "white",
          "plot_bgcolor": "#E5ECF6",
          "polar": {
           "angularaxis": {
            "gridcolor": "white",
            "linecolor": "white",
            "ticks": ""
           },
           "bgcolor": "#E5ECF6",
           "radialaxis": {
            "gridcolor": "white",
            "linecolor": "white",
            "ticks": ""
           }
          },
          "scene": {
           "xaxis": {
            "backgroundcolor": "#E5ECF6",
            "gridcolor": "white",
            "gridwidth": 2,
            "linecolor": "white",
            "showbackground": true,
            "ticks": "",
            "zerolinecolor": "white"
           },
           "yaxis": {
            "backgroundcolor": "#E5ECF6",
            "gridcolor": "white",
            "gridwidth": 2,
            "linecolor": "white",
            "showbackground": true,
            "ticks": "",
            "zerolinecolor": "white"
           },
           "zaxis": {
            "backgroundcolor": "#E5ECF6",
            "gridcolor": "white",
            "gridwidth": 2,
            "linecolor": "white",
            "showbackground": true,
            "ticks": "",
            "zerolinecolor": "white"
           }
          },
          "shapedefaults": {
           "line": {
            "color": "#2a3f5f"
           }
          },
          "ternary": {
           "aaxis": {
            "gridcolor": "white",
            "linecolor": "white",
            "ticks": ""
           },
           "baxis": {
            "gridcolor": "white",
            "linecolor": "white",
            "ticks": ""
           },
           "bgcolor": "#E5ECF6",
           "caxis": {
            "gridcolor": "white",
            "linecolor": "white",
            "ticks": ""
           }
          },
          "title": {
           "x": 0.05
          },
          "xaxis": {
           "automargin": true,
           "gridcolor": "white",
           "linecolor": "white",
           "ticks": "",
           "title": {
            "standoff": 15
           },
           "zerolinecolor": "white",
           "zerolinewidth": 2
          },
          "yaxis": {
           "automargin": true,
           "gridcolor": "white",
           "linecolor": "white",
           "ticks": "",
           "title": {
            "standoff": 15
           },
           "zerolinecolor": "white",
           "zerolinewidth": 2
          }
         }
        }
       }
      }
     },
     "metadata": {},
     "output_type": "display_data"
    }
   ],
   "source": [
    "def main():\n",
    "    #balance between extending and biasing\t\n",
    "\tfor i in range(0,maxIter):\n",
    "\t\tif i%10!=0: tree.expand()\n",
    "\t\telse: tree.bias()\n",
    "\t#check if sample is in goal, if so STOP!\t\t\n",
    "\t\tif environment.goalRange()==1:\n",
    "\t\t\tprint (\"found\")\n",
    "\t\t\tbreak\n",
    "\ttree.pathToGoal()\n",
    "\ttree.prun()\n",
    "\t\t\n",
    "\t#display initial plan under limited sensing\n",
    "\tdraw()\n",
    "\t\n",
    "fig.write_html(\"RRT3d_Plot.html\")\n",
    "\n",
    " \n",
    "# run main when RRT is called\n",
    "if __name__ == '__main__':\n",
    "    main()"
   ]
  }
 ],
 "metadata": {
  "kernelspec": {
   "display_name": "Python 3",
   "language": "python",
   "name": "python3"
  },
  "language_info": {
   "codemirror_mode": {
    "name": "ipython",
    "version": 3
   },
   "file_extension": ".py",
   "mimetype": "text/x-python",
   "name": "python",
   "nbconvert_exporter": "python",
   "pygments_lexer": "ipython3",
   "version": "3.10.12"
  }
 },
 "nbformat": 4,
 "nbformat_minor": 2
}
